{
 "cells": [
  {
   "cell_type": "markdown",
   "metadata": {},
   "source": [
    "# Applied Data Science Capstone Project #"
   ]
  },
  {
   "cell_type": "markdown",
   "metadata": {},
   "source": [
    "## 1. Introduction ##"
   ]
  },
  {
   "cell_type": "markdown",
   "metadata": {},
   "source": [
    "### 1.1. Background ###"
   ]
  },
  {
   "cell_type": "markdown",
   "metadata": {},
   "source": [
    "Istanbul is the largest city in Turkey, constituting the country's economic, cultural, and historical heart. Istanbul is a transcontinental city in Eurasia, with its commercial and historical centre lying on the European side and about a third of its population living on the Asian side of Eurasia. With a population of 15.07 million as of December 31 2018, the city forms the largest urban agglomeration in Europe as well as the largest in the Middle East, and the sixth-largest city proper in the world. Istanbul's vast area of 2,063 square miles is coterminous with Istanbul Province, of which the city is the administrative capital.\n",
    "\n",
    "Istanbul has population density is 6,530 people per square mile and it has 39 districts in total.\n",
    "\n",
    "Due to its historical significance and being in the intersection of three continents Istanbul is also known for great food. This makes Istanbul a desirable destination for tourist attraction and food related business opportunies."
   ]
  },
  {
   "cell_type": "markdown",
   "metadata": {},
   "source": [
    "### 1.2. Problem ###"
   ]
  },
  {
   "cell_type": "markdown",
   "metadata": {},
   "source": [
    "Istanbul already has a lot of restaurants. How should we decide the best location for another one?\n",
    "\n",
    "In this project, I will examine and find the best location for opening a new restaurant."
   ]
  },
  {
   "cell_type": "markdown",
   "metadata": {},
   "source": [
    "### 1.3. Interest ###"
   ]
  },
  {
   "cell_type": "markdown",
   "metadata": {},
   "source": [
    "The results of this project can be helpful for investors, employees, suppliers, and food enthusiasts."
   ]
  },
  {
   "cell_type": "markdown",
   "metadata": {},
   "source": [
    "## 2. Data Acquisition and Cleaning ##"
   ]
  },
  {
   "cell_type": "markdown",
   "metadata": {},
   "source": [
    "### 2.1. Data sources ###"
   ]
  },
  {
   "cell_type": "markdown",
   "metadata": {},
   "source": [
    "- [Second-level Administrative Divisions, Turkey, 2015](https://geo.nyu.edu/catalog/stanford-nj696zj1674) from Spatial Data Repository of NYU: A geojson file with the geometry objects of the districts of the cities of Turkey. For this project, I will extract the rows for Istanbul and find the center points for each borough.\n",
    "\n",
    "- [Foursquare API](https://developer.foursquare.com/): Will be used for finding the restaurants in each borough."
   ]
  },
  {
   "cell_type": "markdown",
   "metadata": {},
   "source": [
    "### 2.2. Data Acquisition and Cleaning ###"
   ]
  },
  {
   "cell_type": "markdown",
   "metadata": {},
   "source": [
    "Install and import required libraries"
   ]
  },
  {
   "cell_type": "code",
   "execution_count": 1,
   "metadata": {},
   "outputs": [
    {
     "name": "stdout",
     "output_type": "stream",
     "text": [
      "Requirement already satisfied: geopandas in /usr/local/anaconda3/lib/python3.7/site-packages (0.5.0)\n",
      "Requirement already satisfied: pandas in /usr/local/anaconda3/lib/python3.7/site-packages (from geopandas) (0.23.4)\n",
      "Requirement already satisfied: shapely in /usr/local/anaconda3/lib/python3.7/site-packages (from geopandas) (1.6.4.post2)\n",
      "Requirement already satisfied: pyproj in /usr/local/anaconda3/lib/python3.7/site-packages (from geopandas) (2.1.3)\n",
      "Requirement already satisfied: fiona in /usr/local/anaconda3/lib/python3.7/site-packages (from geopandas) (1.8.6)\n",
      "Requirement already satisfied: python-dateutil>=2.5.0 in /usr/local/anaconda3/lib/python3.7/site-packages (from pandas->geopandas) (2.7.5)\n",
      "Requirement already satisfied: pytz>=2011k in /usr/local/anaconda3/lib/python3.7/site-packages (from pandas->geopandas) (2018.7)\n",
      "Requirement already satisfied: numpy>=1.9.0 in /usr/local/anaconda3/lib/python3.7/site-packages (from pandas->geopandas) (1.15.4)\n",
      "Requirement already satisfied: munch in /usr/local/anaconda3/lib/python3.7/site-packages (from fiona->geopandas) (2.3.2)\n",
      "Requirement already satisfied: six>=1.7 in /usr/local/anaconda3/lib/python3.7/site-packages (from fiona->geopandas) (1.12.0)\n",
      "Requirement already satisfied: attrs>=17 in /usr/local/anaconda3/lib/python3.7/site-packages (from fiona->geopandas) (18.2.0)\n",
      "Requirement already satisfied: click-plugins>=1.0 in /usr/local/anaconda3/lib/python3.7/site-packages (from fiona->geopandas) (1.1.1)\n",
      "Requirement already satisfied: cligj>=0.5 in /usr/local/anaconda3/lib/python3.7/site-packages (from fiona->geopandas) (0.5.0)\n",
      "Requirement already satisfied: click<8,>=4.0 in /usr/local/anaconda3/lib/python3.7/site-packages (from fiona->geopandas) (7.0)\n"
     ]
    }
   ],
   "source": [
    "import pandas as pd\n",
    "!pip install geopandas\n",
    "import geopandas as gpd"
   ]
  },
  {
   "cell_type": "markdown",
   "metadata": {},
   "source": [
    "Read the geojson file into a dataframe"
   ]
  },
  {
   "cell_type": "code",
   "execution_count": 2,
   "metadata": {},
   "outputs": [],
   "source": [
    "df = gpd.read_file(\"https://geo.nyu.edu/download/file/stanford-nj696zj1674-geojson.json\")"
   ]
  },
  {
   "cell_type": "markdown",
   "metadata": {},
   "source": [
    "Look at the first 5 rows of the dataframe"
   ]
  },
  {
   "cell_type": "code",
   "execution_count": 3,
   "metadata": {},
   "outputs": [
    {
     "data": {
      "text/html": [
       "<div>\n",
       "<style scoped>\n",
       "    .dataframe tbody tr th:only-of-type {\n",
       "        vertical-align: middle;\n",
       "    }\n",
       "\n",
       "    .dataframe tbody tr th {\n",
       "        vertical-align: top;\n",
       "    }\n",
       "\n",
       "    .dataframe thead th {\n",
       "        text-align: right;\n",
       "    }\n",
       "</style>\n",
       "<table border=\"1\" class=\"dataframe\">\n",
       "  <thead>\n",
       "    <tr style=\"text-align: right;\">\n",
       "      <th></th>\n",
       "      <th>id</th>\n",
       "      <th>id_0</th>\n",
       "      <th>iso</th>\n",
       "      <th>name_0</th>\n",
       "      <th>id_1</th>\n",
       "      <th>name_1</th>\n",
       "      <th>id_2</th>\n",
       "      <th>name_2</th>\n",
       "      <th>hasc_2</th>\n",
       "      <th>ccn_2</th>\n",
       "      <th>cca_2</th>\n",
       "      <th>type_2</th>\n",
       "      <th>engtype_2</th>\n",
       "      <th>nl_name_2</th>\n",
       "      <th>varname_2</th>\n",
       "      <th>geometry</th>\n",
       "    </tr>\n",
       "  </thead>\n",
       "  <tbody>\n",
       "    <tr>\n",
       "      <th>0</th>\n",
       "      <td>nj696zj1674.1</td>\n",
       "      <td>235</td>\n",
       "      <td>TUR</td>\n",
       "      <td>Turkey</td>\n",
       "      <td>1</td>\n",
       "      <td>Çanakkale</td>\n",
       "      <td>1</td>\n",
       "      <td>Çan</td>\n",
       "      <td>TR.CK.CA</td>\n",
       "      <td>0</td>\n",
       "      <td>None</td>\n",
       "      <td>District</td>\n",
       "      <td>District</td>\n",
       "      <td>None</td>\n",
       "      <td>None</td>\n",
       "      <td>(POLYGON ((26.98407936 39.86386108, 26.9731197...</td>\n",
       "    </tr>\n",
       "    <tr>\n",
       "      <th>1</th>\n",
       "      <td>nj696zj1674.2</td>\n",
       "      <td>235</td>\n",
       "      <td>TUR</td>\n",
       "      <td>Turkey</td>\n",
       "      <td>1</td>\n",
       "      <td>Çanakkale</td>\n",
       "      <td>2</td>\n",
       "      <td>Ayvacık</td>\n",
       "      <td>TR.CK.AY</td>\n",
       "      <td>0</td>\n",
       "      <td>None</td>\n",
       "      <td>District</td>\n",
       "      <td>District</td>\n",
       "      <td>None</td>\n",
       "      <td>None</td>\n",
       "      <td>(POLYGON ((26.44069481 39.51625061, 26.4404163...</td>\n",
       "    </tr>\n",
       "    <tr>\n",
       "      <th>2</th>\n",
       "      <td>nj696zj1674.3</td>\n",
       "      <td>235</td>\n",
       "      <td>TUR</td>\n",
       "      <td>Turkey</td>\n",
       "      <td>1</td>\n",
       "      <td>Çanakkale</td>\n",
       "      <td>3</td>\n",
       "      <td>Bayramiç</td>\n",
       "      <td>TR.CK.BA</td>\n",
       "      <td>0</td>\n",
       "      <td>None</td>\n",
       "      <td>District</td>\n",
       "      <td>District</td>\n",
       "      <td>None</td>\n",
       "      <td>None</td>\n",
       "      <td>(POLYGON ((26.4226017 39.69835663, 26.42402458...</td>\n",
       "    </tr>\n",
       "    <tr>\n",
       "      <th>3</th>\n",
       "      <td>nj696zj1674.4</td>\n",
       "      <td>235</td>\n",
       "      <td>TUR</td>\n",
       "      <td>Turkey</td>\n",
       "      <td>1</td>\n",
       "      <td>Çanakkale</td>\n",
       "      <td>4</td>\n",
       "      <td>Biga</td>\n",
       "      <td>TR.CK.BI</td>\n",
       "      <td>0</td>\n",
       "      <td>None</td>\n",
       "      <td>District</td>\n",
       "      <td>District</td>\n",
       "      <td>None</td>\n",
       "      <td>None</td>\n",
       "      <td>(POLYGON ((27.57680511 40.31188583, 27.5807285...</td>\n",
       "    </tr>\n",
       "    <tr>\n",
       "      <th>4</th>\n",
       "      <td>nj696zj1674.5</td>\n",
       "      <td>235</td>\n",
       "      <td>TUR</td>\n",
       "      <td>Turkey</td>\n",
       "      <td>1</td>\n",
       "      <td>Çanakkale</td>\n",
       "      <td>5</td>\n",
       "      <td>Bozcaada</td>\n",
       "      <td>TR.CK.BO</td>\n",
       "      <td>0</td>\n",
       "      <td>None</td>\n",
       "      <td>District</td>\n",
       "      <td>District</td>\n",
       "      <td>None</td>\n",
       "      <td>None</td>\n",
       "      <td>(POLYGON ((26.06097221 39.9406929, 26.06097221...</td>\n",
       "    </tr>\n",
       "  </tbody>\n",
       "</table>\n",
       "</div>"
      ],
      "text/plain": [
       "              id  id_0  iso  name_0  id_1     name_1  id_2    name_2  \\\n",
       "0  nj696zj1674.1   235  TUR  Turkey     1  Çanakkale     1       Çan   \n",
       "1  nj696zj1674.2   235  TUR  Turkey     1  Çanakkale     2   Ayvacık   \n",
       "2  nj696zj1674.3   235  TUR  Turkey     1  Çanakkale     3  Bayramiç   \n",
       "3  nj696zj1674.4   235  TUR  Turkey     1  Çanakkale     4      Biga   \n",
       "4  nj696zj1674.5   235  TUR  Turkey     1  Çanakkale     5  Bozcaada   \n",
       "\n",
       "     hasc_2  ccn_2 cca_2    type_2 engtype_2 nl_name_2 varname_2  \\\n",
       "0  TR.CK.CA      0  None  District  District      None      None   \n",
       "1  TR.CK.AY      0  None  District  District      None      None   \n",
       "2  TR.CK.BA      0  None  District  District      None      None   \n",
       "3  TR.CK.BI      0  None  District  District      None      None   \n",
       "4  TR.CK.BO      0  None  District  District      None      None   \n",
       "\n",
       "                                            geometry  \n",
       "0  (POLYGON ((26.98407936 39.86386108, 26.9731197...  \n",
       "1  (POLYGON ((26.44069481 39.51625061, 26.4404163...  \n",
       "2  (POLYGON ((26.4226017 39.69835663, 26.42402458...  \n",
       "3  (POLYGON ((27.57680511 40.31188583, 27.5807285...  \n",
       "4  (POLYGON ((26.06097221 39.9406929, 26.06097221...  "
      ]
     },
     "execution_count": 3,
     "metadata": {},
     "output_type": "execute_result"
    }
   ],
   "source": [
    "df.head()"
   ]
  },
  {
   "cell_type": "markdown",
   "metadata": {},
   "source": [
    "Filter the necessary columns into df2"
   ]
  },
  {
   "cell_type": "code",
   "execution_count": 4,
   "metadata": {},
   "outputs": [],
   "source": [
    "df2 = df[['name_1', 'name_2', 'geometry']]"
   ]
  },
  {
   "cell_type": "markdown",
   "metadata": {},
   "source": [
    "Filter the rows with city name 'Istanbul'"
   ]
  },
  {
   "cell_type": "code",
   "execution_count": 5,
   "metadata": {},
   "outputs": [],
   "source": [
    "df2 = df2[df2['name_1'] == 'Istanbul']"
   ]
  },
  {
   "cell_type": "markdown",
   "metadata": {},
   "source": [
    "Reset index"
   ]
  },
  {
   "cell_type": "code",
   "execution_count": 6,
   "metadata": {},
   "outputs": [],
   "source": [
    "df2.reset_index(inplace=True, drop=True)"
   ]
  },
  {
   "cell_type": "markdown",
   "metadata": {},
   "source": [
    "Take a look at the dataframe"
   ]
  },
  {
   "cell_type": "code",
   "execution_count": 7,
   "metadata": {
    "scrolled": true
   },
   "outputs": [
    {
     "data": {
      "text/html": [
       "<div>\n",
       "<style scoped>\n",
       "    .dataframe tbody tr th:only-of-type {\n",
       "        vertical-align: middle;\n",
       "    }\n",
       "\n",
       "    .dataframe tbody tr th {\n",
       "        vertical-align: top;\n",
       "    }\n",
       "\n",
       "    .dataframe thead th {\n",
       "        text-align: right;\n",
       "    }\n",
       "</style>\n",
       "<table border=\"1\" class=\"dataframe\">\n",
       "  <thead>\n",
       "    <tr style=\"text-align: right;\">\n",
       "      <th></th>\n",
       "      <th>name_1</th>\n",
       "      <th>name_2</th>\n",
       "      <th>geometry</th>\n",
       "    </tr>\n",
       "  </thead>\n",
       "  <tbody>\n",
       "    <tr>\n",
       "      <th>0</th>\n",
       "      <td>Istanbul</td>\n",
       "      <td>Çatalca</td>\n",
       "      <td>(POLYGON ((28.54563522 41.38847351, 28.5436115...</td>\n",
       "    </tr>\n",
       "    <tr>\n",
       "      <th>1</th>\n",
       "      <td>Istanbul</td>\n",
       "      <td>Çekmekoy</td>\n",
       "      <td>(POLYGON ((29.17944717 41.02779007, 29.1788482...</td>\n",
       "    </tr>\n",
       "    <tr>\n",
       "      <th>2</th>\n",
       "      <td>Istanbul</td>\n",
       "      <td>Adalar</td>\n",
       "      <td>(POLYGON ((29.0518055 40.91485977, 29.0518055 ...</td>\n",
       "    </tr>\n",
       "    <tr>\n",
       "      <th>3</th>\n",
       "      <td>Istanbul</td>\n",
       "      <td>Ümraniye</td>\n",
       "      <td>(POLYGON ((29.17944717 41.02779007, 29.1770515...</td>\n",
       "    </tr>\n",
       "    <tr>\n",
       "      <th>4</th>\n",
       "      <td>Istanbul</td>\n",
       "      <td>Üsküdar</td>\n",
       "      <td>(POLYGON ((28.20846939 41.06986237, 28.2070827...</td>\n",
       "    </tr>\n",
       "  </tbody>\n",
       "</table>\n",
       "</div>"
      ],
      "text/plain": [
       "     name_1    name_2                                           geometry\n",
       "0  Istanbul   Çatalca  (POLYGON ((28.54563522 41.38847351, 28.5436115...\n",
       "1  Istanbul  Çekmekoy  (POLYGON ((29.17944717 41.02779007, 29.1788482...\n",
       "2  Istanbul    Adalar  (POLYGON ((29.0518055 40.91485977, 29.0518055 ...\n",
       "3  Istanbul  Ümraniye  (POLYGON ((29.17944717 41.02779007, 29.1770515...\n",
       "4  Istanbul   Üsküdar  (POLYGON ((28.20846939 41.06986237, 28.2070827..."
      ]
     },
     "execution_count": 7,
     "metadata": {},
     "output_type": "execute_result"
    }
   ],
   "source": [
    "df2.head()"
   ]
  },
  {
   "cell_type": "markdown",
   "metadata": {},
   "source": [
    "Since all boroughs are of Istanbul now, drop the \"name_1\" column"
   ]
  },
  {
   "cell_type": "code",
   "execution_count": 8,
   "metadata": {},
   "outputs": [],
   "source": [
    "df2.drop(['name_1'], axis=1, inplace=True)"
   ]
  },
  {
   "cell_type": "markdown",
   "metadata": {},
   "source": [
    "Correct the column names"
   ]
  },
  {
   "cell_type": "code",
   "execution_count": 9,
   "metadata": {},
   "outputs": [],
   "source": [
    "df2.rename(columns= {'name_2': 'Borough'}, inplace=True)"
   ]
  },
  {
   "cell_type": "markdown",
   "metadata": {},
   "source": [
    "Take another look at the dataframe"
   ]
  },
  {
   "cell_type": "code",
   "execution_count": 10,
   "metadata": {},
   "outputs": [
    {
     "data": {
      "text/html": [
       "<div>\n",
       "<style scoped>\n",
       "    .dataframe tbody tr th:only-of-type {\n",
       "        vertical-align: middle;\n",
       "    }\n",
       "\n",
       "    .dataframe tbody tr th {\n",
       "        vertical-align: top;\n",
       "    }\n",
       "\n",
       "    .dataframe thead th {\n",
       "        text-align: right;\n",
       "    }\n",
       "</style>\n",
       "<table border=\"1\" class=\"dataframe\">\n",
       "  <thead>\n",
       "    <tr style=\"text-align: right;\">\n",
       "      <th></th>\n",
       "      <th>Borough</th>\n",
       "      <th>geometry</th>\n",
       "    </tr>\n",
       "  </thead>\n",
       "  <tbody>\n",
       "    <tr>\n",
       "      <th>0</th>\n",
       "      <td>Çatalca</td>\n",
       "      <td>(POLYGON ((28.54563522 41.38847351, 28.5436115...</td>\n",
       "    </tr>\n",
       "    <tr>\n",
       "      <th>1</th>\n",
       "      <td>Çekmekoy</td>\n",
       "      <td>(POLYGON ((29.17944717 41.02779007, 29.1788482...</td>\n",
       "    </tr>\n",
       "    <tr>\n",
       "      <th>2</th>\n",
       "      <td>Adalar</td>\n",
       "      <td>(POLYGON ((29.0518055 40.91485977, 29.0518055 ...</td>\n",
       "    </tr>\n",
       "    <tr>\n",
       "      <th>3</th>\n",
       "      <td>Ümraniye</td>\n",
       "      <td>(POLYGON ((29.17944717 41.02779007, 29.1770515...</td>\n",
       "    </tr>\n",
       "    <tr>\n",
       "      <th>4</th>\n",
       "      <td>Üsküdar</td>\n",
       "      <td>(POLYGON ((28.20846939 41.06986237, 28.2070827...</td>\n",
       "    </tr>\n",
       "  </tbody>\n",
       "</table>\n",
       "</div>"
      ],
      "text/plain": [
       "    Borough                                           geometry\n",
       "0   Çatalca  (POLYGON ((28.54563522 41.38847351, 28.5436115...\n",
       "1  Çekmekoy  (POLYGON ((29.17944717 41.02779007, 29.1788482...\n",
       "2    Adalar  (POLYGON ((29.0518055 40.91485977, 29.0518055 ...\n",
       "3  Ümraniye  (POLYGON ((29.17944717 41.02779007, 29.1770515...\n",
       "4   Üsküdar  (POLYGON ((28.20846939 41.06986237, 28.2070827..."
      ]
     },
     "execution_count": 10,
     "metadata": {},
     "output_type": "execute_result"
    }
   ],
   "source": [
    "df2.head()"
   ]
  },
  {
   "cell_type": "markdown",
   "metadata": {},
   "source": [
    "Delete first dataframe to save memory"
   ]
  },
  {
   "cell_type": "code",
   "execution_count": 11,
   "metadata": {},
   "outputs": [],
   "source": [
    "del df"
   ]
  },
  {
   "cell_type": "markdown",
   "metadata": {},
   "source": [
    "Find the centers of the boroughs"
   ]
  },
  {
   "cell_type": "code",
   "execution_count": 12,
   "metadata": {},
   "outputs": [],
   "source": [
    "df2['Center'] = df2['geometry'].centroid"
   ]
  },
  {
   "cell_type": "markdown",
   "metadata": {},
   "source": [
    "Find the latitude and longitude of each borough center"
   ]
  },
  {
   "cell_type": "code",
   "execution_count": 13,
   "metadata": {},
   "outputs": [],
   "source": [
    "df2['Longitude'] = df2['Center'].apply(lambda p: p.x)\n",
    "df2['Latitude'] = df2['Center'].apply(lambda p: p.y)"
   ]
  },
  {
   "cell_type": "markdown",
   "metadata": {},
   "source": [
    "Look at the dataframe again"
   ]
  },
  {
   "cell_type": "code",
   "execution_count": 14,
   "metadata": {},
   "outputs": [
    {
     "data": {
      "text/html": [
       "<div>\n",
       "<style scoped>\n",
       "    .dataframe tbody tr th:only-of-type {\n",
       "        vertical-align: middle;\n",
       "    }\n",
       "\n",
       "    .dataframe tbody tr th {\n",
       "        vertical-align: top;\n",
       "    }\n",
       "\n",
       "    .dataframe thead th {\n",
       "        text-align: right;\n",
       "    }\n",
       "</style>\n",
       "<table border=\"1\" class=\"dataframe\">\n",
       "  <thead>\n",
       "    <tr style=\"text-align: right;\">\n",
       "      <th></th>\n",
       "      <th>Borough</th>\n",
       "      <th>geometry</th>\n",
       "      <th>Center</th>\n",
       "      <th>Longitude</th>\n",
       "      <th>Latitude</th>\n",
       "    </tr>\n",
       "  </thead>\n",
       "  <tbody>\n",
       "    <tr>\n",
       "      <th>0</th>\n",
       "      <td>Çatalca</td>\n",
       "      <td>(POLYGON ((28.54563522 41.38847351, 28.5436115...</td>\n",
       "      <td>POINT (28.40395065280459 41.3036808013895)</td>\n",
       "      <td>28.403951</td>\n",
       "      <td>41.303681</td>\n",
       "    </tr>\n",
       "    <tr>\n",
       "      <th>1</th>\n",
       "      <td>Çekmekoy</td>\n",
       "      <td>(POLYGON ((29.17944717 41.02779007, 29.1788482...</td>\n",
       "      <td>POINT (29.27865428644358 41.08152978930723)</td>\n",
       "      <td>29.278654</td>\n",
       "      <td>41.081530</td>\n",
       "    </tr>\n",
       "    <tr>\n",
       "      <th>2</th>\n",
       "      <td>Adalar</td>\n",
       "      <td>(POLYGON ((29.0518055 40.91485977, 29.0518055 ...</td>\n",
       "      <td>POINT (29.09589217657206 40.87084018625993)</td>\n",
       "      <td>29.095892</td>\n",
       "      <td>40.870840</td>\n",
       "    </tr>\n",
       "    <tr>\n",
       "      <th>3</th>\n",
       "      <td>Ümraniye</td>\n",
       "      <td>(POLYGON ((29.17944717 41.02779007, 29.1770515...</td>\n",
       "      <td>POINT (29.12329130594628 41.03728585521165)</td>\n",
       "      <td>29.123291</td>\n",
       "      <td>41.037286</td>\n",
       "    </tr>\n",
       "    <tr>\n",
       "      <th>4</th>\n",
       "      <td>Üsküdar</td>\n",
       "      <td>(POLYGON ((28.20846939 41.06986237, 28.2070827...</td>\n",
       "      <td>POINT (28.28742452864804 41.15882206752408)</td>\n",
       "      <td>28.287425</td>\n",
       "      <td>41.158822</td>\n",
       "    </tr>\n",
       "    <tr>\n",
       "      <th>5</th>\n",
       "      <td>Arnavutkoy</td>\n",
       "      <td>(POLYGON ((28.83302498 41.13262177, 28.8330497...</td>\n",
       "      <td>POINT (28.6924409915991 41.22317279934558)</td>\n",
       "      <td>28.692441</td>\n",
       "      <td>41.223173</td>\n",
       "    </tr>\n",
       "    <tr>\n",
       "      <th>6</th>\n",
       "      <td>Atasehir</td>\n",
       "      <td>(POLYGON ((29.06557083 41.01100922, 29.0655708...</td>\n",
       "      <td>POINT (29.11740618068368 41.00336549589552)</td>\n",
       "      <td>29.117406</td>\n",
       "      <td>41.003365</td>\n",
       "    </tr>\n",
       "    <tr>\n",
       "      <th>7</th>\n",
       "      <td>Avcılar</td>\n",
       "      <td>(POLYGON ((28.76737785 40.992836, 28.76796532 ...</td>\n",
       "      <td>POINT (28.72650253033136 41.02166473235334)</td>\n",
       "      <td>28.726503</td>\n",
       "      <td>41.021665</td>\n",
       "    </tr>\n",
       "    <tr>\n",
       "      <th>8</th>\n",
       "      <td>Şişli</td>\n",
       "      <td>(POLYGON ((29.00967216 41.10829926, 29.0085907...</td>\n",
       "      <td>POINT (28.98859883919462 41.10578935974578)</td>\n",
       "      <td>28.988599</td>\n",
       "      <td>41.105789</td>\n",
       "    </tr>\n",
       "    <tr>\n",
       "      <th>9</th>\n",
       "      <td>Şile</td>\n",
       "      <td>(POLYGON ((29.36600304 41.04473114, 29.3568592...</td>\n",
       "      <td>POINT (29.58191381839693 41.10711500169273)</td>\n",
       "      <td>29.581914</td>\n",
       "      <td>41.107115</td>\n",
       "    </tr>\n",
       "    <tr>\n",
       "      <th>10</th>\n",
       "      <td>Büyükçekmece</td>\n",
       "      <td>(POLYGON ((28.47485924 41.01847076, 28.4745826...</td>\n",
       "      <td>POINT (28.55479525684063 41.04887474218037)</td>\n",
       "      <td>28.554795</td>\n",
       "      <td>41.048875</td>\n",
       "    </tr>\n",
       "    <tr>\n",
       "      <th>11</th>\n",
       "      <td>Bağcılar</td>\n",
       "      <td>(POLYGON ((28.87145996 41.03858948, 28.8703727...</td>\n",
       "      <td>POINT (28.8384565827379 41.04588412344397)</td>\n",
       "      <td>28.838457</td>\n",
       "      <td>41.045884</td>\n",
       "    </tr>\n",
       "    <tr>\n",
       "      <th>12</th>\n",
       "      <td>Bahçelievler</td>\n",
       "      <td>(POLYGON ((28.87345314 41.00897598, 28.8703727...</td>\n",
       "      <td>POINT (28.8359282431322 41.01329662871535)</td>\n",
       "      <td>28.835928</td>\n",
       "      <td>41.013297</td>\n",
       "    </tr>\n",
       "    <tr>\n",
       "      <th>13</th>\n",
       "      <td>Bakırköy</td>\n",
       "      <td>(POLYGON ((28.76737785 40.992836, 28.77344131 ...</td>\n",
       "      <td>POINT (28.82703596940539 40.98364353469243)</td>\n",
       "      <td>28.827036</td>\n",
       "      <td>40.983644</td>\n",
       "    </tr>\n",
       "    <tr>\n",
       "      <th>14</th>\n",
       "      <td>Basaksehir</td>\n",
       "      <td>(POLYGON ((28.81419945 41.06014252, 28.8092155...</td>\n",
       "      <td>POINT (28.77343939687384 41.09465405361365)</td>\n",
       "      <td>28.773439</td>\n",
       "      <td>41.094654</td>\n",
       "    </tr>\n",
       "    <tr>\n",
       "      <th>15</th>\n",
       "      <td>Bayrampaşa</td>\n",
       "      <td>(POLYGON ((28.88167191 41.07979584, 28.8819294...</td>\n",
       "      <td>POINT (28.89512327137875 41.05509608840534)</td>\n",
       "      <td>28.895123</td>\n",
       "      <td>41.055096</td>\n",
       "    </tr>\n",
       "    <tr>\n",
       "      <th>16</th>\n",
       "      <td>Beşiktaş</td>\n",
       "      <td>(POLYGON ((29.00081825 41.09362793, 29.0010566...</td>\n",
       "      <td>POINT (29.0187579037237 41.07073950355829)</td>\n",
       "      <td>29.018758</td>\n",
       "      <td>41.070740</td>\n",
       "    </tr>\n",
       "    <tr>\n",
       "      <th>17</th>\n",
       "      <td>Beykoz</td>\n",
       "      <td>(POLYGON ((29.06652832 41.08597183, 29.0665283...</td>\n",
       "      <td>POINT (29.2022041936604 41.15210558195543)</td>\n",
       "      <td>29.202204</td>\n",
       "      <td>41.152106</td>\n",
       "    </tr>\n",
       "    <tr>\n",
       "      <th>18</th>\n",
       "      <td>Beylikduzu</td>\n",
       "      <td>(POLYGON ((28.6993103 40.97375107, 28.69930649...</td>\n",
       "      <td>POINT (28.6491815447371 40.98615599854893)</td>\n",
       "      <td>28.649182</td>\n",
       "      <td>40.986156</td>\n",
       "    </tr>\n",
       "    <tr>\n",
       "      <th>19</th>\n",
       "      <td>Beyoğlu</td>\n",
       "      <td>(POLYGON ((28.99400139 41.0331955, 28.99374962...</td>\n",
       "      <td>POINT (28.96695252119119 41.04073313656134)</td>\n",
       "      <td>28.966953</td>\n",
       "      <td>41.040733</td>\n",
       "    </tr>\n",
       "    <tr>\n",
       "      <th>20</th>\n",
       "      <td>Esenler</td>\n",
       "      <td>(POLYGON ((28.88167191 41.07979584, 28.8816738...</td>\n",
       "      <td>POINT (28.86754285951798 41.06498663424786)</td>\n",
       "      <td>28.867543</td>\n",
       "      <td>41.064987</td>\n",
       "    </tr>\n",
       "    <tr>\n",
       "      <th>21</th>\n",
       "      <td>Esenyurt</td>\n",
       "      <td>(POLYGON ((28.69646454 41.00767136, 28.6938629...</td>\n",
       "      <td>POINT (28.67143399153469 41.04567353291375)</td>\n",
       "      <td>28.671434</td>\n",
       "      <td>41.045674</td>\n",
       "    </tr>\n",
       "    <tr>\n",
       "      <th>22</th>\n",
       "      <td>Eyüp</td>\n",
       "      <td>(POLYGON ((28.93597221 41.04753876, 28.9359722...</td>\n",
       "      <td>POINT (28.89908925025039 41.1908599683908)</td>\n",
       "      <td>28.899089</td>\n",
       "      <td>41.190860</td>\n",
       "    </tr>\n",
       "    <tr>\n",
       "      <th>23</th>\n",
       "      <td>Fatih</td>\n",
       "      <td>(POLYGON ((28.93730164 41.04458237, 28.9373607...</td>\n",
       "      <td>POINT (28.94128672753635 41.01406336157621)</td>\n",
       "      <td>28.941287</td>\n",
       "      <td>41.014063</td>\n",
       "    </tr>\n",
       "    <tr>\n",
       "      <th>24</th>\n",
       "      <td>Güngören</td>\n",
       "      <td>(POLYGON ((28.88611794 41.00897598, 28.8842411...</td>\n",
       "      <td>POINT (28.87440566617538 41.02401985920037)</td>\n",
       "      <td>28.874406</td>\n",
       "      <td>41.024020</td>\n",
       "    </tr>\n",
       "    <tr>\n",
       "      <th>25</th>\n",
       "      <td>Gaziosmanpaşa</td>\n",
       "      <td>(POLYGON ((28.90963173 41.05575562, 28.9063282...</td>\n",
       "      <td>POINT (28.90479607069057 41.07521172923105)</td>\n",
       "      <td>28.904796</td>\n",
       "      <td>41.075212</td>\n",
       "    </tr>\n",
       "    <tr>\n",
       "      <th>26</th>\n",
       "      <td>Küçükçekmece</td>\n",
       "      <td>(POLYGON ((28.80242729 41.01086044, 28.8022804...</td>\n",
       "      <td>POINT (28.77973306672048 41.02975178622688)</td>\n",
       "      <td>28.779733</td>\n",
       "      <td>41.029752</td>\n",
       "    </tr>\n",
       "    <tr>\n",
       "      <th>27</th>\n",
       "      <td>Kağıthane</td>\n",
       "      <td>(POLYGON ((28.95554161 41.05889511, 28.9555110...</td>\n",
       "      <td>POINT (28.9695117439109 41.0852937837603)</td>\n",
       "      <td>28.969512</td>\n",
       "      <td>41.085294</td>\n",
       "    </tr>\n",
       "    <tr>\n",
       "      <th>28</th>\n",
       "      <td>Kadıköy</td>\n",
       "      <td>(POLYGON ((29.09809494 40.97864532, 29.0955390...</td>\n",
       "      <td>POINT (29.04879474298011 40.9951433401035)</td>\n",
       "      <td>29.048795</td>\n",
       "      <td>40.995143</td>\n",
       "    </tr>\n",
       "    <tr>\n",
       "      <th>29</th>\n",
       "      <td>Kartal</td>\n",
       "      <td>(POLYGON ((29.17291641 40.89117813, 29.1723613...</td>\n",
       "      <td>POINT (29.1795428703062 40.93256571779378)</td>\n",
       "      <td>29.179543</td>\n",
       "      <td>40.932566</td>\n",
       "    </tr>\n",
       "    <tr>\n",
       "      <th>30</th>\n",
       "      <td>Maltepe</td>\n",
       "      <td>(POLYGON ((29.19622803 40.96918488, 29.1914348...</td>\n",
       "      <td>POINT (29.13747625376364 40.9671747760431)</td>\n",
       "      <td>29.137476</td>\n",
       "      <td>40.967175</td>\n",
       "    </tr>\n",
       "    <tr>\n",
       "      <th>31</th>\n",
       "      <td>Pendik</td>\n",
       "      <td>(POLYGON ((29.17291641 40.89117813, 29.1782493...</td>\n",
       "      <td>POINT (29.32430391074496 40.97064187090434)</td>\n",
       "      <td>29.324304</td>\n",
       "      <td>40.970642</td>\n",
       "    </tr>\n",
       "    <tr>\n",
       "      <th>32</th>\n",
       "      <td>Sancaktepe</td>\n",
       "      <td>(POLYGON ((29.27528572 41.01808548, 29.2663536...</td>\n",
       "      <td>POINT (29.24680873105895 41.02322958493176)</td>\n",
       "      <td>29.246809</td>\n",
       "      <td>41.023230</td>\n",
       "    </tr>\n",
       "    <tr>\n",
       "      <th>33</th>\n",
       "      <td>Sarıyer</td>\n",
       "      <td>(POLYGON ((29.00967216 41.10829926, 29.0130405...</td>\n",
       "      <td>POINT (29.02788129551887 41.19186298488474)</td>\n",
       "      <td>29.027881</td>\n",
       "      <td>41.191863</td>\n",
       "    </tr>\n",
       "    <tr>\n",
       "      <th>34</th>\n",
       "      <td>Sultanbeyli</td>\n",
       "      <td>(POLYGON ((29.23159218 40.95143509, 29.2315902...</td>\n",
       "      <td>POINT (29.25697907328444 40.98252737303498)</td>\n",
       "      <td>29.256979</td>\n",
       "      <td>40.982527</td>\n",
       "    </tr>\n",
       "    <tr>\n",
       "      <th>35</th>\n",
       "      <td>Sultangazi</td>\n",
       "      <td>(POLYGON ((28.91596794 41.09086227, 28.9096660...</td>\n",
       "      <td>POINT (28.88087103211924 41.11716969229795)</td>\n",
       "      <td>28.880871</td>\n",
       "      <td>41.117170</td>\n",
       "    </tr>\n",
       "    <tr>\n",
       "      <th>36</th>\n",
       "      <td>Tuzla</td>\n",
       "      <td>(POLYGON ((29.28708267 40.84972382, 29.2870826...</td>\n",
       "      <td>POINT (29.3486255157824 40.91991904134964)</td>\n",
       "      <td>29.348626</td>\n",
       "      <td>40.919919</td>\n",
       "    </tr>\n",
       "    <tr>\n",
       "      <th>37</th>\n",
       "      <td>Zeytinburnu</td>\n",
       "      <td>(POLYGON ((28.91667557 40.98708344, 28.9151382...</td>\n",
       "      <td>POINT (28.89932616797512 41.00642581194283)</td>\n",
       "      <td>28.899326</td>\n",
       "      <td>41.006426</td>\n",
       "    </tr>\n",
       "  </tbody>\n",
       "</table>\n",
       "</div>"
      ],
      "text/plain": [
       "          Borough                                           geometry  \\\n",
       "0         Çatalca  (POLYGON ((28.54563522 41.38847351, 28.5436115...   \n",
       "1        Çekmekoy  (POLYGON ((29.17944717 41.02779007, 29.1788482...   \n",
       "2          Adalar  (POLYGON ((29.0518055 40.91485977, 29.0518055 ...   \n",
       "3        Ümraniye  (POLYGON ((29.17944717 41.02779007, 29.1770515...   \n",
       "4         Üsküdar  (POLYGON ((28.20846939 41.06986237, 28.2070827...   \n",
       "5      Arnavutkoy  (POLYGON ((28.83302498 41.13262177, 28.8330497...   \n",
       "6        Atasehir  (POLYGON ((29.06557083 41.01100922, 29.0655708...   \n",
       "7         Avcılar  (POLYGON ((28.76737785 40.992836, 28.76796532 ...   \n",
       "8           Şişli  (POLYGON ((29.00967216 41.10829926, 29.0085907...   \n",
       "9            Şile  (POLYGON ((29.36600304 41.04473114, 29.3568592...   \n",
       "10   Büyükçekmece  (POLYGON ((28.47485924 41.01847076, 28.4745826...   \n",
       "11       Bağcılar  (POLYGON ((28.87145996 41.03858948, 28.8703727...   \n",
       "12   Bahçelievler  (POLYGON ((28.87345314 41.00897598, 28.8703727...   \n",
       "13       Bakırköy  (POLYGON ((28.76737785 40.992836, 28.77344131 ...   \n",
       "14     Basaksehir  (POLYGON ((28.81419945 41.06014252, 28.8092155...   \n",
       "15     Bayrampaşa  (POLYGON ((28.88167191 41.07979584, 28.8819294...   \n",
       "16       Beşiktaş  (POLYGON ((29.00081825 41.09362793, 29.0010566...   \n",
       "17         Beykoz  (POLYGON ((29.06652832 41.08597183, 29.0665283...   \n",
       "18     Beylikduzu  (POLYGON ((28.6993103 40.97375107, 28.69930649...   \n",
       "19        Beyoğlu  (POLYGON ((28.99400139 41.0331955, 28.99374962...   \n",
       "20        Esenler  (POLYGON ((28.88167191 41.07979584, 28.8816738...   \n",
       "21       Esenyurt  (POLYGON ((28.69646454 41.00767136, 28.6938629...   \n",
       "22           Eyüp  (POLYGON ((28.93597221 41.04753876, 28.9359722...   \n",
       "23          Fatih  (POLYGON ((28.93730164 41.04458237, 28.9373607...   \n",
       "24       Güngören  (POLYGON ((28.88611794 41.00897598, 28.8842411...   \n",
       "25  Gaziosmanpaşa  (POLYGON ((28.90963173 41.05575562, 28.9063282...   \n",
       "26   Küçükçekmece  (POLYGON ((28.80242729 41.01086044, 28.8022804...   \n",
       "27      Kağıthane  (POLYGON ((28.95554161 41.05889511, 28.9555110...   \n",
       "28        Kadıköy  (POLYGON ((29.09809494 40.97864532, 29.0955390...   \n",
       "29         Kartal  (POLYGON ((29.17291641 40.89117813, 29.1723613...   \n",
       "30        Maltepe  (POLYGON ((29.19622803 40.96918488, 29.1914348...   \n",
       "31         Pendik  (POLYGON ((29.17291641 40.89117813, 29.1782493...   \n",
       "32     Sancaktepe  (POLYGON ((29.27528572 41.01808548, 29.2663536...   \n",
       "33        Sarıyer  (POLYGON ((29.00967216 41.10829926, 29.0130405...   \n",
       "34    Sultanbeyli  (POLYGON ((29.23159218 40.95143509, 29.2315902...   \n",
       "35     Sultangazi  (POLYGON ((28.91596794 41.09086227, 28.9096660...   \n",
       "36          Tuzla  (POLYGON ((29.28708267 40.84972382, 29.2870826...   \n",
       "37    Zeytinburnu  (POLYGON ((28.91667557 40.98708344, 28.9151382...   \n",
       "\n",
       "                                         Center  Longitude   Latitude  \n",
       "0    POINT (28.40395065280459 41.3036808013895)  28.403951  41.303681  \n",
       "1   POINT (29.27865428644358 41.08152978930723)  29.278654  41.081530  \n",
       "2   POINT (29.09589217657206 40.87084018625993)  29.095892  40.870840  \n",
       "3   POINT (29.12329130594628 41.03728585521165)  29.123291  41.037286  \n",
       "4   POINT (28.28742452864804 41.15882206752408)  28.287425  41.158822  \n",
       "5    POINT (28.6924409915991 41.22317279934558)  28.692441  41.223173  \n",
       "6   POINT (29.11740618068368 41.00336549589552)  29.117406  41.003365  \n",
       "7   POINT (28.72650253033136 41.02166473235334)  28.726503  41.021665  \n",
       "8   POINT (28.98859883919462 41.10578935974578)  28.988599  41.105789  \n",
       "9   POINT (29.58191381839693 41.10711500169273)  29.581914  41.107115  \n",
       "10  POINT (28.55479525684063 41.04887474218037)  28.554795  41.048875  \n",
       "11   POINT (28.8384565827379 41.04588412344397)  28.838457  41.045884  \n",
       "12   POINT (28.8359282431322 41.01329662871535)  28.835928  41.013297  \n",
       "13  POINT (28.82703596940539 40.98364353469243)  28.827036  40.983644  \n",
       "14  POINT (28.77343939687384 41.09465405361365)  28.773439  41.094654  \n",
       "15  POINT (28.89512327137875 41.05509608840534)  28.895123  41.055096  \n",
       "16   POINT (29.0187579037237 41.07073950355829)  29.018758  41.070740  \n",
       "17   POINT (29.2022041936604 41.15210558195543)  29.202204  41.152106  \n",
       "18   POINT (28.6491815447371 40.98615599854893)  28.649182  40.986156  \n",
       "19  POINT (28.96695252119119 41.04073313656134)  28.966953  41.040733  \n",
       "20  POINT (28.86754285951798 41.06498663424786)  28.867543  41.064987  \n",
       "21  POINT (28.67143399153469 41.04567353291375)  28.671434  41.045674  \n",
       "22   POINT (28.89908925025039 41.1908599683908)  28.899089  41.190860  \n",
       "23  POINT (28.94128672753635 41.01406336157621)  28.941287  41.014063  \n",
       "24  POINT (28.87440566617538 41.02401985920037)  28.874406  41.024020  \n",
       "25  POINT (28.90479607069057 41.07521172923105)  28.904796  41.075212  \n",
       "26  POINT (28.77973306672048 41.02975178622688)  28.779733  41.029752  \n",
       "27    POINT (28.9695117439109 41.0852937837603)  28.969512  41.085294  \n",
       "28   POINT (29.04879474298011 40.9951433401035)  29.048795  40.995143  \n",
       "29   POINT (29.1795428703062 40.93256571779378)  29.179543  40.932566  \n",
       "30   POINT (29.13747625376364 40.9671747760431)  29.137476  40.967175  \n",
       "31  POINT (29.32430391074496 40.97064187090434)  29.324304  40.970642  \n",
       "32  POINT (29.24680873105895 41.02322958493176)  29.246809  41.023230  \n",
       "33  POINT (29.02788129551887 41.19186298488474)  29.027881  41.191863  \n",
       "34  POINT (29.25697907328444 40.98252737303498)  29.256979  40.982527  \n",
       "35  POINT (28.88087103211924 41.11716969229795)  28.880871  41.117170  \n",
       "36   POINT (29.3486255157824 40.91991904134964)  29.348626  40.919919  \n",
       "37  POINT (28.89932616797512 41.00642581194283)  28.899326  41.006426  "
      ]
     },
     "execution_count": 14,
     "metadata": {},
     "output_type": "execute_result"
    }
   ],
   "source": [
    "df2"
   ]
  },
  {
   "cell_type": "code",
   "execution_count": null,
   "metadata": {},
   "outputs": [],
   "source": []
  }
 ],
 "metadata": {
  "kernelspec": {
   "display_name": "Python 3",
   "language": "python",
   "name": "python3"
  },
  "language_info": {
   "codemirror_mode": {
    "name": "ipython",
    "version": 3
   },
   "file_extension": ".py",
   "mimetype": "text/x-python",
   "name": "python",
   "nbconvert_exporter": "python",
   "pygments_lexer": "ipython3",
   "version": "3.7.1"
  }
 },
 "nbformat": 4,
 "nbformat_minor": 2
}
