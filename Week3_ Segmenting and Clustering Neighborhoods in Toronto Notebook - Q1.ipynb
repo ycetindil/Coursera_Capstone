{
 "cells": [
  {
   "cell_type": "markdown",
   "metadata": {},
   "source": [
    "# Segmenting and Clustering Neighborhoods in Toronto Notebook - Q1 #\n",
    "Question 2 and 3 is down below in this notebook."
   ]
  },
  {
   "cell_type": "markdown",
   "metadata": {},
   "source": [
    "Let's start with adding the libraries for web scraping"
   ]
  },
  {
   "cell_type": "code",
   "execution_count": 1,
   "metadata": {},
   "outputs": [],
   "source": [
    "import requests # library to handle requests\n",
    "from bs4 import BeautifulSoup # library to handle scraping the page"
   ]
  },
  {
   "cell_type": "markdown",
   "metadata": {},
   "source": [
    "Load the webpage and turn it into a soup object"
   ]
  },
  {
   "cell_type": "code",
   "execution_count": 2,
   "metadata": {},
   "outputs": [],
   "source": [
    "website_url = requests.get('https://en.wikipedia.org/wiki/List_of_postal_codes_of_Canada:_M').text\n",
    "soup = BeautifulSoup(website_url, 'lxml')"
   ]
  },
  {
   "cell_type": "markdown",
   "metadata": {},
   "source": [
    "Extract the data table"
   ]
  },
  {
   "cell_type": "code",
   "execution_count": 3,
   "metadata": {},
   "outputs": [],
   "source": [
    "my_table = soup.find('table',{'class':'wikitable sortable'})"
   ]
  },
  {
   "cell_type": "markdown",
   "metadata": {},
   "source": [
    "Split the rows"
   ]
  },
  {
   "cell_type": "code",
   "execution_count": 4,
   "metadata": {},
   "outputs": [],
   "source": [
    "rows = my_table.find_all('tr')"
   ]
  },
  {
   "cell_type": "markdown",
   "metadata": {},
   "source": [
    "Assign each column in a row to corresponding PostalCode, Borough, Neighborhood list by considering:\n",
    "* Ignore cells with a borough that is **Not assigned**\n",
    "* If a borough is listed twice and has two neighborhoods, these two rows will be combined into one row with the neighborhoods separated with a comma\n",
    "* A **Not assigned** neighborhood will be the same as the borough\n",
    "\n",
    "_We are ignoring the first row as it has the headers_"
   ]
  },
  {
   "cell_type": "code",
   "execution_count": 5,
   "metadata": {},
   "outputs": [
    {
     "name": "stdout",
     "output_type": "stream",
     "text": [
      "The index of the first row with non 'Not Assigned' borough: 3\n",
      "First row with non 'Not Assigned' borough: ['M3A', 'North York', 'Parkwoods']\n"
     ]
    }
   ],
   "source": [
    "# Initiate lists\n",
    "postcode = []\n",
    "borough = []\n",
    "neighborhood = []\n",
    "\n",
    "# The index of the first row with non 'Not Assigned' borough\n",
    "i = 1\n",
    "\n",
    "# Find the index of the first row with non 'Not Assigned' borough\n",
    "for j in range (1, len(rows)) : # Starts from 1 because first row is header\n",
    "    parsed_row = rows[j].find_all('td')\n",
    "    if parsed_row[1].text != 'Not assigned' : # Borough is not 'Not Assigned'\n",
    "        i = j # Update the index of the first row with non 'Not Assigned' borough\n",
    "        break # Leave for loop\n",
    "print(\"The index of the first row with non 'Not Assigned' borough: \" + str(i))\n",
    "\n",
    " # Parse the first row with non 'Not Assigned' borough and append data to the lists\n",
    "parsed_row = rows[i].find_all('td') # Parse the first row with non 'Not Assigned' borough\n",
    "postcode.append(parsed_row[0].text) # Append postcode to postcode list\n",
    "borough.append(parsed_row[1].text) # Append borough to borough list\n",
    "if parsed_row[2].text.rstrip() == 'Not assigned' : # Neighborhood is 'Not Assigned'\n",
    "    neighborhood.append(parsed_row[1]).text # Append borough to the neighborhood list\n",
    "else : # Neighborhood is not 'Not Assigned'\n",
    "    neighborhood.append(parsed_row[2].text.rstrip()) # Append neighborhood to neighborhood list\n",
    "\n",
    "print(\"First row with non 'Not Assigned' borough: \" + str(postcode + borough + neighborhood))\n",
    "\n",
    "# Start with the next row and traverse rows\n",
    "for k in range (i + 1, len(rows)) :\n",
    "    parsed_row = rows[k].find_all('td')\n",
    "    if parsed_row[0].text == postcode[-1] : # Postcodes are not different\n",
    "        if parsed_row[2].text.rstrip() == 'Not assigned' : # Neighborhood is 'Not Assigned'\n",
    "            neighborhood[-1] += ', ' + parsed_row[1].text # Add borough to the neighborhood\n",
    "        else : # Neighborhood is not 'Not Assigned'\n",
    "            neighborhood[-1] += ', ' + parsed_row[2].text.rstrip() # Add neighborhood to the neighborhood\n",
    "    else : # Postcodes are different\n",
    "        if parsed_row[1].text != 'Not assigned' : # Borough is not 'Not Assigned'\n",
    "            postcode.append(parsed_row[0].text) # Append postcode to postcode list\n",
    "            borough.append(parsed_row[1].text) # Append borough to borough list\n",
    "            if parsed_row[2].text.rstrip() == 'Not assigned' : # Neighborhood is 'Not Assigned'\n",
    "                neighborhood.append(parsed_row[1].text) # Append borough to neighborhood list\n",
    "            else : # Neighborhood is not 'Not Assigned'\n",
    "                neighborhood.append(parsed_row[2].text.rstrip()) # Append neighborhood to neighborhood list"
   ]
  },
  {
   "cell_type": "markdown",
   "metadata": {},
   "source": [
    "Import pandas library and zip the lists to convert to a dataframe"
   ]
  },
  {
   "cell_type": "code",
   "execution_count": 6,
   "metadata": {},
   "outputs": [
    {
     "data": {
      "text/html": [
       "<div>\n",
       "<style scoped>\n",
       "    .dataframe tbody tr th:only-of-type {\n",
       "        vertical-align: middle;\n",
       "    }\n",
       "\n",
       "    .dataframe tbody tr th {\n",
       "        vertical-align: top;\n",
       "    }\n",
       "\n",
       "    .dataframe thead th {\n",
       "        text-align: right;\n",
       "    }\n",
       "</style>\n",
       "<table border=\"1\" class=\"dataframe\">\n",
       "  <thead>\n",
       "    <tr style=\"text-align: right;\">\n",
       "      <th></th>\n",
       "      <th>PostalCode</th>\n",
       "      <th>Borough</th>\n",
       "      <th>Neighborhood</th>\n",
       "    </tr>\n",
       "  </thead>\n",
       "  <tbody>\n",
       "    <tr>\n",
       "      <th>0</th>\n",
       "      <td>M3A</td>\n",
       "      <td>North York</td>\n",
       "      <td>Parkwoods</td>\n",
       "    </tr>\n",
       "    <tr>\n",
       "      <th>1</th>\n",
       "      <td>M4A</td>\n",
       "      <td>North York</td>\n",
       "      <td>Victoria Village</td>\n",
       "    </tr>\n",
       "    <tr>\n",
       "      <th>2</th>\n",
       "      <td>M5A</td>\n",
       "      <td>Downtown Toronto</td>\n",
       "      <td>Harbourfront, Regent Park</td>\n",
       "    </tr>\n",
       "    <tr>\n",
       "      <th>3</th>\n",
       "      <td>M6A</td>\n",
       "      <td>North York</td>\n",
       "      <td>Lawrence Heights, Lawrence Manor</td>\n",
       "    </tr>\n",
       "    <tr>\n",
       "      <th>4</th>\n",
       "      <td>M7A</td>\n",
       "      <td>Queen's Park</td>\n",
       "      <td>Queen's Park</td>\n",
       "    </tr>\n",
       "    <tr>\n",
       "      <th>5</th>\n",
       "      <td>M9A</td>\n",
       "      <td>Etobicoke</td>\n",
       "      <td>Islington Avenue</td>\n",
       "    </tr>\n",
       "    <tr>\n",
       "      <th>6</th>\n",
       "      <td>M1B</td>\n",
       "      <td>Scarborough</td>\n",
       "      <td>Rouge, Malvern</td>\n",
       "    </tr>\n",
       "    <tr>\n",
       "      <th>7</th>\n",
       "      <td>M3B</td>\n",
       "      <td>North York</td>\n",
       "      <td>Don Mills North</td>\n",
       "    </tr>\n",
       "    <tr>\n",
       "      <th>8</th>\n",
       "      <td>M4B</td>\n",
       "      <td>East York</td>\n",
       "      <td>Woodbine Gardens, Parkview Hill</td>\n",
       "    </tr>\n",
       "    <tr>\n",
       "      <th>9</th>\n",
       "      <td>M5B</td>\n",
       "      <td>Downtown Toronto</td>\n",
       "      <td>Ryerson, Garden District</td>\n",
       "    </tr>\n",
       "    <tr>\n",
       "      <th>10</th>\n",
       "      <td>M6B</td>\n",
       "      <td>North York</td>\n",
       "      <td>Glencairn</td>\n",
       "    </tr>\n",
       "    <tr>\n",
       "      <th>11</th>\n",
       "      <td>M9B</td>\n",
       "      <td>Etobicoke</td>\n",
       "      <td>Cloverdale, Islington, Martin Grove, Princess ...</td>\n",
       "    </tr>\n",
       "  </tbody>\n",
       "</table>\n",
       "</div>"
      ],
      "text/plain": [
       "   PostalCode           Borough  \\\n",
       "0         M3A        North York   \n",
       "1         M4A        North York   \n",
       "2         M5A  Downtown Toronto   \n",
       "3         M6A        North York   \n",
       "4         M7A      Queen's Park   \n",
       "5         M9A         Etobicoke   \n",
       "6         M1B       Scarborough   \n",
       "7         M3B        North York   \n",
       "8         M4B         East York   \n",
       "9         M5B  Downtown Toronto   \n",
       "10        M6B        North York   \n",
       "11        M9B         Etobicoke   \n",
       "\n",
       "                                         Neighborhood  \n",
       "0                                           Parkwoods  \n",
       "1                                    Victoria Village  \n",
       "2                           Harbourfront, Regent Park  \n",
       "3                    Lawrence Heights, Lawrence Manor  \n",
       "4                                        Queen's Park  \n",
       "5                                    Islington Avenue  \n",
       "6                                      Rouge, Malvern  \n",
       "7                                     Don Mills North  \n",
       "8                     Woodbine Gardens, Parkview Hill  \n",
       "9                            Ryerson, Garden District  \n",
       "10                                          Glencairn  \n",
       "11  Cloverdale, Islington, Martin Grove, Princess ...  "
      ]
     },
     "execution_count": 6,
     "metadata": {},
     "output_type": "execute_result"
    }
   ],
   "source": [
    "import pandas as pd # library for data analysis\n",
    "list_of_tuples = list(zip(postcode, borough, neighborhood))\n",
    "df = pd.DataFrame(list_of_tuples, columns = ['PostalCode', 'Borough', 'Neighborhood'])\n",
    "df.head(12)"
   ]
  },
  {
   "cell_type": "markdown",
   "metadata": {},
   "source": [
    "There are 103 rows in the dataframe as seen below"
   ]
  },
  {
   "cell_type": "code",
   "execution_count": 7,
   "metadata": {},
   "outputs": [
    {
     "data": {
      "text/plain": [
       "(103, 3)"
      ]
     },
     "execution_count": 7,
     "metadata": {},
     "output_type": "execute_result"
    }
   ],
   "source": [
    "df.shape"
   ]
  },
  {
   "cell_type": "markdown",
   "metadata": {},
   "source": [
    "# Segmenting and Clustering Neighborhoods in Toronto Notebook - Q2 #"
   ]
  },
  {
   "cell_type": "markdown",
   "metadata": {},
   "source": [
    "Load csv file with the coordinates as a new dataframe"
   ]
  },
  {
   "cell_type": "code",
   "execution_count": 8,
   "metadata": {},
   "outputs": [],
   "source": [
    "df_coordinates = pd.read_csv('Geospatial_Coordinates.csv')"
   ]
  },
  {
   "cell_type": "markdown",
   "metadata": {},
   "source": [
    "Rename the key column to match the original dataframe and look at the head"
   ]
  },
  {
   "cell_type": "code",
   "execution_count": 9,
   "metadata": {},
   "outputs": [
    {
     "data": {
      "text/html": [
       "<div>\n",
       "<style scoped>\n",
       "    .dataframe tbody tr th:only-of-type {\n",
       "        vertical-align: middle;\n",
       "    }\n",
       "\n",
       "    .dataframe tbody tr th {\n",
       "        vertical-align: top;\n",
       "    }\n",
       "\n",
       "    .dataframe thead th {\n",
       "        text-align: right;\n",
       "    }\n",
       "</style>\n",
       "<table border=\"1\" class=\"dataframe\">\n",
       "  <thead>\n",
       "    <tr style=\"text-align: right;\">\n",
       "      <th></th>\n",
       "      <th>PostalCode</th>\n",
       "      <th>Latitude</th>\n",
       "      <th>Longitude</th>\n",
       "    </tr>\n",
       "  </thead>\n",
       "  <tbody>\n",
       "    <tr>\n",
       "      <th>0</th>\n",
       "      <td>M1B</td>\n",
       "      <td>43.806686</td>\n",
       "      <td>-79.194353</td>\n",
       "    </tr>\n",
       "    <tr>\n",
       "      <th>1</th>\n",
       "      <td>M1C</td>\n",
       "      <td>43.784535</td>\n",
       "      <td>-79.160497</td>\n",
       "    </tr>\n",
       "    <tr>\n",
       "      <th>2</th>\n",
       "      <td>M1E</td>\n",
       "      <td>43.763573</td>\n",
       "      <td>-79.188711</td>\n",
       "    </tr>\n",
       "    <tr>\n",
       "      <th>3</th>\n",
       "      <td>M1G</td>\n",
       "      <td>43.770992</td>\n",
       "      <td>-79.216917</td>\n",
       "    </tr>\n",
       "    <tr>\n",
       "      <th>4</th>\n",
       "      <td>M1H</td>\n",
       "      <td>43.773136</td>\n",
       "      <td>-79.239476</td>\n",
       "    </tr>\n",
       "  </tbody>\n",
       "</table>\n",
       "</div>"
      ],
      "text/plain": [
       "  PostalCode   Latitude  Longitude\n",
       "0        M1B  43.806686 -79.194353\n",
       "1        M1C  43.784535 -79.160497\n",
       "2        M1E  43.763573 -79.188711\n",
       "3        M1G  43.770992 -79.216917\n",
       "4        M1H  43.773136 -79.239476"
      ]
     },
     "execution_count": 9,
     "metadata": {},
     "output_type": "execute_result"
    }
   ],
   "source": [
    "df_coordinates.rename(columns={'Postal Code':'PostalCode'}, inplace=True)\n",
    "df_coordinates.head()"
   ]
  },
  {
   "cell_type": "markdown",
   "metadata": {},
   "source": [
    "Join two dataframes using 'PostalCode' column as the key and look at the head"
   ]
  },
  {
   "cell_type": "code",
   "execution_count": 10,
   "metadata": {},
   "outputs": [
    {
     "data": {
      "text/html": [
       "<div>\n",
       "<style scoped>\n",
       "    .dataframe tbody tr th:only-of-type {\n",
       "        vertical-align: middle;\n",
       "    }\n",
       "\n",
       "    .dataframe tbody tr th {\n",
       "        vertical-align: top;\n",
       "    }\n",
       "\n",
       "    .dataframe thead th {\n",
       "        text-align: right;\n",
       "    }\n",
       "</style>\n",
       "<table border=\"1\" class=\"dataframe\">\n",
       "  <thead>\n",
       "    <tr style=\"text-align: right;\">\n",
       "      <th></th>\n",
       "      <th>PostalCode</th>\n",
       "      <th>Borough</th>\n",
       "      <th>Neighborhood</th>\n",
       "      <th>Latitude</th>\n",
       "      <th>Longitude</th>\n",
       "    </tr>\n",
       "  </thead>\n",
       "  <tbody>\n",
       "    <tr>\n",
       "      <th>0</th>\n",
       "      <td>M3A</td>\n",
       "      <td>North York</td>\n",
       "      <td>Parkwoods</td>\n",
       "      <td>43.753259</td>\n",
       "      <td>-79.329656</td>\n",
       "    </tr>\n",
       "    <tr>\n",
       "      <th>1</th>\n",
       "      <td>M4A</td>\n",
       "      <td>North York</td>\n",
       "      <td>Victoria Village</td>\n",
       "      <td>43.725882</td>\n",
       "      <td>-79.315572</td>\n",
       "    </tr>\n",
       "    <tr>\n",
       "      <th>2</th>\n",
       "      <td>M5A</td>\n",
       "      <td>Downtown Toronto</td>\n",
       "      <td>Harbourfront, Regent Park</td>\n",
       "      <td>43.654260</td>\n",
       "      <td>-79.360636</td>\n",
       "    </tr>\n",
       "    <tr>\n",
       "      <th>3</th>\n",
       "      <td>M6A</td>\n",
       "      <td>North York</td>\n",
       "      <td>Lawrence Heights, Lawrence Manor</td>\n",
       "      <td>43.718518</td>\n",
       "      <td>-79.464763</td>\n",
       "    </tr>\n",
       "    <tr>\n",
       "      <th>4</th>\n",
       "      <td>M7A</td>\n",
       "      <td>Queen's Park</td>\n",
       "      <td>Queen's Park</td>\n",
       "      <td>43.662301</td>\n",
       "      <td>-79.389494</td>\n",
       "    </tr>\n",
       "  </tbody>\n",
       "</table>\n",
       "</div>"
      ],
      "text/plain": [
       "  PostalCode           Borough                      Neighborhood   Latitude  \\\n",
       "0        M3A        North York                         Parkwoods  43.753259   \n",
       "1        M4A        North York                  Victoria Village  43.725882   \n",
       "2        M5A  Downtown Toronto         Harbourfront, Regent Park  43.654260   \n",
       "3        M6A        North York  Lawrence Heights, Lawrence Manor  43.718518   \n",
       "4        M7A      Queen's Park                      Queen's Park  43.662301   \n",
       "\n",
       "   Longitude  \n",
       "0 -79.329656  \n",
       "1 -79.315572  \n",
       "2 -79.360636  \n",
       "3 -79.464763  \n",
       "4 -79.389494  "
      ]
     },
     "execution_count": 10,
     "metadata": {},
     "output_type": "execute_result"
    }
   ],
   "source": [
    "df2 = pd.merge(df, df_coordinates, how='left', on=['PostalCode'])\n",
    "df2.head()"
   ]
  },
  {
   "cell_type": "markdown",
   "metadata": {},
   "source": [
    "There are still the same number of rows as seen below"
   ]
  },
  {
   "cell_type": "code",
   "execution_count": 11,
   "metadata": {},
   "outputs": [
    {
     "data": {
      "text/plain": [
       "(103, 5)"
      ]
     },
     "execution_count": 11,
     "metadata": {},
     "output_type": "execute_result"
    }
   ],
   "source": [
    "df2.shape"
   ]
  },
  {
   "cell_type": "markdown",
   "metadata": {},
   "source": [
    "# Segmenting and Clustering Neighborhoods in Toronto Notebook - Q3 #"
   ]
  },
  {
   "cell_type": "markdown",
   "metadata": {},
   "source": [
    "Import the necessary libraries"
   ]
  },
  {
   "cell_type": "code",
   "execution_count": 12,
   "metadata": {},
   "outputs": [
    {
     "name": "stdout",
     "output_type": "stream",
     "text": [
      "Requirement already satisfied: geopy in /usr/local/anaconda3/lib/python3.7/site-packages (1.19.0)\n",
      "Requirement already satisfied: geographiclib<2,>=1.49 in /usr/local/anaconda3/lib/python3.7/site-packages (from geopy) (1.49)\n",
      "Requirement already satisfied: folium in /usr/local/anaconda3/lib/python3.7/site-packages (0.8.3)\n",
      "Requirement already satisfied: branca>=0.3.0 in /usr/local/anaconda3/lib/python3.7/site-packages (from folium) (0.3.1)\n",
      "Requirement already satisfied: six in /usr/local/anaconda3/lib/python3.7/site-packages (from folium) (1.12.0)\n",
      "Requirement already satisfied: numpy in /usr/local/anaconda3/lib/python3.7/site-packages (from folium) (1.15.4)\n",
      "Requirement already satisfied: requests in /usr/local/anaconda3/lib/python3.7/site-packages (from folium) (2.21.0)\n",
      "Requirement already satisfied: jinja2 in /usr/local/anaconda3/lib/python3.7/site-packages (from folium) (2.10)\n",
      "Requirement already satisfied: urllib3<1.25,>=1.21.1 in /usr/local/anaconda3/lib/python3.7/site-packages (from requests->folium) (1.24.1)\n",
      "Requirement already satisfied: certifi>=2017.4.17 in /usr/local/anaconda3/lib/python3.7/site-packages (from requests->folium) (2018.11.29)\n",
      "Requirement already satisfied: idna<2.9,>=2.5 in /usr/local/anaconda3/lib/python3.7/site-packages (from requests->folium) (2.8)\n",
      "Requirement already satisfied: chardet<3.1.0,>=3.0.2 in /usr/local/anaconda3/lib/python3.7/site-packages (from requests->folium) (3.0.4)\n",
      "Requirement already satisfied: MarkupSafe>=0.23 in /usr/local/anaconda3/lib/python3.7/site-packages (from jinja2->folium) (1.1.0)\n",
      "Libraries imported.\n"
     ]
    }
   ],
   "source": [
    "import numpy as np # library to handle data in a vectorized manner\n",
    "\n",
    "!pip install geopy\n",
    "from geopy.geocoders import Nominatim # convert an address into latitude and longitude values\n",
    "\n",
    "# Matplotlib and associated plotting modules\n",
    "import matplotlib.cm as cm\n",
    "import matplotlib.colors as colors\n",
    "\n",
    "# import k-means from clustering stage\n",
    "from sklearn.cluster import KMeans\n",
    "\n",
    "!pip install folium\n",
    "import folium # map rendering library\n",
    "\n",
    "print('Libraries imported.')"
   ]
  },
  {
   "cell_type": "markdown",
   "metadata": {},
   "source": [
    "Set pandas options"
   ]
  },
  {
   "cell_type": "code",
   "execution_count": 13,
   "metadata": {},
   "outputs": [],
   "source": [
    "pd.set_option('display.max_columns', None)\n",
    "pd.set_option('display.max_rows', None)"
   ]
  },
  {
   "cell_type": "markdown",
   "metadata": {},
   "source": [
    "Select the rows containing 'Toronto'"
   ]
  },
  {
   "cell_type": "code",
   "execution_count": 14,
   "metadata": {},
   "outputs": [
    {
     "data": {
      "text/html": [
       "<div>\n",
       "<style scoped>\n",
       "    .dataframe tbody tr th:only-of-type {\n",
       "        vertical-align: middle;\n",
       "    }\n",
       "\n",
       "    .dataframe tbody tr th {\n",
       "        vertical-align: top;\n",
       "    }\n",
       "\n",
       "    .dataframe thead th {\n",
       "        text-align: right;\n",
       "    }\n",
       "</style>\n",
       "<table border=\"1\" class=\"dataframe\">\n",
       "  <thead>\n",
       "    <tr style=\"text-align: right;\">\n",
       "      <th></th>\n",
       "      <th>PostalCode</th>\n",
       "      <th>Borough</th>\n",
       "      <th>Neighborhood</th>\n",
       "      <th>Latitude</th>\n",
       "      <th>Longitude</th>\n",
       "    </tr>\n",
       "  </thead>\n",
       "  <tbody>\n",
       "    <tr>\n",
       "      <th>2</th>\n",
       "      <td>M5A</td>\n",
       "      <td>Downtown Toronto</td>\n",
       "      <td>Harbourfront, Regent Park</td>\n",
       "      <td>43.654260</td>\n",
       "      <td>-79.360636</td>\n",
       "    </tr>\n",
       "    <tr>\n",
       "      <th>9</th>\n",
       "      <td>M5B</td>\n",
       "      <td>Downtown Toronto</td>\n",
       "      <td>Ryerson, Garden District</td>\n",
       "      <td>43.657162</td>\n",
       "      <td>-79.378937</td>\n",
       "    </tr>\n",
       "    <tr>\n",
       "      <th>15</th>\n",
       "      <td>M5C</td>\n",
       "      <td>Downtown Toronto</td>\n",
       "      <td>St. James Town</td>\n",
       "      <td>43.651494</td>\n",
       "      <td>-79.375418</td>\n",
       "    </tr>\n",
       "    <tr>\n",
       "      <th>19</th>\n",
       "      <td>M4E</td>\n",
       "      <td>East Toronto</td>\n",
       "      <td>The Beaches</td>\n",
       "      <td>43.676357</td>\n",
       "      <td>-79.293031</td>\n",
       "    </tr>\n",
       "    <tr>\n",
       "      <th>20</th>\n",
       "      <td>M5E</td>\n",
       "      <td>Downtown Toronto</td>\n",
       "      <td>Berczy Park</td>\n",
       "      <td>43.644771</td>\n",
       "      <td>-79.373306</td>\n",
       "    </tr>\n",
       "  </tbody>\n",
       "</table>\n",
       "</div>"
      ],
      "text/plain": [
       "   PostalCode           Borough               Neighborhood   Latitude  \\\n",
       "2         M5A  Downtown Toronto  Harbourfront, Regent Park  43.654260   \n",
       "9         M5B  Downtown Toronto   Ryerson, Garden District  43.657162   \n",
       "15        M5C  Downtown Toronto             St. James Town  43.651494   \n",
       "19        M4E      East Toronto                The Beaches  43.676357   \n",
       "20        M5E  Downtown Toronto                Berczy Park  43.644771   \n",
       "\n",
       "    Longitude  \n",
       "2  -79.360636  \n",
       "9  -79.378937  \n",
       "15 -79.375418  \n",
       "19 -79.293031  \n",
       "20 -79.373306  "
      ]
     },
     "execution_count": 14,
     "metadata": {},
     "output_type": "execute_result"
    }
   ],
   "source": [
    "mask = df2.select_dtypes(include=[object]).apply(lambda x: x.str.contains('Toronto'))\n",
    "df3 = df2[mask.any(axis=1)]\n",
    "df3.head()"
   ]
  },
  {
   "cell_type": "markdown",
   "metadata": {},
   "source": [
    "Set the map location to 'Toronto, CA'"
   ]
  },
  {
   "cell_type": "code",
   "execution_count": 15,
   "metadata": {},
   "outputs": [
    {
     "name": "stdout",
     "output_type": "stream",
     "text": [
      "The geographical coordinates of Toronto are 43.653963, -79.387207.\n"
     ]
    }
   ],
   "source": [
    "address = 'Toronto, CA'\n",
    "\n",
    "geolocator = Nominatim(user_agent=\"toronto_explorer\")\n",
    "location = geolocator.geocode(address)\n",
    "latitude = location.latitude\n",
    "longitude = location.longitude\n",
    "print('The geographical coordinates of Toronto are {}, {}.'.format(latitude, longitude))"
   ]
  },
  {
   "cell_type": "markdown",
   "metadata": {},
   "source": [
    "Let's visualize Toronto and the neighborhoods in it."
   ]
  },
  {
   "cell_type": "code",
   "execution_count": 16,
   "metadata": {},
   "outputs": [
    {
     "data": {
      "text/html": [
       "<div style=\"width:100%;\"><div style=\"position:relative;width:100%;height:0;padding-bottom:60%;\"><iframe src=\"data:text/html;charset=utf-8;base64,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\" style=\"position:absolute;width:100%;height:100%;left:0;top:0;border:none !important;\" allowfullscreen webkitallowfullscreen mozallowfullscreen></iframe></div></div>"
      ],
      "text/plain": [
       "<folium.folium.Map at 0x1a1d6e50b8>"
      ]
     },
     "execution_count": 16,
     "metadata": {},
     "output_type": "execute_result"
    }
   ],
   "source": [
    "# create map of Toronto using latitude and longitude values\n",
    "map_toronto = folium.Map(location=[latitude, longitude], zoom_start=11)\n",
    "\n",
    "# add markers to map\n",
    "for lat, lng, borough, neighborhood in zip(df3['Latitude'], df3['Longitude'], df3['Borough'], df3['Neighborhood']):\n",
    "    label = '{}, {}'.format(neighborhood, borough)\n",
    "    label = folium.Popup(label, parse_html=True)\n",
    "    folium.CircleMarker(\n",
    "        [lat, lng],\n",
    "        radius=5,\n",
    "        popup=label,\n",
    "        color='blue',\n",
    "        fill=True,\n",
    "        fill_color='#3186cc',\n",
    "        fill_opacity=0.7,\n",
    "        parse_html=False).add_to(map_toronto)\n",
    "    \n",
    "map_toronto"
   ]
  },
  {
   "cell_type": "markdown",
   "metadata": {},
   "source": [
    "Let's group the markers into different clusters. Each cluster is then represented by the number of neighborhoods in each borough.\n",
    "\n",
    "To implement this, we start off by instantiating a MarkerCluster object and adding all the data points in the dataframe to this object."
   ]
  },
  {
   "cell_type": "code",
   "execution_count": 17,
   "metadata": {},
   "outputs": [
    {
     "data": {
      "text/html": [
       "<div style=\"width:100%;\"><div style=\"position:relative;width:100%;height:0;padding-bottom:60%;\"><iframe src=\"data:text/html;charset=utf-8;base64,PCFET0NUWVBFIGh0bWw+CjxoZWFkPiAgICAKICAgIDxtZXRhIGh0dHAtZXF1aXY9ImNvbnRlbnQtdHlwZSIgY29udGVudD0idGV4dC9odG1sOyBjaGFyc2V0PVVURi04IiAvPgogICAgPHNjcmlwdD5MX1BSRUZFUl9DQU5WQVM9ZmFsc2U7IExfTk9fVE9VQ0g9ZmFsc2U7IExfRElTQUJMRV8zRD1mYWxzZTs8L3NjcmlwdD4KICAgIDxzY3JpcHQgc3JjPSJodHRwczovL2Nkbi5qc2RlbGl2ci5uZXQvbnBtL2xlYWZsZXRAMS40LjAvZGlzdC9sZWFmbGV0LmpzIj48L3NjcmlwdD4KICAgIDxzY3JpcHQgc3JjPSJodHRwczovL2NvZGUuanF1ZXJ5LmNvbS9qcXVlcnktMS4xMi40Lm1pbi5qcyI+PC9zY3JpcHQ+CiAgICA8c2NyaXB0IHNyYz0iaHR0cHM6Ly9tYXhjZG4uYm9vdHN0cmFwY2RuLmNvbS9ib290c3RyYXAvMy4yLjAvanMvYm9vdHN0cmFwLm1pbi5qcyI+PC9zY3JpcHQ+CiAgICA8c2NyaXB0IHNyYz0iaHR0cHM6Ly9jZG5qcy5jbG91ZGZsYXJlLmNvbS9hamF4L2xpYnMvTGVhZmxldC5hd2Vzb21lLW1hcmtlcnMvMi4wLjIvbGVhZmxldC5hd2Vzb21lLW1hcmtlcnMuanMiPjwvc2NyaXB0PgogICAgPGxpbmsgcmVsPSJzdHlsZXNoZWV0IiBocmVmPSJodHRwczovL2Nkbi5qc2RlbGl2ci5uZXQvbnBtL2xlYWZsZXRAMS40LjAvZGlzdC9sZWFmbGV0LmNzcyIvPgogICAgPGxpbmsgcmVsPSJzdHlsZXNoZWV0IiBocmVmPSJodHRwczovL21heGNkbi5ib290c3RyYXBjZG4uY29tL2Jvb3RzdHJhcC8zLjIuMC9jc3MvYm9vdHN0cmFwLm1pbi5jc3MiLz4KICAgIDxsaW5rIHJlbD0ic3R5bGVzaGVldCIgaHJlZj0iaHR0cHM6Ly9tYXhjZG4uYm9vdHN0cmFwY2RuLmNvbS9ib290c3RyYXAvMy4yLjAvY3NzL2Jvb3RzdHJhcC10aGVtZS5taW4uY3NzIi8+CiAgICA8bGluayByZWw9InN0eWxlc2hlZXQiIGhyZWY9Imh0dHBzOi8vbWF4Y2RuLmJvb3RzdHJhcGNkbi5jb20vZm9udC1hd2Vzb21lLzQuNi4zL2Nzcy9mb250LWF3ZXNvbWUubWluLmNzcyIvPgogICAgPGxpbmsgcmVsPSJzdHlsZXNoZWV0IiBocmVmPSJodHRwczovL2NkbmpzLmNsb3VkZmxhcmUuY29tL2FqYXgvbGlicy9MZWFmbGV0LmF3ZXNvbWUtbWFya2Vycy8yLjAuMi9sZWFmbGV0LmF3ZXNvbWUtbWFya2Vycy5jc3MiLz4KICAgIDxsaW5rIHJlbD0ic3R5bGVzaGVldCIgaHJlZj0iaHR0cHM6Ly9yYXdjZG4uZ2l0aGFjay5jb20vcHl0aG9uLXZpc3VhbGl6YXRpb24vZm9saXVtL21hc3Rlci9mb2xpdW0vdGVtcGxhdGVzL2xlYWZsZXQuYXdlc29tZS5yb3RhdGUuY3NzIi8+CiAgICA8c3R5bGU+aHRtbCwgYm9keSB7d2lkdGg6IDEwMCU7aGVpZ2h0OiAxMDAlO21hcmdpbjogMDtwYWRkaW5nOiAwO308L3N0eWxlPgogICAgPHN0eWxlPiNtYXAge3Bvc2l0aW9uOmFic29sdXRlO3RvcDowO2JvdHRvbTowO3JpZ2h0OjA7bGVmdDowO308L3N0eWxlPgogICAgCiAgICA8bWV0YSBuYW1lPSJ2aWV3cG9ydCIgY29udGVudD0id2lkdGg9ZGV2aWNlLXdpZHRoLAogICAgICAgIGluaXRpYWwtc2NhbGU9MS4wLCBtYXhpbXVtLXNjYWxlPTEuMCwgdXNlci1zY2FsYWJsZT1ubyIgLz4KICAgIDxzdHlsZT4jbWFwX2FkZmY0YzFmMjI3MjQwOGJiOTRjOTI1ODQ4MDAyYjUzIHsKICAgICAgICBwb3NpdGlvbjogcmVsYXRpdmU7CiAgICAgICAgd2lkdGg6IDEwMC4wJTsKICAgICAgICBoZWlnaHQ6IDEwMC4wJTsKICAgICAgICBsZWZ0OiAwLjAlOwogICAgICAgIHRvcDogMC4wJTsKICAgICAgICB9CiAgICA8L3N0eWxlPgogICAgPHNjcmlwdCBzcmM9Imh0dHBzOi8vY2RuanMuY2xvdWRmbGFyZS5jb20vYWpheC9saWJzL2xlYWZsZXQubWFya2VyY2x1c3Rlci8xLjEuMC9sZWFmbGV0Lm1hcmtlcmNsdXN0ZXIuanMiPjwvc2NyaXB0PgogICAgPGxpbmsgcmVsPSJzdHlsZXNoZWV0IiBocmVmPSJodHRwczovL2NkbmpzLmNsb3VkZmxhcmUuY29tL2FqYXgvbGlicy9sZWFmbGV0Lm1hcmtlcmNsdXN0ZXIvMS4xLjAvTWFya2VyQ2x1c3Rlci5jc3MiLz4KICAgIDxsaW5rIHJlbD0ic3R5bGVzaGVldCIgaHJlZj0iaHR0cHM6Ly9jZG5qcy5jbG91ZGZsYXJlLmNvbS9hamF4L2xpYnMvbGVhZmxldC5tYXJrZXJjbHVzdGVyLzEuMS4wL01hcmtlckNsdXN0ZXIuRGVmYXVsdC5jc3MiLz4KPC9oZWFkPgo8Ym9keT4gICAgCiAgICAKICAgIDxkaXYgY2xhc3M9ImZvbGl1bS1tYXAiIGlkPSJtYXBfYWRmZjRjMWYyMjcyNDA4YmI5NGM5MjU4NDgwMDJiNTMiID48L2Rpdj4KPC9ib2R5Pgo8c2NyaXB0PiAgICAKICAgIAogICAgCiAgICAgICAgdmFyIGJvdW5kcyA9IG51bGw7CiAgICAKCiAgICB2YXIgbWFwX2FkZmY0YzFmMjI3MjQwOGJiOTRjOTI1ODQ4MDAyYjUzID0gTC5tYXAoCiAgICAgICAgJ21hcF9hZGZmNGMxZjIyNzI0MDhiYjk0YzkyNTg0ODAwMmI1MycsIHsKICAgICAgICBjZW50ZXI6IFs0My42NTM5NjMsIC03OS4zODcyMDddLAogICAgICAgIHpvb206IDExLAogICAgICAgIG1heEJvdW5kczogYm91bmRzLAogICAgICAgIGxheWVyczogW10sCiAgICAgICAgd29ybGRDb3B5SnVtcDogZmFsc2UsCiAgICAgICAgY3JzOiBMLkNSUy5FUFNHMzg1NywKICAgICAgICB6b29tQ29udHJvbDogdHJ1ZSwKICAgICAgICB9KTsKCgogICAgCiAgICB2YXIgdGlsZV9sYXllcl81NmJjMjliYjRhNTQ0OTNlODA0NmZkODM5YThhNmM4YSA9IEwudGlsZUxheWVyKAogICAgICAgICdodHRwczovL3tzfS50aWxlLm9wZW5zdHJlZXRtYXAub3JnL3t6fS97eH0ve3l9LnBuZycsCiAgICAgICAgewogICAgICAgICJhdHRyaWJ1dGlvbiI6IG51bGwsCiAgICAgICAgImRldGVjdFJldGluYSI6IGZhbHNlLAogICAgICAgICJtYXhOYXRpdmVab29tIjogMTgsCiAgICAgICAgIm1heFpvb20iOiAxOCwKICAgICAgICAibWluWm9vbSI6IDAsCiAgICAgICAgIm5vV3JhcCI6IGZhbHNlLAogICAgICAgICJvcGFjaXR5IjogMSwKICAgICAgICAic3ViZG9tYWlucyI6ICJhYmMiLAogICAgICAgICJ0bXMiOiBmYWxzZQp9KS5hZGRUbyhtYXBfYWRmZjRjMWYyMjcyNDA4YmI5NGM5MjU4NDgwMDJiNTMpOwogICAgCiAgICAgICAgICAgIHZhciBtYXJrZXJfY2x1c3Rlcl8yNTIyNjUzY2FmZjE0ZTZiOWY2ZTg1MzE1ZjRlNTBhMCA9IEwubWFya2VyQ2x1c3Rlckdyb3VwKHt9KTsKICAgICAgICAgICAgbWFwX2FkZmY0YzFmMjI3MjQwOGJiOTRjOTI1ODQ4MDAyYjUzLmFkZExheWVyKG1hcmtlcl9jbHVzdGVyXzI1MjI2NTNjYWZmMTRlNmI5ZjZlODUzMTVmNGU1MGEwKTsKICAgICAgICAgICAgCiAgICAKICAgICAgICB2YXIgbWFya2VyXzA5MzFhOWE5NDAzMDQzNmQ4NWNhMDAxMjIxODUzNDg5ID0gTC5tYXJrZXIoCiAgICAgICAgICAgIFs0My42NTQyNTk5LCAtNzkuMzYwNjM1OV0sCiAgICAgICAgICAgIHsKICAgICAgICAgICAgICAgIGljb246IG5ldyBMLkljb24uRGVmYXVsdCgpLAogICAgICAgICAgICAgICAgfQogICAgICAgICAgICApLmFkZFRvKG1hcmtlcl9jbHVzdGVyXzI1MjI2NTNjYWZmMTRlNmI5ZjZlODUzMTVmNGU1MGEwKTsKICAgICAgICAKICAgIAogICAgICAgICAgICB2YXIgcG9wdXBfNDdiYjUxYzUwOGMxNDNmMDhiZmE1ZTgyMGZiMGNlNTEgPSBMLnBvcHVwKHttYXhXaWR0aDogJzEwMCUnCiAgICAgICAgICAgIAogICAgICAgICAgICB9KTsKCiAgICAgICAgICAgIAogICAgICAgICAgICAgICAgdmFyIGh0bWxfNmZkNjQ4ZDU3OTRlNGI5MDg2ODU3ZGE5ZWM4ZTkxN2QgPSAkKGA8ZGl2IGlkPSJodG1sXzZmZDY0OGQ1Nzk0ZTRiOTA4Njg1N2RhOWVjOGU5MTdkIiBzdHlsZT0id2lkdGg6IDEwMC4wJTsgaGVpZ2h0OiAxMDAuMCU7Ij5IYXJib3VyZnJvbnQsIFJlZ2VudCBQYXJrLCBEb3dudG93biBUb3JvbnRvPC9kaXY+YClbMF07CiAgICAgICAgICAgICAgICBwb3B1cF80N2JiNTFjNTA4YzE0M2YwOGJmYTVlODIwZmIwY2U1MS5zZXRDb250ZW50KGh0bWxfNmZkNjQ4ZDU3OTRlNGI5MDg2ODU3ZGE5ZWM4ZTkxN2QpOwogICAgICAgICAgICAKCiAgICAgICAgICAgIG1hcmtlcl8wOTMxYTlhOTQwMzA0MzZkODVjYTAwMTIyMTg1MzQ4OS5iaW5kUG9wdXAocG9wdXBfNDdiYjUxYzUwOGMxNDNmMDhiZmE1ZTgyMGZiMGNlNTEpCiAgICAgICAgICAgIDsKCiAgICAgICAgICAgIAogICAgICAgIAogICAgCiAgICAgICAgdmFyIG1hcmtlcl9iMzg2MjY1YTEyNjU0NjFkOGMxYWJiNWRiZGNiOGEzNCA9IEwubWFya2VyKAogICAgICAgICAgICBbNDMuNjU3MTYxOCwgLTc5LjM3ODkzNzA5OTk5OTk5XSwKICAgICAgICAgICAgewogICAgICAgICAgICAgICAgaWNvbjogbmV3IEwuSWNvbi5EZWZhdWx0KCksCiAgICAgICAgICAgICAgICB9CiAgICAgICAgICAgICkuYWRkVG8obWFya2VyX2NsdXN0ZXJfMjUyMjY1M2NhZmYxNGU2YjlmNmU4NTMxNWY0ZTUwYTApOwogICAgICAgIAogICAgCiAgICAgICAgICAgIHZhciBwb3B1cF8xZDgyYTc1ZWMzNWQ0ZDZiOGM5ZGFhMTdlZjE5NzRhMiA9IEwucG9wdXAoe21heFdpZHRoOiAnMTAwJScKICAgICAgICAgICAgCiAgICAgICAgICAgIH0pOwoKICAgICAgICAgICAgCiAgICAgICAgICAgICAgICB2YXIgaHRtbF84ZWY2NDE0ZGJiNTk0NGI3ODljNTEzMTcxMTMyODliOSA9ICQoYDxkaXYgaWQ9Imh0bWxfOGVmNjQxNGRiYjU5NDRiNzg5YzUxMzE3MTEzMjg5YjkiIHN0eWxlPSJ3aWR0aDogMTAwLjAlOyBoZWlnaHQ6IDEwMC4wJTsiPlJ5ZXJzb24sIEdhcmRlbiBEaXN0cmljdCwgRG93bnRvd24gVG9yb250bzwvZGl2PmApWzBdOwogICAgICAgICAgICAgICAgcG9wdXBfMWQ4MmE3NWVjMzVkNGQ2YjhjOWRhYTE3ZWYxOTc0YTIuc2V0Q29udGVudChodG1sXzhlZjY0MTRkYmI1OTQ0Yjc4OWM1MTMxNzExMzI4OWI5KTsKICAgICAgICAgICAgCgogICAgICAgICAgICBtYXJrZXJfYjM4NjI2NWExMjY1NDYxZDhjMWFiYjVkYmRjYjhhMzQuYmluZFBvcHVwKHBvcHVwXzFkODJhNzVlYzM1ZDRkNmI4YzlkYWExN2VmMTk3NGEyKQogICAgICAgICAgICA7CgogICAgICAgICAgICAKICAgICAgICAKICAgIAogICAgICAgIHZhciBtYXJrZXJfOTRjNjc2ZDFkYmNhNGQyNWI0NjVjZjM4NGI4MDViZjUgPSBMLm1hcmtlcigKICAgICAgICAgICAgWzQzLjY1MTQ5MzksIC03OS4zNzU0MTc5XSwKICAgICAgICAgICAgewogICAgICAgICAgICAgICAgaWNvbjogbmV3IEwuSWNvbi5EZWZhdWx0KCksCiAgICAgICAgICAgICAgICB9CiAgICAgICAgICAgICkuYWRkVG8obWFya2VyX2NsdXN0ZXJfMjUyMjY1M2NhZmYxNGU2YjlmNmU4NTMxNWY0ZTUwYTApOwogICAgICAgIAogICAgCiAgICAgICAgICAgIHZhciBwb3B1cF8wMjFkMDI3MTJjMDI0YzEwYTUzZDgxZGZlYTlhNGViMyA9IEwucG9wdXAoe21heFdpZHRoOiAnMTAwJScKICAgICAgICAgICAgCiAgICAgICAgICAgIH0pOwoKICAgICAgICAgICAgCiAgICAgICAgICAgICAgICB2YXIgaHRtbF8xMmMxM2UyYmExZmI0YzA2YWUzZmMzZDJmNGRmMTNmNiA9ICQoYDxkaXYgaWQ9Imh0bWxfMTJjMTNlMmJhMWZiNGMwNmFlM2ZjM2QyZjRkZjEzZjYiIHN0eWxlPSJ3aWR0aDogMTAwLjAlOyBoZWlnaHQ6IDEwMC4wJTsiPlN0LiBKYW1lcyBUb3duLCBEb3dudG93biBUb3JvbnRvPC9kaXY+YClbMF07CiAgICAgICAgICAgICAgICBwb3B1cF8wMjFkMDI3MTJjMDI0YzEwYTUzZDgxZGZlYTlhNGViMy5zZXRDb250ZW50KGh0bWxfMTJjMTNlMmJhMWZiNGMwNmFlM2ZjM2QyZjRkZjEzZjYpOwogICAgICAgICAgICAKCiAgICAgICAgICAgIG1hcmtlcl85NGM2NzZkMWRiY2E0ZDI1YjQ2NWNmMzg0YjgwNWJmNS5iaW5kUG9wdXAocG9wdXBfMDIxZDAyNzEyYzAyNGMxMGE1M2Q4MWRmZWE5YTRlYjMpCiAgICAgICAgICAgIDsKCiAgICAgICAgICAgIAogICAgICAgIAogICAgCiAgICAgICAgdmFyIG1hcmtlcl82YzEyOTc2OTg1YzU0Y2M0OTZhZWU1NTMxNTY0NzcxNyA9IEwubWFya2VyKAogICAgICAgICAgICBbNDMuNjc2MzU3Mzk5OTk5OTksIC03OS4yOTMwMzEyXSwKICAgICAgICAgICAgewogICAgICAgICAgICAgICAgaWNvbjogbmV3IEwuSWNvbi5EZWZhdWx0KCksCiAgICAgICAgICAgICAgICB9CiAgICAgICAgICAgICkuYWRkVG8obWFya2VyX2NsdXN0ZXJfMjUyMjY1M2NhZmYxNGU2YjlmNmU4NTMxNWY0ZTUwYTApOwogICAgICAgIAogICAgCiAgICAgICAgICAgIHZhciBwb3B1cF9kZWM2N2IzMGQzM2I0Y2M2ODU4MTZmZTc0NDg3NDI3MCA9IEwucG9wdXAoe21heFdpZHRoOiAnMTAwJScKICAgICAgICAgICAgCiAgICAgICAgICAgIH0pOwoKICAgICAgICAgICAgCiAgICAgICAgICAgICAgICB2YXIgaHRtbF8yNWQ5YTJmNDlkMWY0ZDc1OTViMWZlNWYwZDBjNzZhYyA9ICQoYDxkaXYgaWQ9Imh0bWxfMjVkOWEyZjQ5ZDFmNGQ3NTk1YjFmZTVmMGQwYzc2YWMiIHN0eWxlPSJ3aWR0aDogMTAwLjAlOyBoZWlnaHQ6IDEwMC4wJTsiPlRoZSBCZWFjaGVzLCBFYXN0IFRvcm9udG88L2Rpdj5gKVswXTsKICAgICAgICAgICAgICAgIHBvcHVwX2RlYzY3YjMwZDMzYjRjYzY4NTgxNmZlNzQ0ODc0MjcwLnNldENvbnRlbnQoaHRtbF8yNWQ5YTJmNDlkMWY0ZDc1OTViMWZlNWYwZDBjNzZhYyk7CiAgICAgICAgICAgIAoKICAgICAgICAgICAgbWFya2VyXzZjMTI5NzY5ODVjNTRjYzQ5NmFlZTU1MzE1NjQ3NzE3LmJpbmRQb3B1cChwb3B1cF9kZWM2N2IzMGQzM2I0Y2M2ODU4MTZmZTc0NDg3NDI3MCkKICAgICAgICAgICAgOwoKICAgICAgICAgICAgCiAgICAgICAgCiAgICAKICAgICAgICB2YXIgbWFya2VyXzgxZDU3YjE0YTUwMDRiNDJiN2Y1MWE5ZDNiODhmYTk4ID0gTC5tYXJrZXIoCiAgICAgICAgICAgIFs0My42NDQ3NzA3OTk5OTk5OTYsIC03OS4zNzMzMDY0XSwKICAgICAgICAgICAgewogICAgICAgICAgICAgICAgaWNvbjogbmV3IEwuSWNvbi5EZWZhdWx0KCksCiAgICAgICAgICAgICAgICB9CiAgICAgICAgICAgICkuYWRkVG8obWFya2VyX2NsdXN0ZXJfMjUyMjY1M2NhZmYxNGU2YjlmNmU4NTMxNWY0ZTUwYTApOwogICAgICAgIAogICAgCiAgICAgICAgICAgIHZhciBwb3B1cF85OTg1Nzg1YjFlNWI0YmVlOWEzMDNjOTdlODQzNzdjOSA9IEwucG9wdXAoe21heFdpZHRoOiAnMTAwJScKICAgICAgICAgICAgCiAgICAgICAgICAgIH0pOwoKICAgICAgICAgICAgCiAgICAgICAgICAgICAgICB2YXIgaHRtbF8wMWQ0NWFhZWU1MWQ0YTQ3YmQxZWM4NTVmMWY5MGY1YyA9ICQoYDxkaXYgaWQ9Imh0bWxfMDFkNDVhYWVlNTFkNGE0N2JkMWVjODU1ZjFmOTBmNWMiIHN0eWxlPSJ3aWR0aDogMTAwLjAlOyBoZWlnaHQ6IDEwMC4wJTsiPkJlcmN6eSBQYXJrLCBEb3dudG93biBUb3JvbnRvPC9kaXY+YClbMF07CiAgICAgICAgICAgICAgICBwb3B1cF85OTg1Nzg1YjFlNWI0YmVlOWEzMDNjOTdlODQzNzdjOS5zZXRDb250ZW50KGh0bWxfMDFkNDVhYWVlNTFkNGE0N2JkMWVjODU1ZjFmOTBmNWMpOwogICAgICAgICAgICAKCiAgICAgICAgICAgIG1hcmtlcl84MWQ1N2IxNGE1MDA0YjQyYjdmNTFhOWQzYjg4ZmE5OC5iaW5kUG9wdXAocG9wdXBfOTk4NTc4NWIxZTViNGJlZTlhMzAzYzk3ZTg0Mzc3YzkpCiAgICAgICAgICAgIDsKCiAgICAgICAgICAgIAogICAgICAgIAogICAgCiAgICAgICAgdmFyIG1hcmtlcl9lYWQ5NzFkNDk3ZjA0MjgzYTBmZjI5MTBiMzMwMDBkYiA9IEwubWFya2VyKAogICAgICAgICAgICBbNDMuNjU3OTUyNCwgLTc5LjM4NzM4MjZdLAogICAgICAgICAgICB7CiAgICAgICAgICAgICAgICBpY29uOiBuZXcgTC5JY29uLkRlZmF1bHQoKSwKICAgICAgICAgICAgICAgIH0KICAgICAgICAgICAgKS5hZGRUbyhtYXJrZXJfY2x1c3Rlcl8yNTIyNjUzY2FmZjE0ZTZiOWY2ZTg1MzE1ZjRlNTBhMCk7CiAgICAgICAgCiAgICAKICAgICAgICAgICAgdmFyIHBvcHVwXzQ0ZGQyZjk1ZjFlNzQzYjFiNWUzYzg4ODUxYzk1NzViID0gTC5wb3B1cCh7bWF4V2lkdGg6ICcxMDAlJwogICAgICAgICAgICAKICAgICAgICAgICAgfSk7CgogICAgICAgICAgICAKICAgICAgICAgICAgICAgIHZhciBodG1sX2EzMWM2NTdlZjRmNzQwYTk5YmQ1MGQxZmFiNzYxNDNiID0gJChgPGRpdiBpZD0iaHRtbF9hMzFjNjU3ZWY0Zjc0MGE5OWJkNTBkMWZhYjc2MTQzYiIgc3R5bGU9IndpZHRoOiAxMDAuMCU7IGhlaWdodDogMTAwLjAlOyI+Q2VudHJhbCBCYXkgU3RyZWV0LCBEb3dudG93biBUb3JvbnRvPC9kaXY+YClbMF07CiAgICAgICAgICAgICAgICBwb3B1cF80NGRkMmY5NWYxZTc0M2IxYjVlM2M4ODg1MWM5NTc1Yi5zZXRDb250ZW50KGh0bWxfYTMxYzY1N2VmNGY3NDBhOTliZDUwZDFmYWI3NjE0M2IpOwogICAgICAgICAgICAKCiAgICAgICAgICAgIG1hcmtlcl9lYWQ5NzFkNDk3ZjA0MjgzYTBmZjI5MTBiMzMwMDBkYi5iaW5kUG9wdXAocG9wdXBfNDRkZDJmOTVmMWU3NDNiMWI1ZTNjODg4NTFjOTU3NWIpCiAgICAgICAgICAgIDsKCiAgICAgICAgICAgIAogICAgICAgIAogICAgCiAgICAgICAgdmFyIG1hcmtlcl8yN2ExZDhlMjU4ZDk0ZDg5OGM4NzVlZjdmMmQ2YzZkYyA9IEwubWFya2VyKAogICAgICAgICAgICBbNDMuNjY5NTQyLCAtNzkuNDIyNTYzN10sCiAgICAgICAgICAgIHsKICAgICAgICAgICAgICAgIGljb246IG5ldyBMLkljb24uRGVmYXVsdCgpLAogICAgICAgICAgICAgICAgfQogICAgICAgICAgICApLmFkZFRvKG1hcmtlcl9jbHVzdGVyXzI1MjI2NTNjYWZmMTRlNmI5ZjZlODUzMTVmNGU1MGEwKTsKICAgICAgICAKICAgIAogICAgICAgICAgICB2YXIgcG9wdXBfNzVkNzViOWQ2NDA5NDc5NGEwMmY4YmY0YWJiMjkxNDYgPSBMLnBvcHVwKHttYXhXaWR0aDogJzEwMCUnCiAgICAgICAgICAgIAogICAgICAgICAgICB9KTsKCiAgICAgICAgICAgIAogICAgICAgICAgICAgICAgdmFyIGh0bWxfNGVhMWQzYTM0OWM4NDhjNWI1NzA3NDA3YTk5ZmY0MjQgPSAkKGA8ZGl2IGlkPSJodG1sXzRlYTFkM2EzNDljODQ4YzViNTcwNzQwN2E5OWZmNDI0IiBzdHlsZT0id2lkdGg6IDEwMC4wJTsgaGVpZ2h0OiAxMDAuMCU7Ij5DaHJpc3RpZSwgRG93bnRvd24gVG9yb250bzwvZGl2PmApWzBdOwogICAgICAgICAgICAgICAgcG9wdXBfNzVkNzViOWQ2NDA5NDc5NGEwMmY4YmY0YWJiMjkxNDYuc2V0Q29udGVudChodG1sXzRlYTFkM2EzNDljODQ4YzViNTcwNzQwN2E5OWZmNDI0KTsKICAgICAgICAgICAgCgogICAgICAgICAgICBtYXJrZXJfMjdhMWQ4ZTI1OGQ5NGQ4OThjODc1ZWY3ZjJkNmM2ZGMuYmluZFBvcHVwKHBvcHVwXzc1ZDc1YjlkNjQwOTQ3OTRhMDJmOGJmNGFiYjI5MTQ2KQogICAgICAgICAgICA7CgogICAgICAgICAgICAKICAgICAgICAKICAgIAogICAgICAgIHZhciBtYXJrZXJfZDRhNzgwOWVlZjc1NDUxOTllNTY1OTNjOTFhMzRmZjkgPSBMLm1hcmtlcigKICAgICAgICAgICAgWzQzLjY1MDU3MTIwMDAwMDAxLCAtNzkuMzg0NTY3NV0sCiAgICAgICAgICAgIHsKICAgICAgICAgICAgICAgIGljb246IG5ldyBMLkljb24uRGVmYXVsdCgpLAogICAgICAgICAgICAgICAgfQogICAgICAgICAgICApLmFkZFRvKG1hcmtlcl9jbHVzdGVyXzI1MjI2NTNjYWZmMTRlNmI5ZjZlODUzMTVmNGU1MGEwKTsKICAgICAgICAKICAgIAogICAgICAgICAgICB2YXIgcG9wdXBfMjM3ZWU0ZmQzNDMwNGMwMTljMTA0OWUzNjcwNmQyNTMgPSBMLnBvcHVwKHttYXhXaWR0aDogJzEwMCUnCiAgICAgICAgICAgIAogICAgICAgICAgICB9KTsKCiAgICAgICAgICAgIAogICAgICAgICAgICAgICAgdmFyIGh0bWxfOTAyY2EwZjRkNzBiNDBjNThmNGJiNTY5ZDhjMmVlMzUgPSAkKGA8ZGl2IGlkPSJodG1sXzkwMmNhMGY0ZDcwYjQwYzU4ZjRiYjU2OWQ4YzJlZTM1IiBzdHlsZT0id2lkdGg6IDEwMC4wJTsgaGVpZ2h0OiAxMDAuMCU7Ij5BZGVsYWlkZSwgS2luZywgUmljaG1vbmQsIERvd250b3duIFRvcm9udG88L2Rpdj5gKVswXTsKICAgICAgICAgICAgICAgIHBvcHVwXzIzN2VlNGZkMzQzMDRjMDE5YzEwNDllMzY3MDZkMjUzLnNldENvbnRlbnQoaHRtbF85MDJjYTBmNGQ3MGI0MGM1OGY0YmI1NjlkOGMyZWUzNSk7CiAgICAgICAgICAgIAoKICAgICAgICAgICAgbWFya2VyX2Q0YTc4MDllZWY3NTQ1MTk5ZTU2NTkzYzkxYTM0ZmY5LmJpbmRQb3B1cChwb3B1cF8yMzdlZTRmZDM0MzA0YzAxOWMxMDQ5ZTM2NzA2ZDI1MykKICAgICAgICAgICAgOwoKICAgICAgICAgICAgCiAgICAgICAgCiAgICAKICAgICAgICB2YXIgbWFya2VyXzcxMjQxNDZhODYyNTQyMDg4ZmY0ZmFlYTZlMzhlNDk4ID0gTC5tYXJrZXIoCiAgICAgICAgICAgIFs0My42NjkwMDUxMDAwMDAwMSwgLTc5LjQ0MjI1OTNdLAogICAgICAgICAgICB7CiAgICAgICAgICAgICAgICBpY29uOiBuZXcgTC5JY29uLkRlZmF1bHQoKSwKICAgICAgICAgICAgICAgIH0KICAgICAgICAgICAgKS5hZGRUbyhtYXJrZXJfY2x1c3Rlcl8yNTIyNjUzY2FmZjE0ZTZiOWY2ZTg1MzE1ZjRlNTBhMCk7CiAgICAgICAgCiAgICAKICAgICAgICAgICAgdmFyIHBvcHVwXzNmMWQ0Yjg2Y2M0MDQxZTA5ZjgzNDQ4ZmQzMzEwOGQ5ID0gTC5wb3B1cCh7bWF4V2lkdGg6ICcxMDAlJwogICAgICAgICAgICAKICAgICAgICAgICAgfSk7CgogICAgICAgICAgICAKICAgICAgICAgICAgICAgIHZhciBodG1sX2Y3NjYxNWExM2MwNjQxMTJhYzQ4YjBmYmQ5ZTBjMzNhID0gJChgPGRpdiBpZD0iaHRtbF9mNzY2MTVhMTNjMDY0MTEyYWM0OGIwZmJkOWUwYzMzYSIgc3R5bGU9IndpZHRoOiAxMDAuMCU7IGhlaWdodDogMTAwLjAlOyI+RG92ZXJjb3VydCBWaWxsYWdlLCBEdWZmZXJpbiwgV2VzdCBUb3JvbnRvPC9kaXY+YClbMF07CiAgICAgICAgICAgICAgICBwb3B1cF8zZjFkNGI4NmNjNDA0MWUwOWY4MzQ0OGZkMzMxMDhkOS5zZXRDb250ZW50KGh0bWxfZjc2NjE1YTEzYzA2NDExMmFjNDhiMGZiZDllMGMzM2EpOwogICAgICAgICAgICAKCiAgICAgICAgICAgIG1hcmtlcl83MTI0MTQ2YTg2MjU0MjA4OGZmNGZhZWE2ZTM4ZTQ5OC5iaW5kUG9wdXAocG9wdXBfM2YxZDRiODZjYzQwNDFlMDlmODM0NDhmZDMzMTA4ZDkpCiAgICAgICAgICAgIDsKCiAgICAgICAgICAgIAogICAgICAgIAogICAgCiAgICAgICAgdmFyIG1hcmtlcl8zMjQ4YjQ2YjUzN2M0MGZlOGY3Y2JmOGZkOWRhYWYxMiA9IEwubWFya2VyKAogICAgICAgICAgICBbNDMuNjg1MzQ3LCAtNzkuMzM4MTA2NV0sCiAgICAgICAgICAgIHsKICAgICAgICAgICAgICAgIGljb246IG5ldyBMLkljb24uRGVmYXVsdCgpLAogICAgICAgICAgICAgICAgfQogICAgICAgICAgICApLmFkZFRvKG1hcmtlcl9jbHVzdGVyXzI1MjI2NTNjYWZmMTRlNmI5ZjZlODUzMTVmNGU1MGEwKTsKICAgICAgICAKICAgIAogICAgICAgICAgICB2YXIgcG9wdXBfZmY1OTIxYWYzNzhkNGUzYThlZGNkYjJmZjQ3ZTQyYjggPSBMLnBvcHVwKHttYXhXaWR0aDogJzEwMCUnCiAgICAgICAgICAgIAogICAgICAgICAgICB9KTsKCiAgICAgICAgICAgIAogICAgICAgICAgICAgICAgdmFyIGh0bWxfMjk4ZGY5N2M1MDM0NDdiY2I3NWQ2ZTUwM2VhMjc1NzQgPSAkKGA8ZGl2IGlkPSJodG1sXzI5OGRmOTdjNTAzNDQ3YmNiNzVkNmU1MDNlYTI3NTc0IiBzdHlsZT0id2lkdGg6IDEwMC4wJTsgaGVpZ2h0OiAxMDAuMCU7Ij5FYXN0IFRvcm9udG8sIEVhc3QgWW9yazwvZGl2PmApWzBdOwogICAgICAgICAgICAgICAgcG9wdXBfZmY1OTIxYWYzNzhkNGUzYThlZGNkYjJmZjQ3ZTQyYjguc2V0Q29udGVudChodG1sXzI5OGRmOTdjNTAzNDQ3YmNiNzVkNmU1MDNlYTI3NTc0KTsKICAgICAgICAgICAgCgogICAgICAgICAgICBtYXJrZXJfMzI0OGI0NmI1MzdjNDBmZThmN2NiZjhmZDlkYWFmMTIuYmluZFBvcHVwKHBvcHVwX2ZmNTkyMWFmMzc4ZDRlM2E4ZWRjZGIyZmY0N2U0MmI4KQogICAgICAgICAgICA7CgogICAgICAgICAgICAKICAgICAgICAKICAgIAogICAgICAgIHZhciBtYXJrZXJfMWIxZTVkYTU5MDFhNDIwZWJhZmMxNmY1OWIxM2Q4MDcgPSBMLm1hcmtlcigKICAgICAgICAgICAgWzQzLjY0MDgxNTcsIC03OS4zODE3NTIyOTk5OTk5OV0sCiAgICAgICAgICAgIHsKICAgICAgICAgICAgICAgIGljb246IG5ldyBMLkljb24uRGVmYXVsdCgpLAogICAgICAgICAgICAgICAgfQogICAgICAgICAgICApLmFkZFRvKG1hcmtlcl9jbHVzdGVyXzI1MjI2NTNjYWZmMTRlNmI5ZjZlODUzMTVmNGU1MGEwKTsKICAgICAgICAKICAgIAogICAgICAgICAgICB2YXIgcG9wdXBfMWE3MDdlNzE5YmQwNDY3MDhkOWM2N2ZiYWE2NjMzMDkgPSBMLnBvcHVwKHttYXhXaWR0aDogJzEwMCUnCiAgICAgICAgICAgIAogICAgICAgICAgICB9KTsKCiAgICAgICAgICAgIAogICAgICAgICAgICAgICAgdmFyIGh0bWxfMTdkZDY2NWY0NjJmNGE2OTk5YTliZTM1YmE1ZTgxNWYgPSAkKGA8ZGl2IGlkPSJodG1sXzE3ZGQ2NjVmNDYyZjRhNjk5OWE5YmUzNWJhNWU4MTVmIiBzdHlsZT0id2lkdGg6IDEwMC4wJTsgaGVpZ2h0OiAxMDAuMCU7Ij5IYXJib3VyZnJvbnQgRWFzdCwgVG9yb250byBJc2xhbmRzLCBVbmlvbiBTdGF0aW9uLCBEb3dudG93biBUb3JvbnRvPC9kaXY+YClbMF07CiAgICAgICAgICAgICAgICBwb3B1cF8xYTcwN2U3MTliZDA0NjcwOGQ5YzY3ZmJhYTY2MzMwOS5zZXRDb250ZW50KGh0bWxfMTdkZDY2NWY0NjJmNGE2OTk5YTliZTM1YmE1ZTgxNWYpOwogICAgICAgICAgICAKCiAgICAgICAgICAgIG1hcmtlcl8xYjFlNWRhNTkwMWE0MjBlYmFmYzE2ZjU5YjEzZDgwNy5iaW5kUG9wdXAocG9wdXBfMWE3MDdlNzE5YmQwNDY3MDhkOWM2N2ZiYWE2NjMzMDkpCiAgICAgICAgICAgIDsKCiAgICAgICAgICAgIAogICAgICAgIAogICAgCiAgICAgICAgdmFyIG1hcmtlcl81MWZlMDcwYzI2M2Q0NGE1YTA5ZTM1NDQwMzFkZjFkNSA9IEwubWFya2VyKAogICAgICAgICAgICBbNDMuNjQ3OTI2NzAwMDAwMDA2LCAtNzkuNDE5NzQ5N10sCiAgICAgICAgICAgIHsKICAgICAgICAgICAgICAgIGljb246IG5ldyBMLkljb24uRGVmYXVsdCgpLAogICAgICAgICAgICAgICAgfQogICAgICAgICAgICApLmFkZFRvKG1hcmtlcl9jbHVzdGVyXzI1MjI2NTNjYWZmMTRlNmI5ZjZlODUzMTVmNGU1MGEwKTsKICAgICAgICAKICAgIAogICAgICAgICAgICB2YXIgcG9wdXBfNDFmNmNlYjA1YjliNDVhMzlhNTViZDU5YWI3YWIyN2YgPSBMLnBvcHVwKHttYXhXaWR0aDogJzEwMCUnCiAgICAgICAgICAgIAogICAgICAgICAgICB9KTsKCiAgICAgICAgICAgIAogICAgICAgICAgICAgICAgdmFyIGh0bWxfZDQ4YWZhOTRiNjVhNGRiYWJhZWU1Nzc2OGUxZTE1YjcgPSAkKGA8ZGl2IGlkPSJodG1sX2Q0OGFmYTk0YjY1YTRkYmFiYWVlNTc3NjhlMWUxNWI3IiBzdHlsZT0id2lkdGg6IDEwMC4wJTsgaGVpZ2h0OiAxMDAuMCU7Ij5MaXR0bGUgUG9ydHVnYWwsIFRyaW5pdHksIFdlc3QgVG9yb250bzwvZGl2PmApWzBdOwogICAgICAgICAgICAgICAgcG9wdXBfNDFmNmNlYjA1YjliNDVhMzlhNTViZDU5YWI3YWIyN2Yuc2V0Q29udGVudChodG1sX2Q0OGFmYTk0YjY1YTRkYmFiYWVlNTc3NjhlMWUxNWI3KTsKICAgICAgICAgICAgCgogICAgICAgICAgICBtYXJrZXJfNTFmZTA3MGMyNjNkNDRhNWEwOWUzNTQ0MDMxZGYxZDUuYmluZFBvcHVwKHBvcHVwXzQxZjZjZWIwNWI5YjQ1YTM5YTU1YmQ1OWFiN2FiMjdmKQogICAgICAgICAgICA7CgogICAgICAgICAgICAKICAgICAgICAKICAgIAogICAgICAgIHZhciBtYXJrZXJfMWJhOWNmNTJjYWM4NDIyOGJkM2E2NTg4NjI0NmNjMDYgPSBMLm1hcmtlcigKICAgICAgICAgICAgWzQzLjczNzQ3MzIwMDAwMDAwNCwgLTc5LjQ2NDc2MzI5OTk5OTk5XSwKICAgICAgICAgICAgewogICAgICAgICAgICAgICAgaWNvbjogbmV3IEwuSWNvbi5EZWZhdWx0KCksCiAgICAgICAgICAgICAgICB9CiAgICAgICAgICAgICkuYWRkVG8obWFya2VyX2NsdXN0ZXJfMjUyMjY1M2NhZmYxNGU2YjlmNmU4NTMxNWY0ZTUwYTApOwogICAgICAgIAogICAgCiAgICAgICAgICAgIHZhciBwb3B1cF9hMDNmYzUwZGI1YzE0ZTg2OGZiZTU2NGJmZWI5ZTE4OCA9IEwucG9wdXAoe21heFdpZHRoOiAnMTAwJScKICAgICAgICAgICAgCiAgICAgICAgICAgIH0pOwoKICAgICAgICAgICAgCiAgICAgICAgICAgICAgICB2YXIgaHRtbF80OWUyYTRiMTcyODQ0Yzg4OTI0NzgwYWQ5N2NjOGI2YyA9ICQoYDxkaXYgaWQ9Imh0bWxfNDllMmE0YjE3Mjg0NGM4ODkyNDc4MGFkOTdjYzhiNmMiIHN0eWxlPSJ3aWR0aDogMTAwLjAlOyBoZWlnaHQ6IDEwMC4wJTsiPkNGQiBUb3JvbnRvLCBEb3duc3ZpZXcgRWFzdCwgTm9ydGggWW9yazwvZGl2PmApWzBdOwogICAgICAgICAgICAgICAgcG9wdXBfYTAzZmM1MGRiNWMxNGU4NjhmYmU1NjRiZmViOWUxODguc2V0Q29udGVudChodG1sXzQ5ZTJhNGIxNzI4NDRjODg5MjQ3ODBhZDk3Y2M4YjZjKTsKICAgICAgICAgICAgCgogICAgICAgICAgICBtYXJrZXJfMWJhOWNmNTJjYWM4NDIyOGJkM2E2NTg4NjI0NmNjMDYuYmluZFBvcHVwKHBvcHVwX2EwM2ZjNTBkYjVjMTRlODY4ZmJlNTY0YmZlYjllMTg4KQogICAgICAgICAgICA7CgogICAgICAgICAgICAKICAgICAgICAKICAgIAogICAgICAgIHZhciBtYXJrZXJfOGVhNzM4YTY1MDcxNGRiZmI2NGZjY2M4MTE1NDRiZjcgPSBMLm1hcmtlcigKICAgICAgICAgICAgWzQzLjY3OTU1NzEsIC03OS4zNTIxODhdLAogICAgICAgICAgICB7CiAgICAgICAgICAgICAgICBpY29uOiBuZXcgTC5JY29uLkRlZmF1bHQoKSwKICAgICAgICAgICAgICAgIH0KICAgICAgICAgICAgKS5hZGRUbyhtYXJrZXJfY2x1c3Rlcl8yNTIyNjUzY2FmZjE0ZTZiOWY2ZTg1MzE1ZjRlNTBhMCk7CiAgICAgICAgCiAgICAKICAgICAgICAgICAgdmFyIHBvcHVwXzk1NGRkYThiMDIxMDQ4OTU4MjBmNTgzNjNjNGNmZjgwID0gTC5wb3B1cCh7bWF4V2lkdGg6ICcxMDAlJwogICAgICAgICAgICAKICAgICAgICAgICAgfSk7CgogICAgICAgICAgICAKICAgICAgICAgICAgICAgIHZhciBodG1sXzQ2YWQ2M2RlOGQxNTQzODJiMTVjZTA3ZjZhODI0N2NlID0gJChgPGRpdiBpZD0iaHRtbF80NmFkNjNkZThkMTU0MzgyYjE1Y2UwN2Y2YTgyNDdjZSIgc3R5bGU9IndpZHRoOiAxMDAuMCU7IGhlaWdodDogMTAwLjAlOyI+VGhlIERhbmZvcnRoIFdlc3QsIFJpdmVyZGFsZSwgRWFzdCBUb3JvbnRvPC9kaXY+YClbMF07CiAgICAgICAgICAgICAgICBwb3B1cF85NTRkZGE4YjAyMTA0ODk1ODIwZjU4MzYzYzRjZmY4MC5zZXRDb250ZW50KGh0bWxfNDZhZDYzZGU4ZDE1NDM4MmIxNWNlMDdmNmE4MjQ3Y2UpOwogICAgICAgICAgICAKCiAgICAgICAgICAgIG1hcmtlcl84ZWE3MzhhNjUwNzE0ZGJmYjY0ZmNjYzgxMTU0NGJmNy5iaW5kUG9wdXAocG9wdXBfOTU0ZGRhOGIwMjEwNDg5NTgyMGY1ODM2M2M0Y2ZmODApCiAgICAgICAgICAgIDsKCiAgICAgICAgICAgIAogICAgICAgIAogICAgCiAgICAgICAgdmFyIG1hcmtlcl9hNDU0YjNhMWI3ZGM0ZmVkYWNiNDJlNjg3MmMwNDI3NiA9IEwubWFya2VyKAogICAgICAgICAgICBbNDMuNjQ3MTc2OCwgLTc5LjM4MTU3NjQwMDAwMDAxXSwKICAgICAgICAgICAgewogICAgICAgICAgICAgICAgaWNvbjogbmV3IEwuSWNvbi5EZWZhdWx0KCksCiAgICAgICAgICAgICAgICB9CiAgICAgICAgICAgICkuYWRkVG8obWFya2VyX2NsdXN0ZXJfMjUyMjY1M2NhZmYxNGU2YjlmNmU4NTMxNWY0ZTUwYTApOwogICAgICAgIAogICAgCiAgICAgICAgICAgIHZhciBwb3B1cF8yNDAwMmU0OWFkZWI0NjAxYmJkOTI3MTAwYTk3NTE4OCA9IEwucG9wdXAoe21heFdpZHRoOiAnMTAwJScKICAgICAgICAgICAgCiAgICAgICAgICAgIH0pOwoKICAgICAgICAgICAgCiAgICAgICAgICAgICAgICB2YXIgaHRtbF82ZjJlYmQ4YTkxNzU0MTBkYTE3ZGM4MWNmN2JhNzE1YyA9ICQoYDxkaXYgaWQ9Imh0bWxfNmYyZWJkOGE5MTc1NDEwZGExN2RjODFjZjdiYTcxNWMiIHN0eWxlPSJ3aWR0aDogMTAwLjAlOyBoZWlnaHQ6IDEwMC4wJTsiPkRlc2lnbiBFeGNoYW5nZSwgVG9yb250byBEb21pbmlvbiBDZW50cmUsIERvd250b3duIFRvcm9udG88L2Rpdj5gKVswXTsKICAgICAgICAgICAgICAgIHBvcHVwXzI0MDAyZTQ5YWRlYjQ2MDFiYmQ5MjcxMDBhOTc1MTg4LnNldENvbnRlbnQoaHRtbF82ZjJlYmQ4YTkxNzU0MTBkYTE3ZGM4MWNmN2JhNzE1Yyk7CiAgICAgICAgICAgIAoKICAgICAgICAgICAgbWFya2VyX2E0NTRiM2ExYjdkYzRmZWRhY2I0MmU2ODcyYzA0Mjc2LmJpbmRQb3B1cChwb3B1cF8yNDAwMmU0OWFkZWI0NjAxYmJkOTI3MTAwYTk3NTE4OCkKICAgICAgICAgICAgOwoKICAgICAgICAgICAgCiAgICAgICAgCiAgICAKICAgICAgICB2YXIgbWFya2VyXzRhYWE2M2RjYzcyMzRkNjJiNjYxODM0YjlhNmRkNjg5ID0gTC5tYXJrZXIoCiAgICAgICAgICAgIFs0My42MzY4NDcyLCAtNzkuNDI4MTkxNDAwMDAwMDJdLAogICAgICAgICAgICB7CiAgICAgICAgICAgICAgICBpY29uOiBuZXcgTC5JY29uLkRlZmF1bHQoKSwKICAgICAgICAgICAgICAgIH0KICAgICAgICAgICAgKS5hZGRUbyhtYXJrZXJfY2x1c3Rlcl8yNTIyNjUzY2FmZjE0ZTZiOWY2ZTg1MzE1ZjRlNTBhMCk7CiAgICAgICAgCiAgICAKICAgICAgICAgICAgdmFyIHBvcHVwXzMxZjI2NDUwYTljMzQwYTRhMWZkOTZjMGVlY2VhYzU4ID0gTC5wb3B1cCh7bWF4V2lkdGg6ICcxMDAlJwogICAgICAgICAgICAKICAgICAgICAgICAgfSk7CgogICAgICAgICAgICAKICAgICAgICAgICAgICAgIHZhciBodG1sXzU3Mjg2NjQ0N2VjZDQ4YTY5MzA5ODk5YzQ1MGNkMzYxID0gJChgPGRpdiBpZD0iaHRtbF81NzI4NjY0NDdlY2Q0OGE2OTMwOTg5OWM0NTBjZDM2MSIgc3R5bGU9IndpZHRoOiAxMDAuMCU7IGhlaWdodDogMTAwLjAlOyI+QnJvY2t0b24sIEV4aGliaXRpb24gUGxhY2UsIFBhcmtkYWxlIFZpbGxhZ2UsIFdlc3QgVG9yb250bzwvZGl2PmApWzBdOwogICAgICAgICAgICAgICAgcG9wdXBfMzFmMjY0NTBhOWMzNDBhNGExZmQ5NmMwZWVjZWFjNTguc2V0Q29udGVudChodG1sXzU3Mjg2NjQ0N2VjZDQ4YTY5MzA5ODk5YzQ1MGNkMzYxKTsKICAgICAgICAgICAgCgogICAgICAgICAgICBtYXJrZXJfNGFhYTYzZGNjNzIzNGQ2MmI2NjE4MzRiOWE2ZGQ2ODkuYmluZFBvcHVwKHBvcHVwXzMxZjI2NDUwYTljMzQwYTRhMWZkOTZjMGVlY2VhYzU4KQogICAgICAgICAgICA7CgogICAgICAgICAgICAKICAgICAgICAKICAgIAogICAgICAgIHZhciBtYXJrZXJfZjI4OTFjZTkzN2IwNDA3YjhkY2IwMGZkYzY0MDBjZGQgPSBMLm1hcmtlcigKICAgICAgICAgICAgWzQzLjY2ODk5ODUsIC03OS4zMTU1NzE1OTk5OTk5OF0sCiAgICAgICAgICAgIHsKICAgICAgICAgICAgICAgIGljb246IG5ldyBMLkljb24uRGVmYXVsdCgpLAogICAgICAgICAgICAgICAgfQogICAgICAgICAgICApLmFkZFRvKG1hcmtlcl9jbHVzdGVyXzI1MjI2NTNjYWZmMTRlNmI5ZjZlODUzMTVmNGU1MGEwKTsKICAgICAgICAKICAgIAogICAgICAgICAgICB2YXIgcG9wdXBfMTY3YmQ3ZjkyMjRlNDcwMmFlZTQ4YzY1M2YwZjA2MjUgPSBMLnBvcHVwKHttYXhXaWR0aDogJzEwMCUnCiAgICAgICAgICAgIAogICAgICAgICAgICB9KTsKCiAgICAgICAgICAgIAogICAgICAgICAgICAgICAgdmFyIGh0bWxfOWYxMDBlMGZhMzdhNDA5Nzg4Zjg3ZGY4Mjg4NjYzOGEgPSAkKGA8ZGl2IGlkPSJodG1sXzlmMTAwZTBmYTM3YTQwOTc4OGY4N2RmODI4ODY2MzhhIiBzdHlsZT0id2lkdGg6IDEwMC4wJTsgaGVpZ2h0OiAxMDAuMCU7Ij5UaGUgQmVhY2hlcyBXZXN0LCBJbmRpYSBCYXphYXIsIEVhc3QgVG9yb250bzwvZGl2PmApWzBdOwogICAgICAgICAgICAgICAgcG9wdXBfMTY3YmQ3ZjkyMjRlNDcwMmFlZTQ4YzY1M2YwZjA2MjUuc2V0Q29udGVudChodG1sXzlmMTAwZTBmYTM3YTQwOTc4OGY4N2RmODI4ODY2MzhhKTsKICAgICAgICAgICAgCgogICAgICAgICAgICBtYXJrZXJfZjI4OTFjZTkzN2IwNDA3YjhkY2IwMGZkYzY0MDBjZGQuYmluZFBvcHVwKHBvcHVwXzE2N2JkN2Y5MjI0ZTQ3MDJhZWU0OGM2NTNmMGYwNjI1KQogICAgICAgICAgICA7CgogICAgICAgICAgICAKICAgICAgICAKICAgIAogICAgICAgIHZhciBtYXJrZXJfZGQ4YWQ4NjJjM2M5NDUxMGI5Mzg4ZDI5MGY0NTIwOTIgPSBMLm1hcmtlcigKICAgICAgICAgICAgWzQzLjY0ODE5ODUsIC03OS4zNzk4MTY5MDAwMDAwMV0sCiAgICAgICAgICAgIHsKICAgICAgICAgICAgICAgIGljb246IG5ldyBMLkljb24uRGVmYXVsdCgpLAogICAgICAgICAgICAgICAgfQogICAgICAgICAgICApLmFkZFRvKG1hcmtlcl9jbHVzdGVyXzI1MjI2NTNjYWZmMTRlNmI5ZjZlODUzMTVmNGU1MGEwKTsKICAgICAgICAKICAgIAogICAgICAgICAgICB2YXIgcG9wdXBfNjcxMTg2MWExMzYzNGYzODg3N2EyM2Q3ZmQ0NWUxMWQgPSBMLnBvcHVwKHttYXhXaWR0aDogJzEwMCUnCiAgICAgICAgICAgIAogICAgICAgICAgICB9KTsKCiAgICAgICAgICAgIAogICAgICAgICAgICAgICAgdmFyIGh0bWxfZWFiMDMzNzUwNTdlNGQ2NGI4ZmE1NTg3NDU0MmU4OWUgPSAkKGA8ZGl2IGlkPSJodG1sX2VhYjAzMzc1MDU3ZTRkNjRiOGZhNTU4NzQ1NDJlODllIiBzdHlsZT0id2lkdGg6IDEwMC4wJTsgaGVpZ2h0OiAxMDAuMCU7Ij5Db21tZXJjZSBDb3VydCwgVmljdG9yaWEgSG90ZWwsIERvd250b3duIFRvcm9udG88L2Rpdj5gKVswXTsKICAgICAgICAgICAgICAgIHBvcHVwXzY3MTE4NjFhMTM2MzRmMzg4NzdhMjNkN2ZkNDVlMTFkLnNldENvbnRlbnQoaHRtbF9lYWIwMzM3NTA1N2U0ZDY0YjhmYTU1ODc0NTQyZTg5ZSk7CiAgICAgICAgICAgIAoKICAgICAgICAgICAgbWFya2VyX2RkOGFkODYyYzNjOTQ1MTBiOTM4OGQyOTBmNDUyMDkyLmJpbmRQb3B1cChwb3B1cF82NzExODYxYTEzNjM0ZjM4ODc3YTIzZDdmZDQ1ZTExZCkKICAgICAgICAgICAgOwoKICAgICAgICAgICAgCiAgICAgICAgCiAgICAKICAgICAgICB2YXIgbWFya2VyXzJhNTk5NjkwZTNhYzQ2OTk5OWQyZmFmYjNiYTk5NzcxID0gTC5tYXJrZXIoCiAgICAgICAgICAgIFs0My42NTk1MjU1LCAtNzkuMzQwOTIzXSwKICAgICAgICAgICAgewogICAgICAgICAgICAgICAgaWNvbjogbmV3IEwuSWNvbi5EZWZhdWx0KCksCiAgICAgICAgICAgICAgICB9CiAgICAgICAgICAgICkuYWRkVG8obWFya2VyX2NsdXN0ZXJfMjUyMjY1M2NhZmYxNGU2YjlmNmU4NTMxNWY0ZTUwYTApOwogICAgICAgIAogICAgCiAgICAgICAgICAgIHZhciBwb3B1cF9hZTc5NTAxMjdlOTA0OWQ0OWQzMjdmM2NjZmIzMTZkZCA9IEwucG9wdXAoe21heFdpZHRoOiAnMTAwJScKICAgICAgICAgICAgCiAgICAgICAgICAgIH0pOwoKICAgICAgICAgICAgCiAgICAgICAgICAgICAgICB2YXIgaHRtbF9mMTE0YTNiZWYzNzM0OWZmYmEzYWM3Y2ZjYTU2NmEyOCA9ICQoYDxkaXYgaWQ9Imh0bWxfZjExNGEzYmVmMzczNDlmZmJhM2FjN2NmY2E1NjZhMjgiIHN0eWxlPSJ3aWR0aDogMTAwLjAlOyBoZWlnaHQ6IDEwMC4wJTsiPlN0dWRpbyBEaXN0cmljdCwgRWFzdCBUb3JvbnRvPC9kaXY+YClbMF07CiAgICAgICAgICAgICAgICBwb3B1cF9hZTc5NTAxMjdlOTA0OWQ0OWQzMjdmM2NjZmIzMTZkZC5zZXRDb250ZW50KGh0bWxfZjExNGEzYmVmMzczNDlmZmJhM2FjN2NmY2E1NjZhMjgpOwogICAgICAgICAgICAKCiAgICAgICAgICAgIG1hcmtlcl8yYTU5OTY5MGUzYWM0Njk5OTlkMmZhZmIzYmE5OTc3MS5iaW5kUG9wdXAocG9wdXBfYWU3OTUwMTI3ZTkwNDlkNDlkMzI3ZjNjY2ZiMzE2ZGQpCiAgICAgICAgICAgIDsKCiAgICAgICAgICAgIAogICAgICAgIAogICAgCiAgICAgICAgdmFyIG1hcmtlcl8xNDkzZjJhMjQ1YzI0ODk1OWZlNWY5ZTNhYWZhZjYwZiA9IEwubWFya2VyKAogICAgICAgICAgICBbNDMuNzI4MDIwNSwgLTc5LjM4ODc5MDFdLAogICAgICAgICAgICB7CiAgICAgICAgICAgICAgICBpY29uOiBuZXcgTC5JY29uLkRlZmF1bHQoKSwKICAgICAgICAgICAgICAgIH0KICAgICAgICAgICAgKS5hZGRUbyhtYXJrZXJfY2x1c3Rlcl8yNTIyNjUzY2FmZjE0ZTZiOWY2ZTg1MzE1ZjRlNTBhMCk7CiAgICAgICAgCiAgICAKICAgICAgICAgICAgdmFyIHBvcHVwX2Y4NjQ5YzYxNGRmOTRiNmVhNGM4MTFjZjYzZGY4YzI3ID0gTC5wb3B1cCh7bWF4V2lkdGg6ICcxMDAlJwogICAgICAgICAgICAKICAgICAgICAgICAgfSk7CgogICAgICAgICAgICAKICAgICAgICAgICAgICAgIHZhciBodG1sXzNlNjY2ZDM5YWNjYTQxYjRiODc3M2JmODE1ZWNmMmFiID0gJChgPGRpdiBpZD0iaHRtbF8zZTY2NmQzOWFjY2E0MWI0Yjg3NzNiZjgxNWVjZjJhYiIgc3R5bGU9IndpZHRoOiAxMDAuMCU7IGhlaWdodDogMTAwLjAlOyI+TGF3cmVuY2UgUGFyaywgQ2VudHJhbCBUb3JvbnRvPC9kaXY+YClbMF07CiAgICAgICAgICAgICAgICBwb3B1cF9mODY0OWM2MTRkZjk0YjZlYTRjODExY2Y2M2RmOGMyNy5zZXRDb250ZW50KGh0bWxfM2U2NjZkMzlhY2NhNDFiNGI4NzczYmY4MTVlY2YyYWIpOwogICAgICAgICAgICAKCiAgICAgICAgICAgIG1hcmtlcl8xNDkzZjJhMjQ1YzI0ODk1OWZlNWY5ZTNhYWZhZjYwZi5iaW5kUG9wdXAocG9wdXBfZjg2NDljNjE0ZGY5NGI2ZWE0YzgxMWNmNjNkZjhjMjcpCiAgICAgICAgICAgIDsKCiAgICAgICAgICAgIAogICAgICAgIAogICAgCiAgICAgICAgdmFyIG1hcmtlcl9lNWJjZDQ4M2RkZGM0NzhiYmM2NWU2M2E3NzgzNTBjYyA9IEwubWFya2VyKAogICAgICAgICAgICBbNDMuNzExNjk0OCwgLTc5LjQxNjkzNTU5OTk5OTk5XSwKICAgICAgICAgICAgewogICAgICAgICAgICAgICAgaWNvbjogbmV3IEwuSWNvbi5EZWZhdWx0KCksCiAgICAgICAgICAgICAgICB9CiAgICAgICAgICAgICkuYWRkVG8obWFya2VyX2NsdXN0ZXJfMjUyMjY1M2NhZmYxNGU2YjlmNmU4NTMxNWY0ZTUwYTApOwogICAgICAgIAogICAgCiAgICAgICAgICAgIHZhciBwb3B1cF81NzEzMDM3YjMwYmM0MzlhOTFjYTJmNTY1Y2VlZTYwZCA9IEwucG9wdXAoe21heFdpZHRoOiAnMTAwJScKICAgICAgICAgICAgCiAgICAgICAgICAgIH0pOwoKICAgICAgICAgICAgCiAgICAgICAgICAgICAgICB2YXIgaHRtbF80NjAwNTA5ZDQ5NGM0ZmNjYjU0NzYzZGMxNGYyNzA0ZiA9ICQoYDxkaXYgaWQ9Imh0bWxfNDYwMDUwOWQ0OTRjNGZjY2I1NDc2M2RjMTRmMjcwNGYiIHN0eWxlPSJ3aWR0aDogMTAwLjAlOyBoZWlnaHQ6IDEwMC4wJTsiPlJvc2VsYXduLCBDZW50cmFsIFRvcm9udG88L2Rpdj5gKVswXTsKICAgICAgICAgICAgICAgIHBvcHVwXzU3MTMwMzdiMzBiYzQzOWE5MWNhMmY1NjVjZWVlNjBkLnNldENvbnRlbnQoaHRtbF80NjAwNTA5ZDQ5NGM0ZmNjYjU0NzYzZGMxNGYyNzA0Zik7CiAgICAgICAgICAgIAoKICAgICAgICAgICAgbWFya2VyX2U1YmNkNDgzZGRkYzQ3OGJiYzY1ZTYzYTc3ODM1MGNjLmJpbmRQb3B1cChwb3B1cF81NzEzMDM3YjMwYmM0MzlhOTFjYTJmNTY1Y2VlZTYwZCkKICAgICAgICAgICAgOwoKICAgICAgICAgICAgCiAgICAgICAgCiAgICAKICAgICAgICB2YXIgbWFya2VyX2U4YzdmMTBmMTU0YTQ0MDI4ZGJiYjkwMWJlYjA2YWExID0gTC5tYXJrZXIoCiAgICAgICAgICAgIFs0My43MTI3NTExLCAtNzkuMzkwMTk3NV0sCiAgICAgICAgICAgIHsKICAgICAgICAgICAgICAgIGljb246IG5ldyBMLkljb24uRGVmYXVsdCgpLAogICAgICAgICAgICAgICAgfQogICAgICAgICAgICApLmFkZFRvKG1hcmtlcl9jbHVzdGVyXzI1MjI2NTNjYWZmMTRlNmI5ZjZlODUzMTVmNGU1MGEwKTsKICAgICAgICAKICAgIAogICAgICAgICAgICB2YXIgcG9wdXBfNWM3MDRmZGM3Y2ZkNGJjYWJiNGY5MWU2NzZiMmE2MDcgPSBMLnBvcHVwKHttYXhXaWR0aDogJzEwMCUnCiAgICAgICAgICAgIAogICAgICAgICAgICB9KTsKCiAgICAgICAgICAgIAogICAgICAgICAgICAgICAgdmFyIGh0bWxfYmQ2OWYzYWQyMzlhNGI3NDljN2Q3NGM3MTk3ZDdlYTggPSAkKGA8ZGl2IGlkPSJodG1sX2JkNjlmM2FkMjM5YTRiNzQ5YzdkNzRjNzE5N2Q3ZWE4IiBzdHlsZT0id2lkdGg6IDEwMC4wJTsgaGVpZ2h0OiAxMDAuMCU7Ij5EYXZpc3ZpbGxlIE5vcnRoLCBDZW50cmFsIFRvcm9udG88L2Rpdj5gKVswXTsKICAgICAgICAgICAgICAgIHBvcHVwXzVjNzA0ZmRjN2NmZDRiY2FiYjRmOTFlNjc2YjJhNjA3LnNldENvbnRlbnQoaHRtbF9iZDY5ZjNhZDIzOWE0Yjc0OWM3ZDc0YzcxOTdkN2VhOCk7CiAgICAgICAgICAgIAoKICAgICAgICAgICAgbWFya2VyX2U4YzdmMTBmMTU0YTQ0MDI4ZGJiYjkwMWJlYjA2YWExLmJpbmRQb3B1cChwb3B1cF81YzcwNGZkYzdjZmQ0YmNhYmI0ZjkxZTY3NmIyYTYwNykKICAgICAgICAgICAgOwoKICAgICAgICAgICAgCiAgICAgICAgCiAgICAKICAgICAgICB2YXIgbWFya2VyXzRmYTI2YTVmZDlkMTRmMThiNzNjNmExOTc2NDczYmEyID0gTC5tYXJrZXIoCiAgICAgICAgICAgIFs0My42OTY5NDc2LCAtNzkuNDExMzA3MjAwMDAwMDFdLAogICAgICAgICAgICB7CiAgICAgICAgICAgICAgICBpY29uOiBuZXcgTC5JY29uLkRlZmF1bHQoKSwKICAgICAgICAgICAgICAgIH0KICAgICAgICAgICAgKS5hZGRUbyhtYXJrZXJfY2x1c3Rlcl8yNTIyNjUzY2FmZjE0ZTZiOWY2ZTg1MzE1ZjRlNTBhMCk7CiAgICAgICAgCiAgICAKICAgICAgICAgICAgdmFyIHBvcHVwXzg2NTM3Njc2YTI5YzRjMWZiYjkxODE1ZTg2ZDAxZmNkID0gTC5wb3B1cCh7bWF4V2lkdGg6ICcxMDAlJwogICAgICAgICAgICAKICAgICAgICAgICAgfSk7CgogICAgICAgICAgICAKICAgICAgICAgICAgICAgIHZhciBodG1sXzI3YzIyMWQ4YWIyYTQxZWZhNGYyOWNmMmMzZDdlZGY2ID0gJChgPGRpdiBpZD0iaHRtbF8yN2MyMjFkOGFiMmE0MWVmYTRmMjljZjJjM2Q3ZWRmNiIgc3R5bGU9IndpZHRoOiAxMDAuMCU7IGhlaWdodDogMTAwLjAlOyI+Rm9yZXN0IEhpbGwgTm9ydGgsIEZvcmVzdCBIaWxsIFdlc3QsIENlbnRyYWwgVG9yb250bzwvZGl2PmApWzBdOwogICAgICAgICAgICAgICAgcG9wdXBfODY1Mzc2NzZhMjljNGMxZmJiOTE4MTVlODZkMDFmY2Quc2V0Q29udGVudChodG1sXzI3YzIyMWQ4YWIyYTQxZWZhNGYyOWNmMmMzZDdlZGY2KTsKICAgICAgICAgICAgCgogICAgICAgICAgICBtYXJrZXJfNGZhMjZhNWZkOWQxNGYxOGI3M2M2YTE5NzY0NzNiYTIuYmluZFBvcHVwKHBvcHVwXzg2NTM3Njc2YTI5YzRjMWZiYjkxODE1ZTg2ZDAxZmNkKQogICAgICAgICAgICA7CgogICAgICAgICAgICAKICAgICAgICAKICAgIAogICAgICAgIHZhciBtYXJrZXJfNWQwMWVhYjM0ZWU3NGE0ZTgzMmIzYjU1NzliNzRhYjkgPSBMLm1hcmtlcigKICAgICAgICAgICAgWzQzLjY2MTYwODMsIC03OS40NjQ3NjMyOTk5OTk5OV0sCiAgICAgICAgICAgIHsKICAgICAgICAgICAgICAgIGljb246IG5ldyBMLkljb24uRGVmYXVsdCgpLAogICAgICAgICAgICAgICAgfQogICAgICAgICAgICApLmFkZFRvKG1hcmtlcl9jbHVzdGVyXzI1MjI2NTNjYWZmMTRlNmI5ZjZlODUzMTVmNGU1MGEwKTsKICAgICAgICAKICAgIAogICAgICAgICAgICB2YXIgcG9wdXBfNWIyMGMyOTk3ZDJhNGZhYThiZWM0ZDQ3ZmZkZDc5YTQgPSBMLnBvcHVwKHttYXhXaWR0aDogJzEwMCUnCiAgICAgICAgICAgIAogICAgICAgICAgICB9KTsKCiAgICAgICAgICAgIAogICAgICAgICAgICAgICAgdmFyIGh0bWxfNDE2NDQ4NzhlZGNmNGIzYmExYWQyNmZhYjJlNWI2MmUgPSAkKGA8ZGl2IGlkPSJodG1sXzQxNjQ0ODc4ZWRjZjRiM2JhMWFkMjZmYWIyZTViNjJlIiBzdHlsZT0id2lkdGg6IDEwMC4wJTsgaGVpZ2h0OiAxMDAuMCU7Ij5IaWdoIFBhcmssIFRoZSBKdW5jdGlvbiBTb3V0aCwgV2VzdCBUb3JvbnRvPC9kaXY+YClbMF07CiAgICAgICAgICAgICAgICBwb3B1cF81YjIwYzI5OTdkMmE0ZmFhOGJlYzRkNDdmZmRkNzlhNC5zZXRDb250ZW50KGh0bWxfNDE2NDQ4NzhlZGNmNGIzYmExYWQyNmZhYjJlNWI2MmUpOwogICAgICAgICAgICAKCiAgICAgICAgICAgIG1hcmtlcl81ZDAxZWFiMzRlZTc0YTRlODMyYjNiNTU3OWI3NGFiOS5iaW5kUG9wdXAocG9wdXBfNWIyMGMyOTk3ZDJhNGZhYThiZWM0ZDQ3ZmZkZDc5YTQpCiAgICAgICAgICAgIDsKCiAgICAgICAgICAgIAogICAgICAgIAogICAgCiAgICAgICAgdmFyIG1hcmtlcl83NTc4YTZmNWFhN2Q0ZDkzYTQ1YjFiNDVlYjg4YjgyNyA9IEwubWFya2VyKAogICAgICAgICAgICBbNDMuNzE1MzgzNCwgLTc5LjQwNTY3ODQwMDAwMDAxXSwKICAgICAgICAgICAgewogICAgICAgICAgICAgICAgaWNvbjogbmV3IEwuSWNvbi5EZWZhdWx0KCksCiAgICAgICAgICAgICAgICB9CiAgICAgICAgICAgICkuYWRkVG8obWFya2VyX2NsdXN0ZXJfMjUyMjY1M2NhZmYxNGU2YjlmNmU4NTMxNWY0ZTUwYTApOwogICAgICAgIAogICAgCiAgICAgICAgICAgIHZhciBwb3B1cF8wZTM2YjY1NWQzZjQ0YzA1YWIyOWRmYTVlNTQ0M2Y1ZiA9IEwucG9wdXAoe21heFdpZHRoOiAnMTAwJScKICAgICAgICAgICAgCiAgICAgICAgICAgIH0pOwoKICAgICAgICAgICAgCiAgICAgICAgICAgICAgICB2YXIgaHRtbF8xZTc0MDllNzFkYzY0MjllOGZhNzMwN2YyMDM4YjU0MSA9ICQoYDxkaXYgaWQ9Imh0bWxfMWU3NDA5ZTcxZGM2NDI5ZThmYTczMDdmMjAzOGI1NDEiIHN0eWxlPSJ3aWR0aDogMTAwLjAlOyBoZWlnaHQ6IDEwMC4wJTsiPk5vcnRoIFRvcm9udG8gV2VzdCwgQ2VudHJhbCBUb3JvbnRvPC9kaXY+YClbMF07CiAgICAgICAgICAgICAgICBwb3B1cF8wZTM2YjY1NWQzZjQ0YzA1YWIyOWRmYTVlNTQ0M2Y1Zi5zZXRDb250ZW50KGh0bWxfMWU3NDA5ZTcxZGM2NDI5ZThmYTczMDdmMjAzOGI1NDEpOwogICAgICAgICAgICAKCiAgICAgICAgICAgIG1hcmtlcl83NTc4YTZmNWFhN2Q0ZDkzYTQ1YjFiNDVlYjg4YjgyNy5iaW5kUG9wdXAocG9wdXBfMGUzNmI2NTVkM2Y0NGMwNWFiMjlkZmE1ZTU0NDNmNWYpCiAgICAgICAgICAgIDsKCiAgICAgICAgICAgIAogICAgICAgIAogICAgCiAgICAgICAgdmFyIG1hcmtlcl82M2NjNTNlNzYxODI0YTNjYTk4M2U0N2NjNzNlMWEyNyA9IEwubWFya2VyKAogICAgICAgICAgICBbNDMuNjcyNzA5NywgLTc5LjQwNTY3ODQwMDAwMDAxXSwKICAgICAgICAgICAgewogICAgICAgICAgICAgICAgaWNvbjogbmV3IEwuSWNvbi5EZWZhdWx0KCksCiAgICAgICAgICAgICAgICB9CiAgICAgICAgICAgICkuYWRkVG8obWFya2VyX2NsdXN0ZXJfMjUyMjY1M2NhZmYxNGU2YjlmNmU4NTMxNWY0ZTUwYTApOwogICAgICAgIAogICAgCiAgICAgICAgICAgIHZhciBwb3B1cF9jNDY0OGJjNGUyMWY0MWYyODYwMTUwZDg2OTE2MjA1ZSA9IEwucG9wdXAoe21heFdpZHRoOiAnMTAwJScKICAgICAgICAgICAgCiAgICAgICAgICAgIH0pOwoKICAgICAgICAgICAgCiAgICAgICAgICAgICAgICB2YXIgaHRtbF80OTYzNzExY2E4N2Y0ZDVjYTczOTRiN2U1N2RiNmI0YiA9ICQoYDxkaXYgaWQ9Imh0bWxfNDk2MzcxMWNhODdmNGQ1Y2E3Mzk0YjdlNTdkYjZiNGIiIHN0eWxlPSJ3aWR0aDogMTAwLjAlOyBoZWlnaHQ6IDEwMC4wJTsiPlRoZSBBbm5leCwgTm9ydGggTWlkdG93biwgWW9ya3ZpbGxlLCBDZW50cmFsIFRvcm9udG88L2Rpdj5gKVswXTsKICAgICAgICAgICAgICAgIHBvcHVwX2M0NjQ4YmM0ZTIxZjQxZjI4NjAxNTBkODY5MTYyMDVlLnNldENvbnRlbnQoaHRtbF80OTYzNzExY2E4N2Y0ZDVjYTczOTRiN2U1N2RiNmI0Yik7CiAgICAgICAgICAgIAoKICAgICAgICAgICAgbWFya2VyXzYzY2M1M2U3NjE4MjRhM2NhOTgzZTQ3Y2M3M2UxYTI3LmJpbmRQb3B1cChwb3B1cF9jNDY0OGJjNGUyMWY0MWYyODYwMTUwZDg2OTE2MjA1ZSkKICAgICAgICAgICAgOwoKICAgICAgICAgICAgCiAgICAgICAgCiAgICAKICAgICAgICB2YXIgbWFya2VyX2IzMTQyNTg1MjQyYzRkMjhiZjY2MGRkMjhiMThlMDI2ID0gTC5tYXJrZXIoCiAgICAgICAgICAgIFs0My42NDg5NTk3LCAtNzkuNDU2MzI1XSwKICAgICAgICAgICAgewogICAgICAgICAgICAgICAgaWNvbjogbmV3IEwuSWNvbi5EZWZhdWx0KCksCiAgICAgICAgICAgICAgICB9CiAgICAgICAgICAgICkuYWRkVG8obWFya2VyX2NsdXN0ZXJfMjUyMjY1M2NhZmYxNGU2YjlmNmU4NTMxNWY0ZTUwYTApOwogICAgICAgIAogICAgCiAgICAgICAgICAgIHZhciBwb3B1cF9iMjEyZWQ3ZGJiZGQ0NzQ1YWYzOTJjOGViNzNlNmE5MiA9IEwucG9wdXAoe21heFdpZHRoOiAnMTAwJScKICAgICAgICAgICAgCiAgICAgICAgICAgIH0pOwoKICAgICAgICAgICAgCiAgICAgICAgICAgICAgICB2YXIgaHRtbF80NDZjNmZlMTRlOTM0MTA1OWJhY2I2MzMwMmM4OGQ1ZCA9ICQoYDxkaXYgaWQ9Imh0bWxfNDQ2YzZmZTE0ZTkzNDEwNTliYWNiNjMzMDJjODhkNWQiIHN0eWxlPSJ3aWR0aDogMTAwLjAlOyBoZWlnaHQ6IDEwMC4wJTsiPlBhcmtkYWxlLCBSb25jZXN2YWxsZXMsIFdlc3QgVG9yb250bzwvZGl2PmApWzBdOwogICAgICAgICAgICAgICAgcG9wdXBfYjIxMmVkN2RiYmRkNDc0NWFmMzkyYzhlYjczZTZhOTIuc2V0Q29udGVudChodG1sXzQ0NmM2ZmUxNGU5MzQxMDU5YmFjYjYzMzAyYzg4ZDVkKTsKICAgICAgICAgICAgCgogICAgICAgICAgICBtYXJrZXJfYjMxNDI1ODUyNDJjNGQyOGJmNjYwZGQyOGIxOGUwMjYuYmluZFBvcHVwKHBvcHVwX2IyMTJlZDdkYmJkZDQ3NDVhZjM5MmM4ZWI3M2U2YTkyKQogICAgICAgICAgICA7CgogICAgICAgICAgICAKICAgICAgICAKICAgIAogICAgICAgIHZhciBtYXJrZXJfMmNjOTg0MjkxYTJmNGFjZDk1MWZjNGE2MzJkOTU4NmIgPSBMLm1hcmtlcigKICAgICAgICAgICAgWzQzLjcwNDMyNDQsIC03OS4zODg3OTAxXSwKICAgICAgICAgICAgewogICAgICAgICAgICAgICAgaWNvbjogbmV3IEwuSWNvbi5EZWZhdWx0KCksCiAgICAgICAgICAgICAgICB9CiAgICAgICAgICAgICkuYWRkVG8obWFya2VyX2NsdXN0ZXJfMjUyMjY1M2NhZmYxNGU2YjlmNmU4NTMxNWY0ZTUwYTApOwogICAgICAgIAogICAgCiAgICAgICAgICAgIHZhciBwb3B1cF9hZGZlZDVkN2NmZjA0NjhhODFkYzE2NjIwMzI1MDJmMyA9IEwucG9wdXAoe21heFdpZHRoOiAnMTAwJScKICAgICAgICAgICAgCiAgICAgICAgICAgIH0pOwoKICAgICAgICAgICAgCiAgICAgICAgICAgICAgICB2YXIgaHRtbF85NzQ0Yzg3ODVlMTA0NjQzYmRlOTAyMjdlMjU5YjBjZSA9ICQoYDxkaXYgaWQ9Imh0bWxfOTc0NGM4Nzg1ZTEwNDY0M2JkZTkwMjI3ZTI1OWIwY2UiIHN0eWxlPSJ3aWR0aDogMTAwLjAlOyBoZWlnaHQ6IDEwMC4wJTsiPkRhdmlzdmlsbGUsIENlbnRyYWwgVG9yb250bzwvZGl2PmApWzBdOwogICAgICAgICAgICAgICAgcG9wdXBfYWRmZWQ1ZDdjZmYwNDY4YTgxZGMxNjYyMDMyNTAyZjMuc2V0Q29udGVudChodG1sXzk3NDRjODc4NWUxMDQ2NDNiZGU5MDIyN2UyNTliMGNlKTsKICAgICAgICAgICAgCgogICAgICAgICAgICBtYXJrZXJfMmNjOTg0MjkxYTJmNGFjZDk1MWZjNGE2MzJkOTU4NmIuYmluZFBvcHVwKHBvcHVwX2FkZmVkNWQ3Y2ZmMDQ2OGE4MWRjMTY2MjAzMjUwMmYzKQogICAgICAgICAgICA7CgogICAgICAgICAgICAKICAgICAgICAKICAgIAogICAgICAgIHZhciBtYXJrZXJfN2M1OWFmMjM3ZDI3NDAyZmFlZDY0OWY2MjQ1ZjY1YjYgPSBMLm1hcmtlcigKICAgICAgICAgICAgWzQzLjY2MjY5NTYsIC03OS40MDAwNDkzXSwKICAgICAgICAgICAgewogICAgICAgICAgICAgICAgaWNvbjogbmV3IEwuSWNvbi5EZWZhdWx0KCksCiAgICAgICAgICAgICAgICB9CiAgICAgICAgICAgICkuYWRkVG8obWFya2VyX2NsdXN0ZXJfMjUyMjY1M2NhZmYxNGU2YjlmNmU4NTMxNWY0ZTUwYTApOwogICAgICAgIAogICAgCiAgICAgICAgICAgIHZhciBwb3B1cF80NWI1MjI1MjJlMmI0NDhjODM1NDgwYmQ4MWQ0NWZhNiA9IEwucG9wdXAoe21heFdpZHRoOiAnMTAwJScKICAgICAgICAgICAgCiAgICAgICAgICAgIH0pOwoKICAgICAgICAgICAgCiAgICAgICAgICAgICAgICB2YXIgaHRtbF9jNWU1MmIzNjUzM2I0M2VlOWI3MjdmOWM0MDdkYzFjMCA9ICQoYDxkaXYgaWQ9Imh0bWxfYzVlNTJiMzY1MzNiNDNlZTliNzI3ZjljNDA3ZGMxYzAiIHN0eWxlPSJ3aWR0aDogMTAwLjAlOyBoZWlnaHQ6IDEwMC4wJTsiPkhhcmJvcmQsIFVuaXZlcnNpdHkgb2YgVG9yb250bywgRG93bnRvd24gVG9yb250bzwvZGl2PmApWzBdOwogICAgICAgICAgICAgICAgcG9wdXBfNDViNTIyNTIyZTJiNDQ4YzgzNTQ4MGJkODFkNDVmYTYuc2V0Q29udGVudChodG1sX2M1ZTUyYjM2NTMzYjQzZWU5YjcyN2Y5YzQwN2RjMWMwKTsKICAgICAgICAgICAgCgogICAgICAgICAgICBtYXJrZXJfN2M1OWFmMjM3ZDI3NDAyZmFlZDY0OWY2MjQ1ZjY1YjYuYmluZFBvcHVwKHBvcHVwXzQ1YjUyMjUyMmUyYjQ0OGM4MzU0ODBiZDgxZDQ1ZmE2KQogICAgICAgICAgICA7CgogICAgICAgICAgICAKICAgICAgICAKICAgIAogICAgICAgIHZhciBtYXJrZXJfNDVjNGVjY2EzNmYwNGZmYzllZDI5ZGNmYWRhNjMzMzggPSBMLm1hcmtlcigKICAgICAgICAgICAgWzQzLjY1MTU3MDYsIC03OS40ODQ0NDk5XSwKICAgICAgICAgICAgewogICAgICAgICAgICAgICAgaWNvbjogbmV3IEwuSWNvbi5EZWZhdWx0KCksCiAgICAgICAgICAgICAgICB9CiAgICAgICAgICAgICkuYWRkVG8obWFya2VyX2NsdXN0ZXJfMjUyMjY1M2NhZmYxNGU2YjlmNmU4NTMxNWY0ZTUwYTApOwogICAgICAgIAogICAgCiAgICAgICAgICAgIHZhciBwb3B1cF9jNmViOWI2NjQ4ZGY0OWEzODZiNWNlNTRlNWE5YWQ3NyA9IEwucG9wdXAoe21heFdpZHRoOiAnMTAwJScKICAgICAgICAgICAgCiAgICAgICAgICAgIH0pOwoKICAgICAgICAgICAgCiAgICAgICAgICAgICAgICB2YXIgaHRtbF9lOGE0MDIzNjYyMGY0NGQ3YjFjODhlNWM0Mzk3ZDg5ZSA9ICQoYDxkaXYgaWQ9Imh0bWxfZThhNDAyMzY2MjBmNDRkN2IxYzg4ZTVjNDM5N2Q4OWUiIHN0eWxlPSJ3aWR0aDogMTAwLjAlOyBoZWlnaHQ6IDEwMC4wJTsiPlJ1bm55bWVkZSwgU3dhbnNlYSwgV2VzdCBUb3JvbnRvPC9kaXY+YClbMF07CiAgICAgICAgICAgICAgICBwb3B1cF9jNmViOWI2NjQ4ZGY0OWEzODZiNWNlNTRlNWE5YWQ3Ny5zZXRDb250ZW50KGh0bWxfZThhNDAyMzY2MjBmNDRkN2IxYzg4ZTVjNDM5N2Q4OWUpOwogICAgICAgICAgICAKCiAgICAgICAgICAgIG1hcmtlcl80NWM0ZWNjYTM2ZjA0ZmZjOWVkMjlkY2ZhZGE2MzMzOC5iaW5kUG9wdXAocG9wdXBfYzZlYjliNjY0OGRmNDlhMzg2YjVjZTU0ZTVhOWFkNzcpCiAgICAgICAgICAgIDsKCiAgICAgICAgICAgIAogICAgICAgIAogICAgCiAgICAgICAgdmFyIG1hcmtlcl9hOWI2ZTA4Yzk0NGY0NTc4ODJmNGNiMDYzMDEyMTM3OCA9IEwubWFya2VyKAogICAgICAgICAgICBbNDMuNjg5NTc0MywgLTc5LjM4MzE1OTkwMDAwMDAxXSwKICAgICAgICAgICAgewogICAgICAgICAgICAgICAgaWNvbjogbmV3IEwuSWNvbi5EZWZhdWx0KCksCiAgICAgICAgICAgICAgICB9CiAgICAgICAgICAgICkuYWRkVG8obWFya2VyX2NsdXN0ZXJfMjUyMjY1M2NhZmYxNGU2YjlmNmU4NTMxNWY0ZTUwYTApOwogICAgICAgIAogICAgCiAgICAgICAgICAgIHZhciBwb3B1cF80OTQ0YmRiNWZkODM0NDliYTI5YTdhNTgzODM0NmM0YyA9IEwucG9wdXAoe21heFdpZHRoOiAnMTAwJScKICAgICAgICAgICAgCiAgICAgICAgICAgIH0pOwoKICAgICAgICAgICAgCiAgICAgICAgICAgICAgICB2YXIgaHRtbF9lOGRiY2Y1MjgyZmI0ZWMxOTIyOWEwNmIyMTRiOTc5MSA9ICQoYDxkaXYgaWQ9Imh0bWxfZThkYmNmNTI4MmZiNGVjMTkyMjlhMDZiMjE0Yjk3OTEiIHN0eWxlPSJ3aWR0aDogMTAwLjAlOyBoZWlnaHQ6IDEwMC4wJTsiPk1vb3JlIFBhcmssIFN1bW1lcmhpbGwgRWFzdCwgQ2VudHJhbCBUb3JvbnRvPC9kaXY+YClbMF07CiAgICAgICAgICAgICAgICBwb3B1cF80OTQ0YmRiNWZkODM0NDliYTI5YTdhNTgzODM0NmM0Yy5zZXRDb250ZW50KGh0bWxfZThkYmNmNTI4MmZiNGVjMTkyMjlhMDZiMjE0Yjk3OTEpOwogICAgICAgICAgICAKCiAgICAgICAgICAgIG1hcmtlcl9hOWI2ZTA4Yzk0NGY0NTc4ODJmNGNiMDYzMDEyMTM3OC5iaW5kUG9wdXAocG9wdXBfNDk0NGJkYjVmZDgzNDQ5YmEyOWE3YTU4MzgzNDZjNGMpCiAgICAgICAgICAgIDsKCiAgICAgICAgICAgIAogICAgICAgIAogICAgCiAgICAgICAgdmFyIG1hcmtlcl9lZDMwYWJmNzBlMjE0ZDBhYmQxNGYzYmQ0YmVkY2RiNSA9IEwubWFya2VyKAogICAgICAgICAgICBbNDMuNjUzMjA1NywgLTc5LjQwMDA0OTNdLAogICAgICAgICAgICB7CiAgICAgICAgICAgICAgICBpY29uOiBuZXcgTC5JY29uLkRlZmF1bHQoKSwKICAgICAgICAgICAgICAgIH0KICAgICAgICAgICAgKS5hZGRUbyhtYXJrZXJfY2x1c3Rlcl8yNTIyNjUzY2FmZjE0ZTZiOWY2ZTg1MzE1ZjRlNTBhMCk7CiAgICAgICAgCiAgICAKICAgICAgICAgICAgdmFyIHBvcHVwXzI0MTU2YjdmNzM1MTQ0MWI4MTk2MjExNDdlMzdhMGE5ID0gTC5wb3B1cCh7bWF4V2lkdGg6ICcxMDAlJwogICAgICAgICAgICAKICAgICAgICAgICAgfSk7CgogICAgICAgICAgICAKICAgICAgICAgICAgICAgIHZhciBodG1sXzYyZjcxMDE1NDVjZjQ3Nzg5ZWUzNDExYjU5MWExNDRmID0gJChgPGRpdiBpZD0iaHRtbF82MmY3MTAxNTQ1Y2Y0Nzc4OWVlMzQxMWI1OTFhMTQ0ZiIgc3R5bGU9IndpZHRoOiAxMDAuMCU7IGhlaWdodDogMTAwLjAlOyI+Q2hpbmF0b3duLCBHcmFuZ2UgUGFyaywgS2Vuc2luZ3RvbiBNYXJrZXQsIERvd250b3duIFRvcm9udG88L2Rpdj5gKVswXTsKICAgICAgICAgICAgICAgIHBvcHVwXzI0MTU2YjdmNzM1MTQ0MWI4MTk2MjExNDdlMzdhMGE5LnNldENvbnRlbnQoaHRtbF82MmY3MTAxNTQ1Y2Y0Nzc4OWVlMzQxMWI1OTFhMTQ0Zik7CiAgICAgICAgICAgIAoKICAgICAgICAgICAgbWFya2VyX2VkMzBhYmY3MGUyMTRkMGFiZDE0ZjNiZDRiZWRjZGI1LmJpbmRQb3B1cChwb3B1cF8yNDE1NmI3ZjczNTE0NDFiODE5NjIxMTQ3ZTM3YTBhOSkKICAgICAgICAgICAgOwoKICAgICAgICAgICAgCiAgICAgICAgCiAgICAKICAgICAgICB2YXIgbWFya2VyXzg1OTBkNjVjOTA1YTQxZjRiZjcxZGNhYWJjMWQ2NjFkID0gTC5tYXJrZXIoCiAgICAgICAgICAgIFs0My42ODY0MTIyOTk5OTk5OSwgLTc5LjQwMDA0OTNdLAogICAgICAgICAgICB7CiAgICAgICAgICAgICAgICBpY29uOiBuZXcgTC5JY29uLkRlZmF1bHQoKSwKICAgICAgICAgICAgICAgIH0KICAgICAgICAgICAgKS5hZGRUbyhtYXJrZXJfY2x1c3Rlcl8yNTIyNjUzY2FmZjE0ZTZiOWY2ZTg1MzE1ZjRlNTBhMCk7CiAgICAgICAgCiAgICAKICAgICAgICAgICAgdmFyIHBvcHVwXzlhY2E2NzU3ZWUzMjRmNDhiMTNmYTQyZmFiODVkMzg0ID0gTC5wb3B1cCh7bWF4V2lkdGg6ICcxMDAlJwogICAgICAgICAgICAKICAgICAgICAgICAgfSk7CgogICAgICAgICAgICAKICAgICAgICAgICAgICAgIHZhciBodG1sX2M1MjAzZjcxMzdiNjQ2OTBiZTM2ZDNlYmY1NTRkOWI4ID0gJChgPGRpdiBpZD0iaHRtbF9jNTIwM2Y3MTM3YjY0NjkwYmUzNmQzZWJmNTU0ZDliOCIgc3R5bGU9IndpZHRoOiAxMDAuMCU7IGhlaWdodDogMTAwLjAlOyI+RGVlciBQYXJrLCBGb3Jlc3QgSGlsbCBTRSwgUmF0aG5lbGx5LCBTb3V0aCBIaWxsLCBTdW1tZXJoaWxsIFdlc3QsIENlbnRyYWwgVG9yb250bzwvZGl2PmApWzBdOwogICAgICAgICAgICAgICAgcG9wdXBfOWFjYTY3NTdlZTMyNGY0OGIxM2ZhNDJmYWI4NWQzODQuc2V0Q29udGVudChodG1sX2M1MjAzZjcxMzdiNjQ2OTBiZTM2ZDNlYmY1NTRkOWI4KTsKICAgICAgICAgICAgCgogICAgICAgICAgICBtYXJrZXJfODU5MGQ2NWM5MDVhNDFmNGJmNzFkY2FhYmMxZDY2MWQuYmluZFBvcHVwKHBvcHVwXzlhY2E2NzU3ZWUzMjRmNDhiMTNmYTQyZmFiODVkMzg0KQogICAgICAgICAgICA7CgogICAgICAgICAgICAKICAgICAgICAKICAgIAogICAgICAgIHZhciBtYXJrZXJfOWM2Mjk2YWQ4ZDlhNDExOTgwYThhNzhmZjJjNmZjYjEgPSBMLm1hcmtlcigKICAgICAgICAgICAgWzQzLjYyODk0NjcsIC03OS4zOTQ0MTk5XSwKICAgICAgICAgICAgewogICAgICAgICAgICAgICAgaWNvbjogbmV3IEwuSWNvbi5EZWZhdWx0KCksCiAgICAgICAgICAgICAgICB9CiAgICAgICAgICAgICkuYWRkVG8obWFya2VyX2NsdXN0ZXJfMjUyMjY1M2NhZmYxNGU2YjlmNmU4NTMxNWY0ZTUwYTApOwogICAgICAgIAogICAgCiAgICAgICAgICAgIHZhciBwb3B1cF9mNTg1OWMxMjY5YzE0ZmVjODUzY2M3MmMzMzMxNzI0MSA9IEwucG9wdXAoe21heFdpZHRoOiAnMTAwJScKICAgICAgICAgICAgCiAgICAgICAgICAgIH0pOwoKICAgICAgICAgICAgCiAgICAgICAgICAgICAgICB2YXIgaHRtbF84ZjIyYTI4ZWEyYjU0MDFkOTZjYmVjNGU3MWI1NWE5ZSA9ICQoYDxkaXYgaWQ9Imh0bWxfOGYyMmEyOGVhMmI1NDAxZDk2Y2JlYzRlNzFiNTVhOWUiIHN0eWxlPSJ3aWR0aDogMTAwLjAlOyBoZWlnaHQ6IDEwMC4wJTsiPkNOIFRvd2VyLCBCYXRodXJzdCBRdWF5LCBJc2xhbmQgYWlycG9ydCwgSGFyYm91cmZyb250IFdlc3QsIEtpbmcgYW5kIFNwYWRpbmEsIFJhaWx3YXkgTGFuZHMsIFNvdXRoIE5pYWdhcmEsIERvd250b3duIFRvcm9udG88L2Rpdj5gKVswXTsKICAgICAgICAgICAgICAgIHBvcHVwX2Y1ODU5YzEyNjljMTRmZWM4NTNjYzcyYzMzMzE3MjQxLnNldENvbnRlbnQoaHRtbF84ZjIyYTI4ZWEyYjU0MDFkOTZjYmVjNGU3MWI1NWE5ZSk7CiAgICAgICAgICAgIAoKICAgICAgICAgICAgbWFya2VyXzljNjI5NmFkOGQ5YTQxMTk4MGE4YTc4ZmYyYzZmY2IxLmJpbmRQb3B1cChwb3B1cF9mNTg1OWMxMjY5YzE0ZmVjODUzY2M3MmMzMzMxNzI0MSkKICAgICAgICAgICAgOwoKICAgICAgICAgICAgCiAgICAgICAgCiAgICAKICAgICAgICB2YXIgbWFya2VyXzdkODEzZTNkOTVjMDQyNTU5ZTFkMjRmZjFlYjAyOTFlID0gTC5tYXJrZXIoCiAgICAgICAgICAgIFs0My42MDU2NDY2LCAtNzkuNTAxMzIwNzAwMDAwMDFdLAogICAgICAgICAgICB7CiAgICAgICAgICAgICAgICBpY29uOiBuZXcgTC5JY29uLkRlZmF1bHQoKSwKICAgICAgICAgICAgICAgIH0KICAgICAgICAgICAgKS5hZGRUbyhtYXJrZXJfY2x1c3Rlcl8yNTIyNjUzY2FmZjE0ZTZiOWY2ZTg1MzE1ZjRlNTBhMCk7CiAgICAgICAgCiAgICAKICAgICAgICAgICAgdmFyIHBvcHVwXzI0ZGVlYmQ0YzIyYzQ3MDc5NjMwNmFkYmRiNzdlYTg1ID0gTC5wb3B1cCh7bWF4V2lkdGg6ICcxMDAlJwogICAgICAgICAgICAKICAgICAgICAgICAgfSk7CgogICAgICAgICAgICAKICAgICAgICAgICAgICAgIHZhciBodG1sX2Y4ODU3YmFlMTI1ZDQ0NDk5YmIxOWZlNTc3OGEyZDVkID0gJChgPGRpdiBpZD0iaHRtbF9mODg1N2JhZTEyNWQ0NDQ5OWJiMTlmZTU3NzhhMmQ1ZCIgc3R5bGU9IndpZHRoOiAxMDAuMCU7IGhlaWdodDogMTAwLjAlOyI+SHVtYmVyIEJheSBTaG9yZXMsIE1pbWljbyBTb3V0aCwgTmV3IFRvcm9udG8sIEV0b2JpY29rZTwvZGl2PmApWzBdOwogICAgICAgICAgICAgICAgcG9wdXBfMjRkZWViZDRjMjJjNDcwNzk2MzA2YWRiZGI3N2VhODUuc2V0Q29udGVudChodG1sX2Y4ODU3YmFlMTI1ZDQ0NDk5YmIxOWZlNTc3OGEyZDVkKTsKICAgICAgICAgICAgCgogICAgICAgICAgICBtYXJrZXJfN2Q4MTNlM2Q5NWMwNDI1NTllMWQyNGZmMWViMDI5MWUuYmluZFBvcHVwKHBvcHVwXzI0ZGVlYmQ0YzIyYzQ3MDc5NjMwNmFkYmRiNzdlYTg1KQogICAgICAgICAgICA7CgogICAgICAgICAgICAKICAgICAgICAKICAgIAogICAgICAgIHZhciBtYXJrZXJfN2UwYzMxMGE5YzM2NGUyNGJhZjJlNTBjNTA2MTBhZTcgPSBMLm1hcmtlcigKICAgICAgICAgICAgWzQzLjY3OTU2MjYsIC03OS4zNzc1Mjk0MDAwMDAwMV0sCiAgICAgICAgICAgIHsKICAgICAgICAgICAgICAgIGljb246IG5ldyBMLkljb24uRGVmYXVsdCgpLAogICAgICAgICAgICAgICAgfQogICAgICAgICAgICApLmFkZFRvKG1hcmtlcl9jbHVzdGVyXzI1MjI2NTNjYWZmMTRlNmI5ZjZlODUzMTVmNGU1MGEwKTsKICAgICAgICAKICAgIAogICAgICAgICAgICB2YXIgcG9wdXBfNWY4ZTEwNjIyM2U1NDViNjliMjYxN2NmOGM2MmRjOWMgPSBMLnBvcHVwKHttYXhXaWR0aDogJzEwMCUnCiAgICAgICAgICAgIAogICAgICAgICAgICB9KTsKCiAgICAgICAgICAgIAogICAgICAgICAgICAgICAgdmFyIGh0bWxfN2ExN2UxZmI4MDNjNGE0ZDk0Mjk5NjRkYjI5YTY4NmIgPSAkKGA8ZGl2IGlkPSJodG1sXzdhMTdlMWZiODAzYzRhNGQ5NDI5OTY0ZGIyOWE2ODZiIiBzdHlsZT0id2lkdGg6IDEwMC4wJTsgaGVpZ2h0OiAxMDAuMCU7Ij5Sb3NlZGFsZSwgRG93bnRvd24gVG9yb250bzwvZGl2PmApWzBdOwogICAgICAgICAgICAgICAgcG9wdXBfNWY4ZTEwNjIyM2U1NDViNjliMjYxN2NmOGM2MmRjOWMuc2V0Q29udGVudChodG1sXzdhMTdlMWZiODAzYzRhNGQ5NDI5OTY0ZGIyOWE2ODZiKTsKICAgICAgICAgICAgCgogICAgICAgICAgICBtYXJrZXJfN2UwYzMxMGE5YzM2NGUyNGJhZjJlNTBjNTA2MTBhZTcuYmluZFBvcHVwKHBvcHVwXzVmOGUxMDYyMjNlNTQ1YjY5YjI2MTdjZjhjNjJkYzljKQogICAgICAgICAgICA7CgogICAgICAgICAgICAKICAgICAgICAKICAgIAogICAgICAgIHZhciBtYXJrZXJfMTg0NDlhZDQyMTIyNDNjNThjMzE1MjU2NDA4NTI5MGQgPSBMLm1hcmtlcigKICAgICAgICAgICAgWzQzLjY0NjQzNTIsIC03OS4zNzQ4NDU5OTk5OTk5OV0sCiAgICAgICAgICAgIHsKICAgICAgICAgICAgICAgIGljb246IG5ldyBMLkljb24uRGVmYXVsdCgpLAogICAgICAgICAgICAgICAgfQogICAgICAgICAgICApLmFkZFRvKG1hcmtlcl9jbHVzdGVyXzI1MjI2NTNjYWZmMTRlNmI5ZjZlODUzMTVmNGU1MGEwKTsKICAgICAgICAKICAgIAogICAgICAgICAgICB2YXIgcG9wdXBfZmM4ZDExMmM2MzFjNDFlYWEyNjFiOWZjOGE5YjY2MTkgPSBMLnBvcHVwKHttYXhXaWR0aDogJzEwMCUnCiAgICAgICAgICAgIAogICAgICAgICAgICB9KTsKCiAgICAgICAgICAgIAogICAgICAgICAgICAgICAgdmFyIGh0bWxfMDU5YmFlYWJhZDQ3NDBhZjkxYWRmNGRjM2M3OGIzMTkgPSAkKGA8ZGl2IGlkPSJodG1sXzA1OWJhZWFiYWQ0NzQwYWY5MWFkZjRkYzNjNzhiMzE5IiBzdHlsZT0id2lkdGg6IDEwMC4wJTsgaGVpZ2h0OiAxMDAuMCU7Ij5TdG4gQSBQTyBCb3hlcyAyNSBUaGUgRXNwbGFuYWRlLCBEb3dudG93biBUb3JvbnRvPC9kaXY+YClbMF07CiAgICAgICAgICAgICAgICBwb3B1cF9mYzhkMTEyYzYzMWM0MWVhYTI2MWI5ZmM4YTliNjYxOS5zZXRDb250ZW50KGh0bWxfMDU5YmFlYWJhZDQ3NDBhZjkxYWRmNGRjM2M3OGIzMTkpOwogICAgICAgICAgICAKCiAgICAgICAgICAgIG1hcmtlcl8xODQ0OWFkNDIxMjI0M2M1OGMzMTUyNTY0MDg1MjkwZC5iaW5kUG9wdXAocG9wdXBfZmM4ZDExMmM2MzFjNDFlYWEyNjFiOWZjOGE5YjY2MTkpCiAgICAgICAgICAgIDsKCiAgICAgICAgICAgIAogICAgICAgIAogICAgCiAgICAgICAgdmFyIG1hcmtlcl9kOWE4M2UzZDgwMDE0YmFkYTQ0NTlhZmFiZTkwNWU0OCA9IEwubWFya2VyKAogICAgICAgICAgICBbNDMuNjY3OTY3LCAtNzkuMzY3Njc1M10sCiAgICAgICAgICAgIHsKICAgICAgICAgICAgICAgIGljb246IG5ldyBMLkljb24uRGVmYXVsdCgpLAogICAgICAgICAgICAgICAgfQogICAgICAgICAgICApLmFkZFRvKG1hcmtlcl9jbHVzdGVyXzI1MjI2NTNjYWZmMTRlNmI5ZjZlODUzMTVmNGU1MGEwKTsKICAgICAgICAKICAgIAogICAgICAgICAgICB2YXIgcG9wdXBfODMzZWRkYWM3OTE4NDg5NWJjNzEyYzgyZmJiODM0YjMgPSBMLnBvcHVwKHttYXhXaWR0aDogJzEwMCUnCiAgICAgICAgICAgIAogICAgICAgICAgICB9KTsKCiAgICAgICAgICAgIAogICAgICAgICAgICAgICAgdmFyIGh0bWxfMjQ4MjQ0MTdmMTJiNDI5Zjg1MTIyYzNlNTU5ZDI5MjkgPSAkKGA8ZGl2IGlkPSJodG1sXzI0ODI0NDE3ZjEyYjQyOWY4NTEyMmMzZTU1OWQyOTI5IiBzdHlsZT0id2lkdGg6IDEwMC4wJTsgaGVpZ2h0OiAxMDAuMCU7Ij5DYWJiYWdldG93biwgU3QuIEphbWVzIFRvd24sIERvd250b3duIFRvcm9udG88L2Rpdj5gKVswXTsKICAgICAgICAgICAgICAgIHBvcHVwXzgzM2VkZGFjNzkxODQ4OTViYzcxMmM4MmZiYjgzNGIzLnNldENvbnRlbnQoaHRtbF8yNDgyNDQxN2YxMmI0MjlmODUxMjJjM2U1NTlkMjkyOSk7CiAgICAgICAgICAgIAoKICAgICAgICAgICAgbWFya2VyX2Q5YTgzZTNkODAwMTRiYWRhNDQ1OWFmYWJlOTA1ZTQ4LmJpbmRQb3B1cChwb3B1cF84MzNlZGRhYzc5MTg0ODk1YmM3MTJjODJmYmI4MzRiMykKICAgICAgICAgICAgOwoKICAgICAgICAgICAgCiAgICAgICAgCiAgICAKICAgICAgICB2YXIgbWFya2VyX2ZiZWEzNzQ3MjViNDQwNmZiZGJmYmI2ZGExY2I3YTQxID0gTC5tYXJrZXIoCiAgICAgICAgICAgIFs0My42NDg0MjkyLCAtNzkuMzgyMjgwMl0sCiAgICAgICAgICAgIHsKICAgICAgICAgICAgICAgIGljb246IG5ldyBMLkljb24uRGVmYXVsdCgpLAogICAgICAgICAgICAgICAgfQogICAgICAgICAgICApLmFkZFRvKG1hcmtlcl9jbHVzdGVyXzI1MjI2NTNjYWZmMTRlNmI5ZjZlODUzMTVmNGU1MGEwKTsKICAgICAgICAKICAgIAogICAgICAgICAgICB2YXIgcG9wdXBfYjcwYTQ1ZjkwMGE5NGM0NmE5ZWI4OTViY2UyMmNlNTYgPSBMLnBvcHVwKHttYXhXaWR0aDogJzEwMCUnCiAgICAgICAgICAgIAogICAgICAgICAgICB9KTsKCiAgICAgICAgICAgIAogICAgICAgICAgICAgICAgdmFyIGh0bWxfNDM0NWYxMDg2ZWQwNDFjY2I1NzdlZDE5ZTM2ZGYzN2MgPSAkKGA8ZGl2IGlkPSJodG1sXzQzNDVmMTA4NmVkMDQxY2NiNTc3ZWQxOWUzNmRmMzdjIiBzdHlsZT0id2lkdGg6IDEwMC4wJTsgaGVpZ2h0OiAxMDAuMCU7Ij5GaXJzdCBDYW5hZGlhbiBQbGFjZSwgVW5kZXJncm91bmQgY2l0eSwgRG93bnRvd24gVG9yb250bzwvZGl2PmApWzBdOwogICAgICAgICAgICAgICAgcG9wdXBfYjcwYTQ1ZjkwMGE5NGM0NmE5ZWI4OTViY2UyMmNlNTYuc2V0Q29udGVudChodG1sXzQzNDVmMTA4NmVkMDQxY2NiNTc3ZWQxOWUzNmRmMzdjKTsKICAgICAgICAgICAgCgogICAgICAgICAgICBtYXJrZXJfZmJlYTM3NDcyNWI0NDA2ZmJkYmZiYjZkYTFjYjdhNDEuYmluZFBvcHVwKHBvcHVwX2I3MGE0NWY5MDBhOTRjNDZhOWViODk1YmNlMjJjZTU2KQogICAgICAgICAgICA7CgogICAgICAgICAgICAKICAgICAgICAKICAgIAogICAgICAgIHZhciBtYXJrZXJfM2Q1YWZhNDhiY2Q3NDkwMzk4ZGQ5NTA2ZTAwYjFkZjQgPSBMLm1hcmtlcigKICAgICAgICAgICAgWzQzLjY2NTg1OTksIC03OS4zODMxNTk5MDAwMDAwMV0sCiAgICAgICAgICAgIHsKICAgICAgICAgICAgICAgIGljb246IG5ldyBMLkljb24uRGVmYXVsdCgpLAogICAgICAgICAgICAgICAgfQogICAgICAgICAgICApLmFkZFRvKG1hcmtlcl9jbHVzdGVyXzI1MjI2NTNjYWZmMTRlNmI5ZjZlODUzMTVmNGU1MGEwKTsKICAgICAgICAKICAgIAogICAgICAgICAgICB2YXIgcG9wdXBfOGE3MzBjNzhkNWUzNGU3Zjg3YjE2MTE0YWQzOWVlZTMgPSBMLnBvcHVwKHttYXhXaWR0aDogJzEwMCUnCiAgICAgICAgICAgIAogICAgICAgICAgICB9KTsKCiAgICAgICAgICAgIAogICAgICAgICAgICAgICAgdmFyIGh0bWxfOWE2NDUxZjU4NTNmNDc1ZDljODMzNmUyNzJlMWNhZjkgPSAkKGA8ZGl2IGlkPSJodG1sXzlhNjQ1MWY1ODUzZjQ3NWQ5YzgzMzZlMjcyZTFjYWY5IiBzdHlsZT0id2lkdGg6IDEwMC4wJTsgaGVpZ2h0OiAxMDAuMCU7Ij5DaHVyY2ggYW5kIFdlbGxlc2xleSwgRG93bnRvd24gVG9yb250bzwvZGl2PmApWzBdOwogICAgICAgICAgICAgICAgcG9wdXBfOGE3MzBjNzhkNWUzNGU3Zjg3YjE2MTE0YWQzOWVlZTMuc2V0Q29udGVudChodG1sXzlhNjQ1MWY1ODUzZjQ3NWQ5YzgzMzZlMjcyZTFjYWY5KTsKICAgICAgICAgICAgCgogICAgICAgICAgICBtYXJrZXJfM2Q1YWZhNDhiY2Q3NDkwMzk4ZGQ5NTA2ZTAwYjFkZjQuYmluZFBvcHVwKHBvcHVwXzhhNzMwYzc4ZDVlMzRlN2Y4N2IxNjExNGFkMzllZWUzKQogICAgICAgICAgICA7CgogICAgICAgICAgICAKICAgICAgICAKICAgIAogICAgICAgIHZhciBtYXJrZXJfY2RkYTYwYzZmMmY0NGM0OTg2Mzc1NGE4M2JmMTBmM2EgPSBMLm1hcmtlcigKICAgICAgICAgICAgWzQzLjY2Mjc0MzksIC03OS4zMjE1NThdLAogICAgICAgICAgICB7CiAgICAgICAgICAgICAgICBpY29uOiBuZXcgTC5JY29uLkRlZmF1bHQoKSwKICAgICAgICAgICAgICAgIH0KICAgICAgICAgICAgKS5hZGRUbyhtYXJrZXJfY2x1c3Rlcl8yNTIyNjUzY2FmZjE0ZTZiOWY2ZTg1MzE1ZjRlNTBhMCk7CiAgICAgICAgCiAgICAKICAgICAgICAgICAgdmFyIHBvcHVwX2IwYTU3YjMzZjQ2ZjQwMThiOGFmMjc3ZWMyOWZkYWRjID0gTC5wb3B1cCh7bWF4V2lkdGg6ICcxMDAlJwogICAgICAgICAgICAKICAgICAgICAgICAgfSk7CgogICAgICAgICAgICAKICAgICAgICAgICAgICAgIHZhciBodG1sX2Q2ZjFiNDNkZTA4ZTQ2ZWRhOWJkOTg5YTRkMzYyNjJiID0gJChgPGRpdiBpZD0iaHRtbF9kNmYxYjQzZGUwOGU0NmVkYTliZDk4OWE0ZDM2MjYyYiIgc3R5bGU9IndpZHRoOiAxMDAuMCU7IGhlaWdodDogMTAwLjAlOyI+QnVzaW5lc3MgUmVwbHkgTWFpbCBQcm9jZXNzaW5nIENlbnRyZSA5NjkgRWFzdGVybiwgRWFzdCBUb3JvbnRvPC9kaXY+YClbMF07CiAgICAgICAgICAgICAgICBwb3B1cF9iMGE1N2IzM2Y0NmY0MDE4YjhhZjI3N2VjMjlmZGFkYy5zZXRDb250ZW50KGh0bWxfZDZmMWI0M2RlMDhlNDZlZGE5YmQ5ODlhNGQzNjI2MmIpOwogICAgICAgICAgICAKCiAgICAgICAgICAgIG1hcmtlcl9jZGRhNjBjNmYyZjQ0YzQ5ODYzNzU0YTgzYmYxMGYzYS5iaW5kUG9wdXAocG9wdXBfYjBhNTdiMzNmNDZmNDAxOGI4YWYyNzdlYzI5ZmRhZGMpCiAgICAgICAgICAgIDsKCiAgICAgICAgICAgIAogICAgICAgIAo8L3NjcmlwdD4=\" style=\"position:absolute;width:100%;height:100%;left:0;top:0;border:none !important;\" allowfullscreen webkitallowfullscreen mozallowfullscreen></iframe></div></div>"
      ],
      "text/plain": [
       "<folium.folium.Map at 0x1a1d785c50>"
      ]
     },
     "execution_count": 17,
     "metadata": {},
     "output_type": "execute_result"
    }
   ],
   "source": [
    "from folium.plugins import MarkerCluster\n",
    "\n",
    "# let's start again with a clean copy of the map of Toronto\n",
    "map_toronto = folium.Map(location = [latitude, longitude], zoom_start = 11)\n",
    "\n",
    "# instantiate a mark cluster object for the boroughs in the dataframe\n",
    "boroughs = MarkerCluster().add_to(map_toronto)\n",
    "\n",
    "# loop through the dataframe and add each data point to the mark cluster\n",
    "for lat, lng, borough, neighborhood in zip(df3['Latitude'], df3['Longitude'], df3['Borough'], df3['Neighborhood']):\n",
    "    label = '{}, {}'.format(neighborhood, borough)\n",
    "    label = folium.Popup(label, parse_html=True)\n",
    "    folium.Marker(\n",
    "        location=[lat, lng],\n",
    "        icon=None,\n",
    "        popup=label,\n",
    "    ).add_to(boroughs)\n",
    "\n",
    "# display map\n",
    "map_toronto"
   ]
  },
  {
   "cell_type": "code",
   "execution_count": null,
   "metadata": {},
   "outputs": [],
   "source": []
  }
 ],
 "metadata": {
  "kernelspec": {
   "display_name": "Python 3",
   "language": "python",
   "name": "python3"
  },
  "language_info": {
   "codemirror_mode": {
    "name": "ipython",
    "version": 3
   },
   "file_extension": ".py",
   "mimetype": "text/x-python",
   "name": "python",
   "nbconvert_exporter": "python",
   "pygments_lexer": "ipython3",
   "version": "3.7.1"
  }
 },
 "nbformat": 4,
 "nbformat_minor": 2
}
