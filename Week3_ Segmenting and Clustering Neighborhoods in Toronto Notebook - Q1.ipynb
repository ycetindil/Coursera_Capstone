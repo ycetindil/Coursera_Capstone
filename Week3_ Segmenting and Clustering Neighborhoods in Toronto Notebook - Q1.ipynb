{
 "cells": [
  {
   "cell_type": "markdown",
   "metadata": {},
   "source": [
    "# Segmenting and Clustering Neighborhoods in Toronto Notebook - Q1 #"
   ]
  },
  {
   "cell_type": "markdown",
   "metadata": {},
   "source": [
    "Let's start with adding the libraries for web scraping"
   ]
  },
  {
   "cell_type": "code",
   "execution_count": 1,
   "metadata": {},
   "outputs": [],
   "source": [
    "import requests\n",
    "from bs4 import BeautifulSoup"
   ]
  },
  {
   "cell_type": "markdown",
   "metadata": {},
   "source": [
    "Load the webpage and turn it into a soup object"
   ]
  },
  {
   "cell_type": "code",
   "execution_count": 2,
   "metadata": {},
   "outputs": [],
   "source": [
    "website_url = requests.get('https://en.wikipedia.org/wiki/List_of_postal_codes_of_Canada:_M').text\n",
    "soup = BeautifulSoup(website_url, 'lxml')"
   ]
  },
  {
   "cell_type": "markdown",
   "metadata": {},
   "source": [
    "Extract the data table"
   ]
  },
  {
   "cell_type": "code",
   "execution_count": 3,
   "metadata": {},
   "outputs": [],
   "source": [
    "my_table = soup.find('table',{'class':'wikitable sortable'})"
   ]
  },
  {
   "cell_type": "markdown",
   "metadata": {},
   "source": [
    "Split the rows"
   ]
  },
  {
   "cell_type": "code",
   "execution_count": 4,
   "metadata": {},
   "outputs": [],
   "source": [
    "rows = my_table.find_all('tr')"
   ]
  },
  {
   "cell_type": "markdown",
   "metadata": {},
   "source": [
    "Assign each column in a row to corresponding PostalCode, Borough, Neighborhood list by considering:\n",
    "* Ignore cells with a borough that is **Not assigned**\n",
    "* If a borough is listed twice and has two neighborhoods, these two rows will be combined into one row with the neighborhoods separated with a comma\n",
    "* A **Not assigned** neighborhood will be the same as the borough\n",
    "\n",
    "_We are ignoring the first row as it has the headers_"
   ]
  },
  {
   "cell_type": "code",
   "execution_count": 5,
   "metadata": {},
   "outputs": [
    {
     "name": "stdout",
     "output_type": "stream",
     "text": [
      "The index of the first row with non 'Not Assigned' borough: 3\n",
      "First row with non 'Not Assigned' borough: ['M3A', 'North York', 'Parkwoods']\n"
     ]
    }
   ],
   "source": [
    "# Initiate lists\n",
    "postcode = []\n",
    "borough = []\n",
    "neighborhood = []\n",
    "\n",
    "# The index of the first row with non 'Not Assigned' borough\n",
    "i = 1\n",
    "\n",
    "# Find the index of the first row with non 'Not Assigned' borough\n",
    "for j in range (1, len(rows)) : # Starts from 1 because first row is header\n",
    "    parsed_row = rows[j].find_all('td')\n",
    "    if parsed_row[1].text != 'Not assigned' : # Borough is not 'Not Assigned'\n",
    "        i = j # Update the index of the first row with non 'Not Assigned' borough\n",
    "        break # Leave for loop\n",
    "print(\"The index of the first row with non 'Not Assigned' borough: \" + str(i))\n",
    "\n",
    " # Parse the first row with non 'Not Assigned' borough and append data to the lists\n",
    "parsed_row = rows[i].find_all('td') # Parse the first row with non 'Not Assigned' borough\n",
    "postcode.append(parsed_row[0].text) # Append postcode to postcode list\n",
    "borough.append(parsed_row[1].text) # Append borough to borough list\n",
    "if parsed_row[2].text.rstrip() == 'Not assigned' : # Neighborhood is 'Not Assigned'\n",
    "    neighborhood.append(parsed_row[1]).text # Append borough to the neighborhood list\n",
    "else : # Neighborhood is not 'Not Assigned'\n",
    "    neighborhood.append(parsed_row[2].text.rstrip()) # Append neighborhood to neighborhood list\n",
    "\n",
    "print(\"First row with non 'Not Assigned' borough: \" + str(postcode + borough + neighborhood))\n",
    "\n",
    "# Start with the next row and traverse rows\n",
    "for k in range (i + 1, len(rows)) :\n",
    "    parsed_row = rows[k].find_all('td')\n",
    "    if parsed_row[0].text == postcode[-1] : # Postcodes are not different\n",
    "        if parsed_row[2].text.rstrip() == 'Not assigned' : # Neighborhood is 'Not Assigned'\n",
    "            neighborhood[-1] += ', ' + parsed_row[1].text # Add borough to the neighborhood\n",
    "        else : # Neighborhood is not 'Not Assigned'\n",
    "            neighborhood[-1] += ', ' + parsed_row[2].text.rstrip() # Add neighborhood to the neighborhood\n",
    "    else : # Postcodes are different\n",
    "        if parsed_row[1].text != 'Not assigned' : # Borough is not 'Not Assigned'\n",
    "            postcode.append(parsed_row[0].text) # Append postcode to postcode list\n",
    "            borough.append(parsed_row[1].text) # Append borough to borough list\n",
    "            if parsed_row[2].text.rstrip() == 'Not assigned' : # Neighborhood is 'Not Assigned'\n",
    "                neighborhood.append(parsed_row[1].text) # Append borough to neighborhood list\n",
    "            else : # Neighborhood is not 'Not Assigned'\n",
    "                neighborhood.append(parsed_row[2].text.rstrip()) # Append neighborhood to neighborhood list"
   ]
  },
  {
   "cell_type": "markdown",
   "metadata": {},
   "source": [
    "Import pandas library and zip the lists to convert to a dataframe"
   ]
  },
  {
   "cell_type": "code",
   "execution_count": 6,
   "metadata": {},
   "outputs": [
    {
     "data": {
      "text/html": [
       "<div>\n",
       "<style scoped>\n",
       "    .dataframe tbody tr th:only-of-type {\n",
       "        vertical-align: middle;\n",
       "    }\n",
       "\n",
       "    .dataframe tbody tr th {\n",
       "        vertical-align: top;\n",
       "    }\n",
       "\n",
       "    .dataframe thead th {\n",
       "        text-align: right;\n",
       "    }\n",
       "</style>\n",
       "<table border=\"1\" class=\"dataframe\">\n",
       "  <thead>\n",
       "    <tr style=\"text-align: right;\">\n",
       "      <th></th>\n",
       "      <th>Postcode</th>\n",
       "      <th>Borough</th>\n",
       "      <th>Neighborhood</th>\n",
       "    </tr>\n",
       "  </thead>\n",
       "  <tbody>\n",
       "    <tr>\n",
       "      <th>0</th>\n",
       "      <td>M3A</td>\n",
       "      <td>North York</td>\n",
       "      <td>Parkwoods</td>\n",
       "    </tr>\n",
       "    <tr>\n",
       "      <th>1</th>\n",
       "      <td>M4A</td>\n",
       "      <td>North York</td>\n",
       "      <td>Victoria Village</td>\n",
       "    </tr>\n",
       "    <tr>\n",
       "      <th>2</th>\n",
       "      <td>M5A</td>\n",
       "      <td>Downtown Toronto</td>\n",
       "      <td>Harbourfront, Regent Park</td>\n",
       "    </tr>\n",
       "    <tr>\n",
       "      <th>3</th>\n",
       "      <td>M6A</td>\n",
       "      <td>North York</td>\n",
       "      <td>Lawrence Heights, Lawrence Manor</td>\n",
       "    </tr>\n",
       "    <tr>\n",
       "      <th>4</th>\n",
       "      <td>M7A</td>\n",
       "      <td>Queen's Park</td>\n",
       "      <td>Queen's Park</td>\n",
       "    </tr>\n",
       "    <tr>\n",
       "      <th>5</th>\n",
       "      <td>M9A</td>\n",
       "      <td>Etobicoke</td>\n",
       "      <td>Islington Avenue</td>\n",
       "    </tr>\n",
       "    <tr>\n",
       "      <th>6</th>\n",
       "      <td>M1B</td>\n",
       "      <td>Scarborough</td>\n",
       "      <td>Rouge, Malvern</td>\n",
       "    </tr>\n",
       "    <tr>\n",
       "      <th>7</th>\n",
       "      <td>M3B</td>\n",
       "      <td>North York</td>\n",
       "      <td>Don Mills North</td>\n",
       "    </tr>\n",
       "    <tr>\n",
       "      <th>8</th>\n",
       "      <td>M4B</td>\n",
       "      <td>East York</td>\n",
       "      <td>Woodbine Gardens, Parkview Hill</td>\n",
       "    </tr>\n",
       "    <tr>\n",
       "      <th>9</th>\n",
       "      <td>M5B</td>\n",
       "      <td>Downtown Toronto</td>\n",
       "      <td>Ryerson, Garden District</td>\n",
       "    </tr>\n",
       "    <tr>\n",
       "      <th>10</th>\n",
       "      <td>M6B</td>\n",
       "      <td>North York</td>\n",
       "      <td>Glencairn</td>\n",
       "    </tr>\n",
       "    <tr>\n",
       "      <th>11</th>\n",
       "      <td>M9B</td>\n",
       "      <td>Etobicoke</td>\n",
       "      <td>Cloverdale, Islington, Martin Grove, Princess ...</td>\n",
       "    </tr>\n",
       "  </tbody>\n",
       "</table>\n",
       "</div>"
      ],
      "text/plain": [
       "   Postcode           Borough  \\\n",
       "0       M3A        North York   \n",
       "1       M4A        North York   \n",
       "2       M5A  Downtown Toronto   \n",
       "3       M6A        North York   \n",
       "4       M7A      Queen's Park   \n",
       "5       M9A         Etobicoke   \n",
       "6       M1B       Scarborough   \n",
       "7       M3B        North York   \n",
       "8       M4B         East York   \n",
       "9       M5B  Downtown Toronto   \n",
       "10      M6B        North York   \n",
       "11      M9B         Etobicoke   \n",
       "\n",
       "                                         Neighborhood  \n",
       "0                                           Parkwoods  \n",
       "1                                    Victoria Village  \n",
       "2                           Harbourfront, Regent Park  \n",
       "3                    Lawrence Heights, Lawrence Manor  \n",
       "4                                        Queen's Park  \n",
       "5                                    Islington Avenue  \n",
       "6                                      Rouge, Malvern  \n",
       "7                                     Don Mills North  \n",
       "8                     Woodbine Gardens, Parkview Hill  \n",
       "9                            Ryerson, Garden District  \n",
       "10                                          Glencairn  \n",
       "11  Cloverdale, Islington, Martin Grove, Princess ...  "
      ]
     },
     "execution_count": 6,
     "metadata": {},
     "output_type": "execute_result"
    }
   ],
   "source": [
    "import pandas as pd\n",
    "list_of_tuples = list(zip(postcode, borough, neighborhood))\n",
    "df = pd.DataFrame(list_of_tuples, columns = ['Postcode', 'Borough', 'Neighborhood'])\n",
    "df.head(12)"
   ]
  },
  {
   "cell_type": "markdown",
   "metadata": {},
   "source": [
    "There are 103 rows in the dataframe as seen below"
   ]
  },
  {
   "cell_type": "code",
   "execution_count": 7,
   "metadata": {},
   "outputs": [
    {
     "data": {
      "text/plain": [
       "(103, 3)"
      ]
     },
     "execution_count": 7,
     "metadata": {},
     "output_type": "execute_result"
    }
   ],
   "source": [
    "df.shape"
   ]
  }
 ],
 "metadata": {
  "kernelspec": {
   "display_name": "Python 3",
   "language": "python",
   "name": "python3"
  },
  "language_info": {
   "codemirror_mode": {
    "name": "ipython",
    "version": 3
   },
   "file_extension": ".py",
   "mimetype": "text/x-python",
   "name": "python",
   "nbconvert_exporter": "python",
   "pygments_lexer": "ipython3",
   "version": "3.7.1"
  }
 },
 "nbformat": 4,
 "nbformat_minor": 2
}
